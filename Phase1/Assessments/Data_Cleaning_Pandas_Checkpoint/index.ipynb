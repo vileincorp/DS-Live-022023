{
 "cells": [
  {
   "cell_type": "markdown",
   "metadata": {
    "nbgrader": {
     "grade": false,
     "grade_id": "cell-c7f9c59fb9da20bc",
     "locked": true,
     "schema_version": 3,
     "solution": false,
     "task": false
    }
   },
   "source": [
    "# Pandas Data Cleaning Checkpoint\n",
    "\n",
    "This checkpoint is designed to test your understanding of the content from the Pandas Data Cleaning Cumulative Lab.\n",
    "\n",
    "Specifically, this will cover:\n",
    "\n",
    "* Using pandas to filter data\n",
    "* Using pandas to handle missing values\n",
    "* Using matplotlib to create a graph using data from a dataframe\n",
    "\n",
    "## Your Task: Analyze Superhero Eye Color\n",
    "\n",
    "### Data Understanding\n",
    "\n",
    "In this repository under the file path `data/heroes_information.csv` there is a CSV file containing information about various characters from superhero media properties.\n",
    "\n",
    "The features of interest for this analysis will be:\n",
    "\n",
    "`name`: The name (or AKA) of the character\n",
    "\n",
    "`Eye color`: The eye color of the character\n",
    "\n",
    "`Alignment`: \"good\", \"bad\", or \"neutral\". For the purposes of this analysis, we will only consider those with \"good\" alignment to be \"superheroes\"\n",
    "\n",
    "### Requirements\n",
    "\n",
    "#### 1. Filter Data to Relevant Columns\n",
    "\n",
    "#### 2. Filter Data to Relevant Rows\n",
    "\n",
    "#### 3. Drop Rows with Missing Values\n",
    "\n",
    "#### 4. Find the Top 5 Most Common Eye Colors\n",
    "\n",
    "#### 5. Plot a Bar Chart of Eye Colors\n",
    "\n",
    "### Setup\n",
    "\n",
    "In the cell below we import the relevant libraries, open up the CSV file as a dataframe called `df`, and convert cells containing `-` into cells containing `NaN` (because `-` was used to represent missing data in the original dataset).\n",
    "\n",
    "***Hint:*** If you ever accidentally drop data that you didn't mean to drop, you can come back to this cell and re-run it to load a fresh copy of the data. Before submission, make sure you restart the kernel and run all of the cells to make sure that everything works in order."
   ]
  },
  {
   "cell_type": "code",
   "execution_count": null,
   "metadata": {
    "nbgrader": {
     "grade": false,
     "grade_id": "cell-2a680a5b090b864e",
     "locked": true,
     "schema_version": 3,
     "solution": false,
     "task": false
    }
   },
   "outputs": [],
   "source": [
    "# Run this cell without changes\n",
    "import pandas as pd\n",
    "import numpy as np\n",
    "import matplotlib.pyplot as plt\n",
    "\n",
    "df = pd.read_csv(\"heroes_information.csv\", index_col=0)\n",
    "df.replace(\"-\", np.nan, inplace=True)\n",
    "\n",
    "df"
   ]
  },
  {
   "cell_type": "markdown",
   "metadata": {
    "nbgrader": {
     "grade": false,
     "grade_id": "cell-3b8b175f2cc98c2e",
     "locked": true,
     "schema_version": 3,
     "solution": false,
     "task": false
    }
   },
   "source": [
    "## 1. Filter Data to Relevant Columns\n",
    "\n",
    "Modify `df` so that it only contains the relevant columns for our analysis. These columns are listed as a list of strings for your convenience below.\n",
    "\n",
    "When you are finished with this question, `df` should have the same number of rows as before (734 rows) but only 3 columns.\n",
    "\n",
    "***Hint:*** if you are seeing the correct output but the test is failing, make sure that you are actually modifying `df`, either by reassigning it (`df = `...) or by using `inplace=True` (where applicable)."
   ]
  },
  {
   "cell_type": "code",
   "execution_count": null,
   "metadata": {
    "nbgrader": {
     "grade": false,
     "grade_id": "cell-ca673c04964de7c0",
     "locked": true,
     "schema_version": 3,
     "solution": false,
     "task": false
    }
   },
   "outputs": [],
   "source": [
    "# Run this cell without changes\n",
    "relevant_columns = [\n",
    "    \"name\",\n",
    "    \"Eye color\",\n",
    "    \"Alignment\"\n",
    "]"
   ]
  },
  {
   "cell_type": "code",
   "execution_count": null,
   "metadata": {},
   "outputs": [],
   "source": [
    "# CodeGrade step1\n",
    "# Replace None with appropriate code\n",
    "\n",
    "df = None\n",
    "\n",
    "df"
   ]
  },
  {
   "cell_type": "code",
   "execution_count": null,
   "metadata": {},
   "outputs": [],
   "source": [
    "# df should now have 734 rows and 3 columns\n",
    "assert df.shape == (734, 3)"
   ]
  },
  {
   "cell_type": "markdown",
   "metadata": {
    "nbgrader": {
     "grade": false,
     "grade_id": "cell-bd0dd4d8de147e87",
     "locked": true,
     "schema_version": 3,
     "solution": false,
     "task": false
    }
   },
   "source": [
    "## 2. Filter Data to Relevant Rows\n",
    "\n",
    "Now, modify `df` so that it only contains rows where `Alignment` is `\"good\"`.\n",
    "\n",
    "When you are finished with this question, `df` should still have 3 columns, but fewer rows."
   ]
  },
  {
   "cell_type": "code",
   "execution_count": null,
   "metadata": {},
   "outputs": [],
   "source": [
    "# CodeGrade step2\n",
    "# Replace None with appropriate code\n",
    "\n",
    "df = None\n",
    "\n",
    "df"
   ]
  },
  {
   "cell_type": "code",
   "execution_count": null,
   "metadata": {},
   "outputs": [],
   "source": [
    "# df should now have 496 rows and 3 columns\n",
    "assert df.shape == (496, 3)"
   ]
  },
  {
   "cell_type": "markdown",
   "metadata": {
    "nbgrader": {
     "grade": false,
     "grade_id": "cell-52ef838f067405f0",
     "locked": true,
     "schema_version": 3,
     "solution": false,
     "task": false
    }
   },
   "source": [
    "## 3. Drop Rows with Missing Values\n",
    "\n",
    "Now that all rows in the dataset are superheroes (alignment of \"good\"), note that we are missing the eye color for some of them:"
   ]
  },
  {
   "cell_type": "code",
   "execution_count": null,
   "metadata": {
    "nbgrader": {
     "grade": false,
     "grade_id": "cell-6462aa8a3e397959",
     "locked": true,
     "schema_version": 3,
     "solution": false,
     "task": false
    }
   },
   "outputs": [],
   "source": [
    "# Run this cell without changes\n",
    "df.info()"
   ]
  },
  {
   "cell_type": "markdown",
   "metadata": {
    "nbgrader": {
     "grade": false,
     "grade_id": "cell-f85f004615994ce8",
     "locked": true,
     "schema_version": 3,
     "solution": false,
     "task": false
    }
   },
   "source": [
    "Modify `df` so that it only contains rows where `Eye color` is not missing (i.e. is not NaN).\n",
    "\n",
    "Again, when you are finished with this question, `df` should still have 3 columns, but fewer rows again."
   ]
  },
  {
   "cell_type": "code",
   "execution_count": null,
   "metadata": {},
   "outputs": [],
   "source": [
    "# CodeGrade step3\n",
    "# Replace None with appropriate code\n",
    "\n",
    "df = None\n",
    "\n",
    "df"
   ]
  },
  {
   "cell_type": "code",
   "execution_count": null,
   "metadata": {},
   "outputs": [],
   "source": [
    "# df should now have 378 rows and 3 columns\n",
    "assert df.shape == (378, 3)"
   ]
  },
  {
   "cell_type": "markdown",
   "metadata": {
    "nbgrader": {
     "grade": false,
     "grade_id": "cell-af9625f4b0e12775",
     "locked": true,
     "schema_version": 3,
     "solution": false,
     "task": false
    }
   },
   "source": [
    "## 4. Find the Top 5 Most Common Eye Colors\n",
    "\n",
    "Create a variable `top_eye_colors` that represents the top 5 most common eye colors in the dataset. Then create a variable `top_eye_color_counts` that represents the corresponding frequencies.\n",
    "\n",
    "`top_eye_colors` should be a list of strings, ordered from the most common to the 5th most common. `top_eye_color_counts` should be a list of integers, ordered from the highest count to the 5th highest.\n",
    "\n",
    "***Hint:*** If you have a list-like data structure (e.g. a pandas series or NumPy array), you can easily convert it to a Python list using `list()`."
   ]
  },
  {
   "cell_type": "code",
   "execution_count": null,
   "metadata": {
    "nbgrader": {
     "grade": false,
     "grade_id": "cell-a98fb450d5f9d47d",
     "locked": false,
     "schema_version": 3,
     "solution": true,
     "task": false
    }
   },
   "outputs": [],
   "source": [
    "# CodeGrade step4\n",
    "# Replace None with appropriate code\n",
    "\n",
    "top_eye_colors = None\n",
    "top_eye_color_counts = None\n",
    "\n",
    "print(\"Colors:\", top_eye_colors)\n",
    "print(\"Counts:\", top_eye_color_counts)"
   ]
  },
  {
   "cell_type": "code",
   "execution_count": null,
   "metadata": {},
   "outputs": [],
   "source": [
    "# top_eye_colors should be a list of strings\n",
    "assert type(top_eye_colors) == list\n",
    "assert type(top_eye_colors[0]) == str\n",
    "\n",
    "# There should be 5 eye colors in top_eye_colors\n",
    "assert len(top_eye_colors) == 5\n",
    "\n",
    "# \"blue\" should be one of the eye colors in the list\n",
    "assert \"blue\" in top_eye_colors"
   ]
  },
  {
   "cell_type": "code",
   "execution_count": null,
   "metadata": {},
   "outputs": [],
   "source": [
    "# top_eye_color_counts should be a list of integers\n",
    "assert type(top_eye_color_counts) == list\n",
    "assert type(top_eye_color_counts[0]) == int or type(top_eye_color_counts[0]) == np.int64\n",
    "\n",
    "# There should be 5 values in top_eye_color_counts\n",
    "assert len(top_eye_color_counts) == 5\n",
    "\n",
    "# 167 should be one of the counts in the list\n",
    "assert 167 in top_eye_color_counts"
   ]
  },
  {
   "cell_type": "markdown",
   "metadata": {
    "nbgrader": {
     "grade": false,
     "grade_id": "cell-0cbdc64250c9524e",
     "locked": true,
     "schema_version": 3,
     "solution": false,
     "task": false
    }
   },
   "source": [
    "## 5. Plot a Bar Chart of Popular Eye Colors\n",
    "\n",
    "Create a matplotlib figure called `fig` containing a labeled bar chart with the number of superheroes who have each of the top 5 most popular eye colors (as encoded in `top_eye_colors` and `top_eye_color_counts`). You can find bar chart documentation [here](https://matplotlib.org/stable/api/_as_gen/matplotlib.axes.Axes.bar.html#matplotlib.axes.Axes.bar).\n",
    "\n",
    "### Alternative Data\n",
    "\n",
    "If you were not able to complete the previous question, you can use these hard-coded eye colors:\n",
    "\n",
    "```\n",
    "red\n",
    "orange\n",
    "yellow\n",
    "green\n",
    "blue\n",
    "```\n",
    "\n",
    "And these hard-coded counts:\n",
    "\n",
    "```\n",
    "46\n",
    "2\n",
    "19\n",
    "73\n",
    "167\n",
    "```\n",
    "\n",
    "***Note:*** there is no need to use the above values if you were able to complete the previous question and you have valid `top_eye_colors` and `top_eye_color_counts` variables.\n",
    "\n",
    "### Starter Code\n",
    "\n",
    "The starter code creates a figure called `fig` and axes called `ax`. Use those variables in your solution in order to pass the test.\n",
    "\n",
    "**DO NOT** use the `df.plot` interface to answer this question. Use the `fig` and `ax` variables provided.\n",
    "\n",
    "Set the *axes* title to `bar_chart_title` specified below."
   ]
  },
  {
   "cell_type": "code",
   "execution_count": null,
   "metadata": {
    "nbgrader": {
     "grade": false,
     "grade_id": "cell-143d320c2f71e081",
     "locked": false,
     "schema_version": 3,
     "solution": true,
     "task": false
    }
   },
   "outputs": [],
   "source": [
    "# CodeGrade step5\n",
    "\n",
    "bar_chart_title = \"Top 5 Most Common Superhero Eye Colors\"\n",
    "\n",
    "fig, ax = plt.subplots()\n",
    "\n",
    "# Your code here\n",
    "\n"
   ]
  },
  {
   "cell_type": "code",
   "execution_count": null,
   "metadata": {},
   "outputs": [],
   "source": [
    "# The axis should contain 5 bars\n",
    "assert len(ax.containers[0]) == 5\n",
    "\n",
    "# One of the x tick labels should be \"blue\"\n",
    "tick_text = [tick.get_text() for tick in ax.get_xticklabels()]\n",
    "assert \"blue\" in tick_text"
   ]
  },
  {
   "cell_type": "code",
   "execution_count": null,
   "metadata": {},
   "outputs": [],
   "source": []
  }
 ],
 "metadata": {
  "celltoolbar": "Create Assignment",
  "kernelspec": {
   "display_name": "Python (learn-env)",
   "language": "python",
   "name": "learn-env"
  },
  "language_info": {
   "codemirror_mode": {
    "name": "ipython",
    "version": 3
   },
   "file_extension": ".py",
   "mimetype": "text/x-python",
   "name": "python",
   "nbconvert_exporter": "python",
   "pygments_lexer": "ipython3",
   "version": "3.8.5"
  }
 },
 "nbformat": 4,
 "nbformat_minor": 4
}
