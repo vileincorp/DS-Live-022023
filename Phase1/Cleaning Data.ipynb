{
 "cells": [
  {
   "cell_type": "code",
   "execution_count": 1,
   "metadata": {},
   "outputs": [],
   "source": [
    "import requests\n",
    "\n",
    "url = \"https://tokapi-mobile-version.p.rapidapi.com/v1/category\"\n",
    "\n",
    "querystring = {\"count\":\"10\",\"region\":\"US\"}\n",
    "\n",
    "headers = {\n",
    "\t\"X-RapidAPI-Key\": \"0add8d880fmsh396f099a8d6117ep18d538jsnaed5915cac09\",\n",
    "\t\"X-RapidAPI-Host\": \"tokapi-mobile-version.p.rapidapi.com\"\n",
    "}"
   ]
  },
  {
   "cell_type": "code",
   "execution_count": 2,
   "metadata": {},
   "outputs": [
    {
     "data": {
      "text/plain": [
       "'https://tokapi-mobile-version.p.rapidapi.com/v1/category'"
      ]
     },
     "execution_count": 2,
     "metadata": {},
     "output_type": "execute_result"
    }
   ],
   "source": [
    "url"
   ]
  },
  {
   "cell_type": "code",
   "execution_count": null,
   "metadata": {},
   "outputs": [],
   "source": []
  }
 ],
 "metadata": {
  "kernelspec": {
   "display_name": "Python (learn-env)",
   "language": "python",
   "name": "learn-env"
  },
  "language_info": {
   "codemirror_mode": {
    "name": "ipython",
    "version": 3
   },
   "file_extension": ".py",
   "mimetype": "text/x-python",
   "name": "python",
   "nbconvert_exporter": "python",
   "pygments_lexer": "ipython3",
   "version": "3.8.5"
  }
 },
 "nbformat": 4,
 "nbformat_minor": 4
}
