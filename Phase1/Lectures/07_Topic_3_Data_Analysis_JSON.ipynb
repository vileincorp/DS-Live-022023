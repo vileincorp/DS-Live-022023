{
 "cells": [
  {
   "cell_type": "markdown",
   "metadata": {},
   "source": [
    "![more_data](data:image/png;base64,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)"
   ]
  },
  {
   "cell_type": "markdown",
   "metadata": {
    "heading_collapsed": true
   },
   "source": [
    "# Learning Objectives"
   ]
  },
  {
   "cell_type": "markdown",
   "metadata": {
    "hidden": true
   },
   "source": [
    "- Load and explore a .json file in Python\n",
    "- Create a clean data structure from a .json file\n",
    "- Conduct descriptive analysis\n",
    "- Visualize the results"
   ]
  },
  {
   "cell_type": "markdown",
   "metadata": {
    "hidden": true
   },
   "source": [
    "Part of being a good data scientist is having the capacity to work with data in many different forms. Much data online is stored in JSON format. So let's see if we can conduct a descriptive analysis of data when it's given to us in that form!"
   ]
  },
  {
   "cell_type": "markdown",
   "metadata": {},
   "source": [
    "## What is JSON?\n",
    "\n",
    "JSON stands for Java Script Object Notation. \n",
    "\n",
    "JSON objects are one common way that data is transmitted over the web.  It is notable for being lightweight, which makes it [preferred](https://stackoverflow.com/questions/383692/what-is-json-and-why-would-i-use-it), generally, over XML."
   ]
  },
  {
   "cell_type": "markdown",
   "metadata": {
    "hidden": true
   },
   "source": [
    "```json\n",
    "{\"menu\": {\n",
    "  \"id\": 12412,\n",
    "  \"istest\": true,\n",
    "  \"value\": \"File\",\n",
    "  \"popup\": {\n",
    "    \"menuitem\": [\n",
    "      {\"value\": \"New\", \"onclick\": \"CreateNewDoc()\"},\n",
    "      {\"value\": \"Open\", \"onclick\": \"OpenDoc()\"},\n",
    "      {\"value\": \"Close\", \"onclick\": \"CloseDoc()\"}\n",
    "    ]\n",
    "  }\n",
    "}}\n",
    "```"
   ]
  },
  {
   "cell_type": "markdown",
   "metadata": {
    "heading_collapsed": true,
    "hidden": true
   },
   "source": [
    "## JSON Format"
   ]
  },
  {
   "cell_type": "markdown",
   "metadata": {
    "hidden": true
   },
   "source": [
    "JSON objects store data in a format similar to a nested Python dictionary. The JSON format makes it easy to store as a file, transfer between users, and use in other languages.\n",
    "\n",
    "For more information about the syntax of JSON files, check out this [link](https://www.json.org/json-en.html) to the JSON website."
   ]
  },
  {
   "cell_type": "markdown",
   "metadata": {
    "ExecuteTime": {
     "end_time": "2021-06-10T04:15:20.107976Z",
     "start_time": "2021-06-10T04:15:20.101838Z"
    },
    "hidden": true
   },
   "source": [
    "Can have these types in it (all relatable to Python types):\n",
    "\n",
    "|JavaScript|JS Example               |Python Equivalent|Python Example           |\n",
    "|----------|-------------------------|-----------------|-------------------------|\n",
    "|Objects   |`{'key0':'v12','v':1}`   |Dictionaries     |`{'key0':'v12','v':1}`   |\n",
    "|Arrays    |`[1, 'one', 'two', 3, 5]`|Lists            |`[1, 'one', 'two', 3, 5]`|\n",
    "|Strings   |`'One'` or `\"Two\"`       |Strings          |`'One'` or `\"Two\"`       |\n",
    "|Numbers   |`1234.5` or `8675309`    |Numbers          |`1234.5` or `8675309`    |  \n",
    "|Boolean   |`true` or `false`        |Boolean          |`True` or `False`        |\n",
    "|Null Value|`null`                   |None Value       |`None`                   |"
   ]
  },
  {
   "cell_type": "markdown",
   "metadata": {
    "heading_collapsed": true
   },
   "source": [
    "# Loading a JSON File"
   ]
  },
  {
   "cell_type": "markdown",
   "metadata": {
    "hidden": true
   },
   "source": [
    "For this example, we've created a `new_releases.json` file containing data on 20 newly released music albums. We got this from the Spotify API - we'll explain what this means later. \n",
    "\n",
    "Let's begin by importing the `json` package, opening a file with python's `open()` function, and then loading that data from the JSON file into a new `data` object."
   ]
  },
  {
   "cell_type": "code",
   "execution_count": 4,
   "metadata": {},
   "outputs": [],
   "source": [
    "# We'll need to import the json package first\n",
    "import json"
   ]
  },
  {
   "cell_type": "code",
   "execution_count": 7,
   "metadata": {
    "hidden": true
   },
   "outputs": [
    {
     "ename": "SyntaxError",
     "evalue": "invalid syntax (<ipython-input-7-ea533665d9f6>, line 2)",
     "output_type": "error",
     "traceback": [
      "\u001b[1;36m  File \u001b[1;32m\"<ipython-input-7-ea533665d9f6>\"\u001b[1;36m, line \u001b[1;32m2\u001b[0m\n\u001b[1;33m    with open('data new_releases.json') as f\u001b[0m\n\u001b[1;37m                                            ^\u001b[0m\n\u001b[1;31mSyntaxError\u001b[0m\u001b[1;31m:\u001b[0m invalid syntax\n"
     ]
    }
   ],
   "source": [
    "# Now use with open to load the file\n",
    "with open('data new_releases.json') as f"
   ]
  },
  {
   "cell_type": "markdown",
   "metadata": {
    "hidden": true
   },
   "source": [
    "The Spotify API returned the data in the form of JSON object, which the `json` module transforms into a Python object."
   ]
  },
  {
   "cell_type": "markdown",
   "metadata": {
    "heading_collapsed": true,
    "hidden": true
   },
   "source": [
    "## Exploring JSON Schemas  "
   ]
  },
  {
   "cell_type": "markdown",
   "metadata": {
    "hidden": true
   },
   "source": [
    "Recall that JSON files have a nested structure. The deepest levels of our object will contain individual values: numbers, booleans or strings. These in turn will be stored in the equivalents of Python lists and dictionaries, usually with many levels of nesting. \n",
    "\n",
    "If you try to look at a raw JSON file, you will likely have a hard time understanding the structure. To more easily make sense of it, we will proceed through each level methodically."
   ]
  },
  {
   "cell_type": "code",
   "execution_count": 1,
   "metadata": {
    "hidden": true
   },
   "outputs": [
    {
     "ename": "NameError",
     "evalue": "name 'data' is not defined",
     "output_type": "error",
     "traceback": [
      "\u001b[1;31m---------------------------------------------------------------------------\u001b[0m",
      "\u001b[1;31mNameError\u001b[0m                                 Traceback (most recent call last)",
      "\u001b[1;32m<ipython-input-1-099075cc355d>\u001b[0m in \u001b[0;36m<module>\u001b[1;34m\u001b[0m\n\u001b[0;32m      1\u001b[0m \u001b[1;31m# This will look messy\u001b[0m\u001b[1;33m\u001b[0m\u001b[1;33m\u001b[0m\u001b[1;33m\u001b[0m\u001b[0m\n\u001b[1;32m----> 2\u001b[1;33m \u001b[0mprint\u001b[0m\u001b[1;33m(\u001b[0m\u001b[0mdata\u001b[0m\u001b[1;33m)\u001b[0m\u001b[1;33m\u001b[0m\u001b[1;33m\u001b[0m\u001b[0m\n\u001b[0m",
      "\u001b[1;31mNameError\u001b[0m: name 'data' is not defined"
     ]
    }
   ],
   "source": [
    "# This will look messy\n",
    "print(data)"
   ]
  },
  {
   "cell_type": "code",
   "execution_count": 2,
   "metadata": {
    "hidden": true
   },
   "outputs": [
    {
     "ename": "NameError",
     "evalue": "name 'json' is not defined",
     "output_type": "error",
     "traceback": [
      "\u001b[1;31m---------------------------------------------------------------------------\u001b[0m",
      "\u001b[1;31mNameError\u001b[0m                                 Traceback (most recent call last)",
      "\u001b[1;32m<ipython-input-2-b164d3832ce4>\u001b[0m in \u001b[0;36m<module>\u001b[1;34m\u001b[0m\n\u001b[0;32m      1\u001b[0m \u001b[1;31m# One way to make it easier to read\u001b[0m\u001b[1;33m\u001b[0m\u001b[1;33m\u001b[0m\u001b[1;33m\u001b[0m\u001b[0m\n\u001b[1;32m----> 2\u001b[1;33m \u001b[0mprint\u001b[0m\u001b[1;33m(\u001b[0m\u001b[0mjson\u001b[0m\u001b[1;33m.\u001b[0m\u001b[0mdumps\u001b[0m\u001b[1;33m(\u001b[0m\u001b[0mdata\u001b[0m\u001b[1;33m,\u001b[0m \u001b[0mindent\u001b[0m\u001b[1;33m=\u001b[0m\u001b[1;36m4\u001b[0m\u001b[1;33m)\u001b[0m\u001b[1;33m)\u001b[0m\u001b[1;33m\u001b[0m\u001b[1;33m\u001b[0m\u001b[0m\n\u001b[0m",
      "\u001b[1;31mNameError\u001b[0m: name 'json' is not defined"
     ]
    }
   ],
   "source": [
    "# One way to make it easier to read\n",
    "print(json.dumps(data, indent=4))"
   ]
  },
  {
   "cell_type": "code",
   "execution_count": null,
   "metadata": {
    "hidden": true
   },
   "outputs": [],
   "source": [
    "# Using the default Jupyter Notebook's display() helps\n",
    "display(data) \n",
    "# Uncomment this to do the same as just displaying the last line\n",
    "# data"
   ]
  },
  {
   "cell_type": "markdown",
   "metadata": {
    "hidden": true
   },
   "source": [
    "To start exploring, let's check the type of our new `data` object and start mapping out the hierarchy."
   ]
  },
  {
   "cell_type": "code",
   "execution_count": null,
   "metadata": {
    "hidden": true
   },
   "outputs": [],
   "source": [
    "data.keys(['albums'])"
   ]
  },
  {
   "cell_type": "code",
   "execution_count": null,
   "metadata": {
    "hidden": true
   },
   "outputs": [],
   "source": []
  },
  {
   "cell_type": "markdown",
   "metadata": {
    "hidden": true
   },
   "source": [
    "In this case, there is only a single key, 'albums', so we'll continue on down the pathway exploring and mapping out the hierarchy. Once again, let's start by checking the type of this nested data structure."
   ]
  },
  {
   "cell_type": "code",
   "execution_count": null,
   "metadata": {
    "hidden": true
   },
   "outputs": [],
   "source": [
    "data['albums']"
   ]
  },
  {
   "cell_type": "code",
   "execution_count": 3,
   "metadata": {
    "hidden": true
   },
   "outputs": [
    {
     "ename": "NameError",
     "evalue": "name 'data' is not defined",
     "output_type": "error",
     "traceback": [
      "\u001b[1;31m---------------------------------------------------------------------------\u001b[0m",
      "\u001b[1;31mNameError\u001b[0m                                 Traceback (most recent call last)",
      "\u001b[1;32m<ipython-input-3-a07c9f0bbb4d>\u001b[0m in \u001b[0;36m<module>\u001b[1;34m\u001b[0m\n\u001b[1;32m----> 1\u001b[1;33m \u001b[0mdata\u001b[0m\u001b[1;33m[\u001b[0m\u001b[1;34m'albums'\u001b[0m\u001b[1;33m]\u001b[0m\u001b[1;33m.\u001b[0m\u001b[0mkeys\u001b[0m\u001b[1;33m(\u001b[0m\u001b[1;33m)\u001b[0m\u001b[1;33m\u001b[0m\u001b[1;33m\u001b[0m\u001b[0m\n\u001b[0m",
      "\u001b[1;31mNameError\u001b[0m: name 'data' is not defined"
     ]
    }
   ],
   "source": [
    "data['albums'].keys()"
   ]
  },
  {
   "cell_type": "code",
   "execution_count": null,
   "metadata": {},
   "outputs": [],
   "source": [
    "data['albums']['items'][0].keys()"
   ]
  },
  {
   "cell_type": "code",
   "execution_count": null,
   "metadata": {},
   "outputs": [],
   "source": [
    "data['albums']['items']['artists']"
   ]
  },
  {
   "cell_type": "markdown",
   "metadata": {
    "hidden": true
   },
   "source": [
    "At this point, things are starting to look something like this: \n",
    "\n",
    "![](images/json_diagram1.jpg)\n",
    "\n",
    "If we were to continue checking individual data types, we'd have a lot to go through. To simplify this, let's use a `for` loop:"
   ]
  },
  {
   "cell_type": "code",
   "execution_count": null,
   "metadata": {
    "hidden": true
   },
   "outputs": [],
   "source": [
    "for key, value in data['albums'].items():\n",
    "    print(key, type(value))"
   ]
  },
  {
   "cell_type": "markdown",
   "metadata": {
    "hidden": true
   },
   "source": [
    "Adding this to our diagram, we now have something like this:\n",
    "\n",
    "![](images/json_diagram2.jpg)\n",
    "\n",
    "Let's look at the `items` list - this contains the album information. "
   ]
  },
  {
   "cell_type": "code",
   "execution_count": null,
   "metadata": {
    "hidden": true
   },
   "outputs": [],
   "source": []
  },
  {
   "cell_type": "code",
   "execution_count": null,
   "metadata": {
    "hidden": true,
    "scrolled": true
   },
   "outputs": [],
   "source": []
  },
  {
   "cell_type": "markdown",
   "metadata": {
    "hidden": true
   },
   "source": [
    "We access values as we would for nested lists or dictionaries in Python."
   ]
  },
  {
   "cell_type": "code",
   "execution_count": 8,
   "metadata": {
    "hidden": true
   },
   "outputs": [
    {
     "ename": "NameError",
     "evalue": "name 'data' is not defined",
     "output_type": "error",
     "traceback": [
      "\u001b[1;31m---------------------------------------------------------------------------\u001b[0m",
      "\u001b[1;31mNameError\u001b[0m                                 Traceback (most recent call last)",
      "\u001b[1;32m<ipython-input-8-3d2368d10cf8>\u001b[0m in \u001b[0;36m<module>\u001b[1;34m\u001b[0m\n\u001b[1;32m----> 1\u001b[1;33m \u001b[0mdata\u001b[0m\u001b[1;33m[\u001b[0m\u001b[1;34m'albums'\u001b[0m\u001b[1;33m]\u001b[0m\u001b[1;33m[\u001b[0m\u001b[1;34m'items'\u001b[0m\u001b[1;33m]\u001b[0m\u001b[1;33m[\u001b[0m\u001b[1;36m0\u001b[0m\u001b[1;33m]\u001b[0m\u001b[1;33m.\u001b[0m\u001b[0mkeys\u001b[0m\u001b[1;33m(\u001b[0m\u001b[1;33m)\u001b[0m\u001b[1;33m\u001b[0m\u001b[1;33m\u001b[0m\u001b[0m\n\u001b[0m",
      "\u001b[1;31mNameError\u001b[0m: name 'data' is not defined"
     ]
    }
   ],
   "source": [
    "data['albums']['items'][0].keys()"
   ]
  },
  {
   "cell_type": "code",
   "execution_count": 9,
   "metadata": {
    "hidden": true
   },
   "outputs": [
    {
     "ename": "NameError",
     "evalue": "name 'data' is not defined",
     "output_type": "error",
     "traceback": [
      "\u001b[1;31m---------------------------------------------------------------------------\u001b[0m",
      "\u001b[1;31mNameError\u001b[0m                                 Traceback (most recent call last)",
      "\u001b[1;32m<ipython-input-9-782755ad43ad>\u001b[0m in \u001b[0;36m<module>\u001b[1;34m\u001b[0m\n\u001b[1;32m----> 1\u001b[1;33m \u001b[0mdata\u001b[0m\u001b[1;33m[\u001b[0m\u001b[1;34m'albums'\u001b[0m\u001b[1;33m]\u001b[0m\u001b[1;33m[\u001b[0m\u001b[1;34m'items'\u001b[0m\u001b[1;33m]\u001b[0m\u001b[1;33m[\u001b[0m\u001b[1;36m0\u001b[0m\u001b[1;33m]\u001b[0m\u001b[1;33m[\u001b[0m\u001b[1;34m'artists'\u001b[0m\u001b[1;33m]\u001b[0m\u001b[1;33m[\u001b[0m\u001b[1;36m0\u001b[0m\u001b[1;33m]\u001b[0m\u001b[1;33m[\u001b[0m\u001b[1;34m'name'\u001b[0m\u001b[1;33m]\u001b[0m\u001b[1;33m\u001b[0m\u001b[1;33m\u001b[0m\u001b[0m\n\u001b[0m",
      "\u001b[1;31mNameError\u001b[0m: name 'data' is not defined"
     ]
    }
   ],
   "source": [
    "data['albums']['items'][0]['artists'][0]['name']"
   ]
  },
  {
   "cell_type": "code",
   "execution_count": 10,
   "metadata": {
    "hidden": true
   },
   "outputs": [
    {
     "ename": "NameError",
     "evalue": "name 'data' is not defined",
     "output_type": "error",
     "traceback": [
      "\u001b[1;31m---------------------------------------------------------------------------\u001b[0m",
      "\u001b[1;31mNameError\u001b[0m                                 Traceback (most recent call last)",
      "\u001b[1;32m<ipython-input-10-795f51cd88ba>\u001b[0m in \u001b[0;36m<module>\u001b[1;34m\u001b[0m\n\u001b[1;32m----> 1\u001b[1;33m \u001b[0mdata\u001b[0m\u001b[1;33m[\u001b[0m\u001b[1;34m'albums'\u001b[0m\u001b[1;33m]\u001b[0m\u001b[1;33m[\u001b[0m\u001b[1;34m'items'\u001b[0m\u001b[1;33m]\u001b[0m\u001b[1;33m[\u001b[0m\u001b[1;36m1\u001b[0m\u001b[1;33m]\u001b[0m\u001b[1;33m[\u001b[0m\u001b[1;34m'artists'\u001b[0m\u001b[1;33m]\u001b[0m\u001b[1;33m[\u001b[0m\u001b[1;36m0\u001b[0m\u001b[1;33m]\u001b[0m\u001b[1;33m[\u001b[0m\u001b[1;34m'name'\u001b[0m\u001b[1;33m]\u001b[0m\u001b[1;33m\u001b[0m\u001b[1;33m\u001b[0m\u001b[0m\n\u001b[0m",
      "\u001b[1;31mNameError\u001b[0m: name 'data' is not defined"
     ]
    }
   ],
   "source": [
    "data['albums']['items'][1]['artists'][0]['name']"
   ]
  },
  {
   "cell_type": "markdown",
   "metadata": {
    "heading_collapsed": true
   },
   "source": [
    "# Loading in Plant Data"
   ]
  },
  {
   "cell_type": "markdown",
   "metadata": {
    "hidden": true
   },
   "source": [
    "Now that we have a handle on how to deal with data in JSON form, let's load in a new dataset and construct an analysis!"
   ]
  },
  {
   "cell_type": "code",
   "execution_count": 13,
   "metadata": {
    "hidden": true
   },
   "outputs": [],
   "source": [
    "with open('data/plants.json') as f:\n",
    "    plants = json.load(f)"
   ]
  },
  {
   "cell_type": "markdown",
   "metadata": {
    "hidden": true
   },
   "source": [
    "This dataset was gathered with the [Trefle API](https://docs.trefle.io/). It contains information about 1000 plants in JSON form."
   ]
  },
  {
   "cell_type": "code",
   "execution_count": 14,
   "metadata": {},
   "outputs": [
    {
     "data": {
      "text/plain": [
       "list"
      ]
     },
     "execution_count": 14,
     "metadata": {},
     "output_type": "execute_result"
    }
   ],
   "source": [
    "type(plants)"
   ]
  },
  {
   "cell_type": "code",
   "execution_count": 15,
   "metadata": {
    "hidden": true
   },
   "outputs": [
    {
     "data": {
      "text/plain": [
       "1000"
      ]
     },
     "execution_count": 15,
     "metadata": {},
     "output_type": "execute_result"
    }
   ],
   "source": [
    "len(plants)"
   ]
  },
  {
   "cell_type": "markdown",
   "metadata": {
    "heading_collapsed": true,
    "hidden": true
   },
   "source": [
    "## What Information Do We Have?"
   ]
  },
  {
   "cell_type": "markdown",
   "metadata": {
    "hidden": true
   },
   "source": [
    "Let's take a look at the first plant in our list to see what information is available."
   ]
  },
  {
   "cell_type": "code",
   "execution_count": 16,
   "metadata": {
    "hidden": true,
    "scrolled": true
   },
   "outputs": [
    {
     "data": {
      "text/plain": [
       "{'id': 678281,\n",
       " 'common_name': 'Evergreen oak',\n",
       " 'slug': 'quercus-rotundifolia',\n",
       " 'scientific_name': 'Quercus rotundifolia',\n",
       " 'year': 1785,\n",
       " 'bibliography': 'Encycl. 1: 723 (1785)',\n",
       " 'author': 'Lam.',\n",
       " 'status': 'accepted',\n",
       " 'rank': 'species',\n",
       " 'family_common_name': 'Beech family',\n",
       " 'genus_id': 5778,\n",
       " 'image_url': 'https://bs.plantnet.org/image/o/1a03948baf0300da25558c2448f086d39b41ca30',\n",
       " 'synonyms': ['Quercus lyauteyi',\n",
       "  'Quercus rotundifolia f. crassicupulata',\n",
       "  'Quercus ballota',\n",
       "  'Quercus ilex f. brevicupulata',\n",
       "  'Quercus calycina',\n",
       "  'Quercus rotundifolia f. dolichocalyx',\n",
       "  'Quercus rotundifolia f. pilosella',\n",
       "  'Quercus rotundifolia f. macrocarpa',\n",
       "  'Quercus rotundifolia f. calycina',\n",
       "  'Quercus ilex f. macrocarpa',\n",
       "  'Quercus ilex subsp. ballota',\n",
       "  'Quercus rotundifolia var. pilosella',\n",
       "  'Quercus rotundifolia var. brevicupulata',\n",
       "  'Quercus rotundifolia subsp. maghrebiana',\n",
       "  'Quercus rotundifolia f. brevicupulata',\n",
       "  'Quercus rotundifolia var. macrocarpa'],\n",
       " 'genus': 'Quercus',\n",
       " 'family': 'Fagaceae',\n",
       " 'links': {'self': '/api/v1/species/quercus-rotundifolia',\n",
       "  'plant': '/api/v1/plants/quercus-rotundifolia',\n",
       "  'genus': '/api/v1/genus/quercus'}}"
      ]
     },
     "execution_count": 16,
     "metadata": {},
     "output_type": "execute_result"
    }
   ],
   "source": [
    "plants[0]"
   ]
  },
  {
   "cell_type": "markdown",
   "metadata": {
    "hidden": true
   },
   "source": [
    "You can find more information about these fields [here](https://docs.trefle.io/docs/advanced/plants-fields)."
   ]
  },
  {
   "cell_type": "markdown",
   "metadata": {
    "heading_collapsed": true,
    "hidden": true
   },
   "source": [
    "## Plant Families"
   ]
  },
  {
   "cell_type": "markdown",
   "metadata": {
    "hidden": true
   },
   "source": [
    "Let's start by seeing what botanical families are represented in our data. We'll build a dictionary that counts the plants by family. We'll use the common names for this purpose."
   ]
  },
  {
   "cell_type": "code",
   "execution_count": 17,
   "metadata": {},
   "outputs": [
    {
     "data": {
      "text/plain": [
       "dict_keys(['id', 'common_name', 'slug', 'scientific_name', 'year', 'bibliography', 'author', 'status', 'rank', 'family_common_name', 'genus_id', 'image_url', 'synonyms', 'genus', 'family', 'links'])"
      ]
     },
     "execution_count": 17,
     "metadata": {},
     "output_type": "execute_result"
    }
   ],
   "source": [
    "plants[0].keys()"
   ]
  },
  {
   "cell_type": "code",
   "execution_count": 20,
   "metadata": {},
   "outputs": [
    {
     "data": {
      "text/plain": [
       "defaultdict(int, {})"
      ]
     },
     "execution_count": 20,
     "metadata": {},
     "output_type": "execute_result"
    }
   ],
   "source": []
  },
  {
   "cell_type": "code",
   "execution_count": 19,
   "metadata": {},
   "outputs": [],
   "source": [
    "# Let's use a default dict for this - need to import it first!\n",
    "from collections import defaultdict"
   ]
  },
  {
   "cell_type": "code",
   "execution_count": 21,
   "metadata": {
    "hidden": true
   },
   "outputs": [
    {
     "data": {
      "text/plain": [
       "defaultdict(int, {})"
      ]
     },
     "execution_count": 21,
     "metadata": {},
     "output_type": "execute_result"
    }
   ],
   "source": [
    "plant_dict = defaultdict(int)\n",
    "plant_dict"
   ]
  },
  {
   "cell_type": "code",
   "execution_count": 30,
   "metadata": {},
   "outputs": [],
   "source": [
    "for plant in plants:\n",
    "    plant_dict[plant['family_common_name']] += 1 #counting up plus 1"
   ]
  },
  {
   "cell_type": "code",
   "execution_count": 31,
   "metadata": {
    "hidden": true
   },
   "outputs": [
    {
     "data": {
      "text/plain": [
       "defaultdict(int,\n",
       "            {'Beech family': 40,\n",
       "             'Nettle family': 8,\n",
       "             'Grass family': 324,\n",
       "             'Plantain family': 100,\n",
       "             'Buttercup family': 84,\n",
       "             'Pea family': 252,\n",
       "             'Olive family': 20,\n",
       "             'Rose family': 196,\n",
       "             'Birch family': 28,\n",
       "             'Rush family': 76,\n",
       "             'Buckwheat family': 68,\n",
       "             'Soapberry family': 28,\n",
       "             'Pine family': 40,\n",
       "             'Mint family': 180,\n",
       "             'Madder family': 36,\n",
       "             None: 452,\n",
       "             'Pink family': 124,\n",
       "             'Carrot family': 116,\n",
       "             'Geranium family': 40,\n",
       "             'Aster family': 320,\n",
       "             'Horsetail family': 28,\n",
       "             'Heath family': 68,\n",
       "             'Loosestrife family': 8,\n",
       "             'Bracken Fern family': 4,\n",
       "             'Mustard family': 116,\n",
       "             'Evening Primrose family': 40,\n",
       "             'Willow family': 12,\n",
       "             'Polypody family': 28,\n",
       "             'Dogwood family': 12,\n",
       "             'Honeysuckle family': 36,\n",
       "             'Morning-glory family': 12,\n",
       "             'Iris family': 4,\n",
       "             'Spleenwort family': 32,\n",
       "             'Amaranth family': 24,\n",
       "             'Sedge family': 164,\n",
       "             'Buckthorn family': 12,\n",
       "             'Holly family': 4,\n",
       "             'Potato family': 28,\n",
       "             'Bellflower family': 36,\n",
       "             'Wood-Sorrel family': 12,\n",
       "             'Borage family': 52,\n",
       "             'Bittersweet family': 8,\n",
       "             'Primrose family': 48,\n",
       "             'Poppy family': 28,\n",
       "             'Spurge family': 40,\n",
       "             'Cat-tail family': 16,\n",
       "             'Arum family': 32,\n",
       "             'Water-plantain family': 4,\n",
       "             'Hemp family': 4,\n",
       "             'Sumac family': 8,\n",
       "             'Touch-me-not family': 12,\n",
       "             'Broom-rape family': 40,\n",
       "             'Elm family': 8,\n",
       "             'Flax family': 8,\n",
       "             'Stonecrop family': 32,\n",
       "             'Brachythecium moss family': 12,\n",
       "             'Rock-rose family': 20,\n",
       "             'Mallow family': 20,\n",
       "             'Buckbean family': 4,\n",
       "             'Sundew family': 8,\n",
       "             'Milkwort family': 8,\n",
       "             'Cypress family': 8,\n",
       "             'Myrtle family': 8,\n",
       "             'Verbena family': 12,\n",
       "             'Ginseng family': 4,\n",
       "             'Currant family': 16,\n",
       "             'Sandalwood family': 4,\n",
       "             'Pondweed family': 28,\n",
       "             'Water-lily family': 8,\n",
       "             'Gentian family': 24,\n",
       "             'Yam family': 4,\n",
       "             'Walnut family': 4,\n",
       "             'Boxwood family': 4,\n",
       "             'Dogbane family': 12,\n",
       "             'Mignonette family': 8,\n",
       "             'Bladderwort family': 8,\n",
       "             'Melastome family': 4,\n",
       "             'Saxifrage family': 20,\n",
       "             'Purslane family': 4,\n",
       "             'Grape family': 8,\n",
       "             'Pokeweed family': 4,\n",
       "             'Mezereum family': 12,\n",
       "             'Bayberry family': 4,\n",
       "             'Club-moss family': 16,\n",
       "             'Hornwort family': 4,\n",
       "             'Leadwort family': 4,\n",
       "             'Arrow-grass family': 8,\n",
       "             'Cucumber family': 4,\n",
       "             'Water Milfoil family': 12,\n",
       "             'Tape-grass family': 40,\n",
       "             'Manatee-grass family': 16,\n",
       "             'Eel-grass family': 4,\n",
       "             'Flowering Rush family': 4,\n",
       "             'Lily family': 8,\n",
       "             'Spike-moss family': 4,\n",
       "             'Barberry family': 4,\n",
       "             \"Adder's-tongue family\": 8,\n",
       "             'Oleaster family': 4,\n",
       "             'Palm family': 8,\n",
       "             'Acanthus family': 4,\n",
       "             'Calamus family': 4,\n",
       "             'Birthwort family': 4,\n",
       "             'Pittosporum family': 8})"
      ]
     },
     "execution_count": 31,
     "metadata": {},
     "output_type": "execute_result"
    }
   ],
   "source": [
    "plant_dict"
   ]
  },
  {
   "cell_type": "markdown",
   "metadata": {
    "hidden": true
   },
   "source": [
    "Are there any missing values?"
   ]
  },
  {
   "cell_type": "code",
   "execution_count": 33,
   "metadata": {
    "hidden": true
   },
   "outputs": [
    {
     "data": {
      "text/plain": [
       "40"
      ]
     },
     "execution_count": 33,
     "metadata": {},
     "output_type": "execute_result"
    }
   ],
   "source": [
    "plant_dict['Beech family']"
   ]
  },
  {
   "cell_type": "markdown",
   "metadata": {
    "hidden": true
   },
   "source": [
    "Let's remove these by using a dictionary comprehension:"
   ]
  },
  {
   "cell_type": "code",
   "execution_count": null,
   "metadata": {
    "hidden": true
   },
   "outputs": [],
   "source": [
    "#for null value "
   ]
  },
  {
   "cell_type": "code",
   "execution_count": 34,
   "metadata": {
    "hidden": true
   },
   "outputs": [
    {
     "data": {
      "text/plain": [
       "452"
      ]
     },
     "execution_count": 34,
     "metadata": {},
     "output_type": "execute_result"
    }
   ],
   "source": [
    "plant_dict[None]"
   ]
  },
  {
   "cell_type": "code",
   "execution_count": 52,
   "metadata": {},
   "outputs": [],
   "source": [
    "family_clean = {family: number for family, number in plant_dict.items() if family != None}"
   ]
  },
  {
   "cell_type": "code",
   "execution_count": 53,
   "metadata": {},
   "outputs": [
    {
     "data": {
      "text/plain": [
       "{'Beech family': 40,\n",
       " 'Nettle family': 8,\n",
       " 'Grass family': 324,\n",
       " 'Plantain family': 100,\n",
       " 'Buttercup family': 84,\n",
       " 'Pea family': 252,\n",
       " 'Olive family': 20,\n",
       " 'Rose family': 196,\n",
       " 'Birch family': 28,\n",
       " 'Rush family': 76,\n",
       " 'Buckwheat family': 68,\n",
       " 'Soapberry family': 28,\n",
       " 'Pine family': 40,\n",
       " 'Mint family': 180,\n",
       " 'Madder family': 36,\n",
       " 'Pink family': 124,\n",
       " 'Carrot family': 116,\n",
       " 'Geranium family': 40,\n",
       " 'Aster family': 320,\n",
       " 'Horsetail family': 28,\n",
       " 'Heath family': 68,\n",
       " 'Loosestrife family': 8,\n",
       " 'Bracken Fern family': 4,\n",
       " 'Mustard family': 116,\n",
       " 'Evening Primrose family': 40,\n",
       " 'Willow family': 12,\n",
       " 'Polypody family': 28,\n",
       " 'Dogwood family': 12,\n",
       " 'Honeysuckle family': 36,\n",
       " 'Morning-glory family': 12,\n",
       " 'Iris family': 4,\n",
       " 'Spleenwort family': 32,\n",
       " 'Amaranth family': 24,\n",
       " 'Sedge family': 164,\n",
       " 'Buckthorn family': 12,\n",
       " 'Holly family': 4,\n",
       " 'Potato family': 28,\n",
       " 'Bellflower family': 36,\n",
       " 'Wood-Sorrel family': 12,\n",
       " 'Borage family': 52,\n",
       " 'Bittersweet family': 8,\n",
       " 'Primrose family': 48,\n",
       " 'Poppy family': 28,\n",
       " 'Spurge family': 40,\n",
       " 'Cat-tail family': 16,\n",
       " 'Arum family': 32,\n",
       " 'Water-plantain family': 4,\n",
       " 'Hemp family': 4,\n",
       " 'Sumac family': 8,\n",
       " 'Touch-me-not family': 12,\n",
       " 'Broom-rape family': 40,\n",
       " 'Elm family': 8,\n",
       " 'Flax family': 8,\n",
       " 'Stonecrop family': 32,\n",
       " 'Brachythecium moss family': 12,\n",
       " 'Rock-rose family': 20,\n",
       " 'Mallow family': 20,\n",
       " 'Buckbean family': 4,\n",
       " 'Sundew family': 8,\n",
       " 'Milkwort family': 8,\n",
       " 'Cypress family': 8,\n",
       " 'Myrtle family': 8,\n",
       " 'Verbena family': 12,\n",
       " 'Ginseng family': 4,\n",
       " 'Currant family': 16,\n",
       " 'Sandalwood family': 4,\n",
       " 'Pondweed family': 28,\n",
       " 'Water-lily family': 8,\n",
       " 'Gentian family': 24,\n",
       " 'Yam family': 4,\n",
       " 'Walnut family': 4,\n",
       " 'Boxwood family': 4,\n",
       " 'Dogbane family': 12,\n",
       " 'Mignonette family': 8,\n",
       " 'Bladderwort family': 8,\n",
       " 'Melastome family': 4,\n",
       " 'Saxifrage family': 20,\n",
       " 'Purslane family': 4,\n",
       " 'Grape family': 8,\n",
       " 'Pokeweed family': 4,\n",
       " 'Mezereum family': 12,\n",
       " 'Bayberry family': 4,\n",
       " 'Club-moss family': 16,\n",
       " 'Hornwort family': 4,\n",
       " 'Leadwort family': 4,\n",
       " 'Arrow-grass family': 8,\n",
       " 'Cucumber family': 4,\n",
       " 'Water Milfoil family': 12,\n",
       " 'Tape-grass family': 40,\n",
       " 'Manatee-grass family': 16,\n",
       " 'Eel-grass family': 4,\n",
       " 'Flowering Rush family': 4,\n",
       " 'Lily family': 8,\n",
       " 'Spike-moss family': 4,\n",
       " 'Barberry family': 4,\n",
       " \"Adder's-tongue family\": 8,\n",
       " 'Oleaster family': 4,\n",
       " 'Palm family': 8,\n",
       " 'Acanthus family': 4,\n",
       " 'Calamus family': 4,\n",
       " 'Birthwort family': 4,\n",
       " 'Pittosporum family': 8,\n",
       " 'Beech Family': 0}"
      ]
     },
     "execution_count": 53,
     "metadata": {},
     "output_type": "execute_result"
    }
   ],
   "source": [
    "family_clean"
   ]
  },
  {
   "cell_type": "markdown",
   "metadata": {
    "hidden": true
   },
   "source": [
    "Let's also remove the families whose counts are less than ten:"
   ]
  },
  {
   "cell_type": "code",
   "execution_count": 57,
   "metadata": {
    "hidden": true
   },
   "outputs": [
    {
     "data": {
      "text/plain": [
       "{'Beech family': 40,\n",
       " 'Grass family': 324,\n",
       " 'Plantain family': 100,\n",
       " 'Buttercup family': 84,\n",
       " 'Pea family': 252,\n",
       " 'Olive family': 20,\n",
       " 'Rose family': 196,\n",
       " 'Birch family': 28,\n",
       " 'Rush family': 76,\n",
       " 'Buckwheat family': 68,\n",
       " 'Soapberry family': 28,\n",
       " 'Pine family': 40,\n",
       " 'Mint family': 180,\n",
       " 'Madder family': 36,\n",
       " 'Pink family': 124,\n",
       " 'Carrot family': 116,\n",
       " 'Geranium family': 40,\n",
       " 'Aster family': 320,\n",
       " 'Horsetail family': 28,\n",
       " 'Heath family': 68,\n",
       " 'Mustard family': 116,\n",
       " 'Evening Primrose family': 40,\n",
       " 'Willow family': 12,\n",
       " 'Polypody family': 28,\n",
       " 'Dogwood family': 12,\n",
       " 'Honeysuckle family': 36,\n",
       " 'Morning-glory family': 12,\n",
       " 'Spleenwort family': 32,\n",
       " 'Amaranth family': 24,\n",
       " 'Sedge family': 164,\n",
       " 'Buckthorn family': 12,\n",
       " 'Potato family': 28,\n",
       " 'Bellflower family': 36,\n",
       " 'Wood-Sorrel family': 12,\n",
       " 'Borage family': 52,\n",
       " 'Primrose family': 48,\n",
       " 'Poppy family': 28,\n",
       " 'Spurge family': 40,\n",
       " 'Cat-tail family': 16,\n",
       " 'Arum family': 32,\n",
       " 'Touch-me-not family': 12,\n",
       " 'Broom-rape family': 40,\n",
       " 'Stonecrop family': 32,\n",
       " 'Brachythecium moss family': 12,\n",
       " 'Rock-rose family': 20,\n",
       " 'Mallow family': 20,\n",
       " 'Verbena family': 12,\n",
       " 'Currant family': 16,\n",
       " 'Pondweed family': 28,\n",
       " 'Gentian family': 24,\n",
       " 'Dogbane family': 12,\n",
       " 'Saxifrage family': 20,\n",
       " 'Mezereum family': 12,\n",
       " 'Club-moss family': 16,\n",
       " 'Water Milfoil family': 12,\n",
       " 'Tape-grass family': 40,\n",
       " 'Manatee-grass family': 16}"
      ]
     },
     "execution_count": 57,
     "metadata": {},
     "output_type": "execute_result"
    }
   ],
   "source": [
    "family_cleans = {family: number for family, number in family_clean.items() if number >= 10}\n",
    "family_cleans"
   ]
  },
  {
   "cell_type": "markdown",
   "metadata": {
    "hidden": true
   },
   "source": [
    "Now we can make a bar chart of the numbers:"
   ]
  },
  {
   "cell_type": "code",
   "execution_count": 58,
   "metadata": {},
   "outputs": [],
   "source": [
    "# Need to import matplotlib first\n",
    "import matplotlib.pyplot as plt"
   ]
  },
  {
   "cell_type": "code",
   "execution_count": 59,
   "metadata": {
    "hidden": true,
    "scrolled": true
   },
   "outputs": [],
   "source": [
    "plt.style.use('seaborn')"
   ]
  },
  {
   "cell_type": "code",
   "execution_count": 65,
   "metadata": {
    "hidden": true
   },
   "outputs": [
    {
     "data": {
      "image/png": "[encoded data removed]",
      "text/plain": [
       "<Figure size 1440x864 with 1 Axes>"
      ]
     },
     "metadata": {},
     "output_type": "display_data"
    }
   ],
   "source": [
    "fig, ax = plt.subplots(figsize=(20, 12))\n",
    "\n",
    "ax.bar(x=list(family_cleans.keys()), height=list(family_cleans.values()))\n",
    "ax.set_title('Families by Number', fontsize=30)\n",
    "plt.xticks(rotation=80, fontsize=20)\n",
    "plt.yticks(fontsize=20);"
   ]
  },
  {
   "cell_type": "markdown",
   "metadata": {
    "heading_collapsed": true,
    "hidden": true
   },
   "source": [
    "## Synonyms"
   ]
  },
  {
   "cell_type": "markdown",
   "metadata": {
    "hidden": true
   },
   "source": [
    "Suppose we wanted to know how many synonymous names were listed for each plant. We could grab this number with a list comprehension:"
   ]
  },
  {
   "cell_type": "code",
   "execution_count": 69,
   "metadata": {},
   "outputs": [
    {
     "data": {
      "text/plain": [
       "16"
      ]
     },
     "execution_count": 69,
     "metadata": {},
     "output_type": "execute_result"
    }
   ],
   "source": [
    "pp = plants[0]['synonyms']\n",
    "len(pp)"
   ]
  },
  {
   "cell_type": "code",
   "execution_count": 72,
   "metadata": {
    "hidden": true
   },
   "outputs": [],
   "source": [
    "num_syn = [len(plant['synonyms']) for plant in plants]"
   ]
  },
  {
   "cell_type": "code",
   "execution_count": 73,
   "metadata": {
    "hidden": true
   },
   "outputs": [
    {
     "data": {
      "image/png": "[encoded data removed]",
      "text/plain": [
       "<Figure size 576x432 with 1 Axes>"
      ]
     },
     "metadata": {},
     "output_type": "display_data"
    }
   ],
   "source": [
    "fig, ax = plt.subplots(figsize=(8, 6))\n",
    "\n",
    "ax.scatter(range(1000), num_syn, alpha=0.5)\n",
    "ax.set_title('Numbers of Synonyms');"
   ]
  },
  {
   "cell_type": "markdown",
   "metadata": {
    "heading_collapsed": true,
    "hidden": true
   },
   "source": [
    "## Exercise"
   ]
  },
  {
   "cell_type": "markdown",
   "metadata": {
    "heading_collapsed": true,
    "hidden": true
   },
   "source": [
    "One plant has nearly 350 synonynms! What plant is this?"
   ]
  },
  {
   "cell_type": "code",
   "execution_count": 76,
   "metadata": {},
   "outputs": [
    {
     "data": {
      "text/plain": [
       "[{'id': 182597,\n",
       "  'common_name': 'Irish potato',\n",
       "  'slug': 'solanum-tuberosum',\n",
       "  'scientific_name': 'Solanum tuberosum',\n",
       "  'year': 1753,\n",
       "  'bibliography': 'Sp. Pl.: 185 (1753)',\n",
       "  'author': 'L.',\n",
       "  'status': 'accepted',\n",
       "  'rank': 'species',\n",
       "  'family_common_name': 'Potato family',\n",
       "  'genus_id': 4329,\n",
       "  'image_url': 'https://bs.plantnet.org/image/o/95a0197b33f8efe2ea7a0d25f84476415779a4b5',\n",
       "  'synonyms': ['Solanum tuberosum subsp. andigenum',\n",
       "   'Solanum tuberosum f. chiar-pala',\n",
       "   'Solanum tuberosum var. strobilinum',\n",
       "   'Solanum tuberosum var. murukewillu',\n",
       "   'Solanum stenotomum var. peruanum',\n",
       "   'Larnax sylvarum subsp. novogranatensis',\n",
       "   'Solanum andigenum f. tiahuanacense',\n",
       "   'Solanum andigenum f. pallidum',\n",
       "   'Solanum tuberosum var. batatinum',\n",
       "   'Solanum tuberosum var. rugiorum',\n",
       "   'Solanum andigenum f. ovatibaccatum',\n",
       "   'Solanum tuberosum f. contortum',\n",
       "   'Solanum andigenum f. llutuc-runtum',\n",
       "   'Solanum andigenum var. mexicanum',\n",
       "   'Solanum tuberosum var. album',\n",
       "   'Solanum andigenum f. ancacc-maquin',\n",
       "   'Solanum andigenum f. conicicolumnatum',\n",
       "   'Solanum andigenum f. dilatatum',\n",
       "   'Parmentiera edulis',\n",
       "   'Solanum andigenum subsp. australiperuvianum',\n",
       "   'Solanum tuberosum f. thalassinum',\n",
       "   'Solanum aracatscha',\n",
       "   'Solanum tuberosum var. melanoceras',\n",
       "   'Solanum stenotomum var. cyaneum',\n",
       "   'Solanum andigenum var. quechuanum',\n",
       "   'Solanum tuberosum var. sesquimensale',\n",
       "   'Solanum tuberosum f. viride',\n",
       "   'Solanum tuberosum f. laram-lelekkoya',\n",
       "   'Solanum andigenum f. alccai-huarmi',\n",
       "   'Solanum stenotomum f. catari-papa',\n",
       "   'Solanum andigenum f. caesium',\n",
       "   'Solanum tuberosum f. ovatum',\n",
       "   'Solanum tuberosum f. sebastianum',\n",
       "   \"Solanum phureja var. janck'o-phureja\",\n",
       "   'Solanum chilotanum var. angustifurcatum',\n",
       "   'Solanum tuberosum var. bertuchii',\n",
       "   'Solanum chilotanum var. talukdarii',\n",
       "   'Solanum phureja',\n",
       "   'Solanum leptostigma',\n",
       "   'Solanum sendigena',\n",
       "   'Solanum andigenum f. ccompis',\n",
       "   'Solanum diemii',\n",
       "   'Solanum tuberosum f. milagro',\n",
       "   'Solanum stenotomum var. megalocalyx',\n",
       "   'Solanum tenuifilamentum',\n",
       "   'Solanum tuberosum f. coraila',\n",
       "   'Solanum tuberosum var. elegans',\n",
       "   'Solanum tuberosum var. norfolcicum',\n",
       "   'Lycopersicon tuberosum',\n",
       "   'Solanum stenotomum f. ccami',\n",
       "   'Solanum tuberosum var. platyceras',\n",
       "   'Solanum tuberosum var. hispanicum',\n",
       "   'Solanum tuberosum var. yutuense',\n",
       "   'Solanum andigenum var. stenophyllum',\n",
       "   'Solanum rybinii var. popayanum',\n",
       "   'Solanum chaucha var. khoyllu',\n",
       "   \"Solanum tuberosum f. wila-k'oyu\",\n",
       "   'Solanum stenotomum f. koso-nahui',\n",
       "   'Solanum tuberosum f. huichinkka',\n",
       "   'Solanum andigenum f. ppacc-nacha',\n",
       "   'Solanum stenotomum var. puca-lunca',\n",
       "   'Solanum andigenum f. bifidum',\n",
       "   'Solanum tuberosum var. taraco',\n",
       "   'Solanum oceanicum',\n",
       "   'Solanum tuberosum f. latum',\n",
       "   'Solanum andigenum f. cryptostylum',\n",
       "   'Solanum phureja f. sayhuanimayo',\n",
       "   'Solanum tuberosum var. praecox',\n",
       "   'Solanum aracc-papa',\n",
       "   'Solanum stenotomum f. tiele',\n",
       "   'Solanum tuberosum var. hassicum',\n",
       "   'Solanum tuberosum var. multibaccatum',\n",
       "   'Solanum andigenum var. herrerae',\n",
       "   'Solanum andigenum var. aymaranum',\n",
       "   'Solanum phureja var. sanguineum',\n",
       "   'Solanum stenotomum f. chincherae',\n",
       "   'Solanum goniocalyx var. caeruleum',\n",
       "   'Solanum stenotomum f. roseum',\n",
       "   'Solanum sinense',\n",
       "   'Solanum andigenum f. chalcoense',\n",
       "   'Solanum andigenum f. chimaco',\n",
       "   'Solanum tuberosum var. menapianum',\n",
       "   'Solanum tuberosum var. merceri',\n",
       "   'Solanum tuberosum f. enode',\n",
       "   'Solanum stenotomum f. chojllu',\n",
       "   'Solanum tuberosum var. bufoninum',\n",
       "   'Solanum tuberosum var. corsicanum',\n",
       "   'Solanum chaucha var. puca-suitu',\n",
       "   'Solanum andigenum subsp. tarmense',\n",
       "   'Solanum stenotomum f. eucaliptae',\n",
       "   'Solanum tuberosum f. isla-imilla',\n",
       "   'Solanum tuberosum f. wila-monda',\n",
       "   'Solanum stenotomum var. putis',\n",
       "   'Solanum andigenum f. pomacanchicum',\n",
       "   'Solanum tuberosum f. chiar-lelekkoya',\n",
       "   'Solanum riobambense',\n",
       "   'Solanum andigenum f. arcuatum',\n",
       "   'Solanum tuberosum f. elongatum',\n",
       "   'Solanum tuberosum var. conocarpum',\n",
       "   'Solanum kesselbrenneri',\n",
       "   'Solanum phureja f. timusi',\n",
       "   'Solanum andigenum subsp. ecuatorianum',\n",
       "   'Solanum tuberosum var. schnittspahnii',\n",
       "   'Solanum tuberosum var. aethiopicum',\n",
       "   'Solanum andigenum var. bolivianum',\n",
       "   'Solanum andigenum var. huairuru',\n",
       "   'Solanum maglia var. chubutense',\n",
       "   'Solanum stenotomum f. alcay-imilla',\n",
       "   'Solanum tuberosum f. overita',\n",
       "   'Solanum andigenum',\n",
       "   'Solanum tuberosum var. malcachu',\n",
       "   'Solanum andigenum var. colombianum',\n",
       "   'Solanum tuberosum f. wila-imilla',\n",
       "   'Solanum molinae',\n",
       "   'Solanum andigenum f. incrassatum',\n",
       "   'Solanum stenotomum var. huicu',\n",
       "   'Solanum subandigenum',\n",
       "   'Solanum tuberosum var. crassipedicellatum',\n",
       "   'Solanum tuberosum var. ulmense',\n",
       "   'Solanum tuberosum f. camota',\n",
       "   'Solanum tuberosum var. villaroella',\n",
       "   'Solanum stenotomum f. cohuasa',\n",
       "   'Solanum phureja var. caeruleum',\n",
       "   'Solanum andigenum var. sihuanum',\n",
       "   'Solanum rybinii var. boyacense',\n",
       "   'Solanum tuberosum var. tener',\n",
       "   'Solanum caniarense',\n",
       "   'Solanum chaucha var. surimana',\n",
       "   'Solanum zykinii',\n",
       "   'Solanum stenotomum f. pitoca',\n",
       "   \"Solanum tuberosum f. jancck'o-kkoyllu\",\n",
       "   'Solanum stenotomum f. kehuillo',\n",
       "   'Solanum andigenum f. microstigma',\n",
       "   'Solanum tascalense',\n",
       "   'Solanum cayeuxi',\n",
       "   'Solanum tuberosum f. chojo-sajama',\n",
       "   'Solanum andigenum f. pacus',\n",
       "   'Solanum tuberosum var. rockii',\n",
       "   'Solanum tuberosum var. rubrisuturatum',\n",
       "   'Solanum phureja f. viuda',\n",
       "   'Solanum tuberosum var. guaytecarum',\n",
       "   'Solanum stenotomum f. yuracc',\n",
       "   'Solanum tuberosum var. putscheanum',\n",
       "   'Solanum andigenum subsp. colombianum',\n",
       "   'Solanum andigenum var. grauense',\n",
       "   'Solanum tuberosum var. cordiforme',\n",
       "   'Solanum tarmense',\n",
       "   'Solanum dubium',\n",
       "   'Solanum goniocalyx',\n",
       "   'Solanum cultum',\n",
       "   'Solanum andigenum f. basiscopum',\n",
       "   'Solanum stenotomum f. yana-cculi',\n",
       "   'Solanum tuberosum var. lelekkoya',\n",
       "   'Solanum mamilliferum',\n",
       "   'Solanum tuberosum f. pulo',\n",
       "   'Solanum stenotomum f. phitu-huayacas',\n",
       "   'Solanum andigenum var. cuzcoense',\n",
       "   \"Solanum tuberosum f. janck'o-chockella\",\n",
       "   'Solanum tuberosum f. yurac-taraco',\n",
       "   'Solanum andigenum f. cevallosii',\n",
       "   'Solanum chocclo',\n",
       "   'Solanum stenotomum var. keccrana',\n",
       "   'Solanum tuberosum var. cultum',\n",
       "   'Solanum tuberosum var. rossicum',\n",
       "   'Solanum tuberosum f. chaped',\n",
       "   'Solanum stenotomum f. cuchipacon',\n",
       "   'Solanum estradea',\n",
       "   'Solanum tuberosum var. reniforme',\n",
       "   'Solanum tuberosum var. pecorum',\n",
       "   'Solanum stenotomum f. canastilla',\n",
       "   'Solanum andigenum var. socco-huaccoto',\n",
       "   'Solanum rybinii var. pastoense',\n",
       "   'Solanum stenotomum f. canasense',\n",
       "   'Solanum tuberosum subsp. chiloense',\n",
       "   'Solanum tuberosum var. runa',\n",
       "   'Solanum tuberosum f. huaca-zapato',\n",
       "   'Solanum andigenum f. lapazense',\n",
       "   'Solanum andigenum f. tolucanum',\n",
       "   'Solanum cardenasii',\n",
       "   'Solanum ochoanum',\n",
       "   'Solanum tuberosum f. conicum',\n",
       "   'Solanum tuberosum var. praedicandum',\n",
       "   'Solanum paramoense',\n",
       "   'Solanum tuberosum var. borsdorfianum',\n",
       "   'Solanum chilotanum',\n",
       "   'Solanum andigenum var. hederiforme',\n",
       "   'Solanum andigenum f. lecke-umo',\n",
       "   'Solanum andigenum subsp. aya-papa',\n",
       "   'Solanum stenotomum f. pallidum',\n",
       "   'Solanum andigenum f. nodosum',\n",
       "   'Solanum tuberosum var. vulgare',\n",
       "   \"Solanum tuberosum f. janck'o-pala\",\n",
       "   'Solanum andigenum var. ccusi',\n",
       "   'Solanum stenotomum var. chapina',\n",
       "   'Solanum tuberosum f. crassifilamentum',\n",
       "   'Solanum tuberosum var. peruvianum',\n",
       "   'Solanum tuberosum f. montticum',\n",
       "   'Solanum andigenum f. caiceda',\n",
       "   'Solanum tuberosum var. chiloense',\n",
       "   'Solanum tuberosum var. fragariinum',\n",
       "   'Solanum tuberosum var. holsaticum',\n",
       "   'Solanum tuberosum var. helenanum',\n",
       "   'Solanum tuberosum f. brachykalukon',\n",
       "   'Solanum tuberosum var. sabinei',\n",
       "   'Solanum andigenum var. platyantherum',\n",
       "   'Solanum rybinii',\n",
       "   'Solanum stenotomum f. orcco-amajaya',\n",
       "   'Solanum tuberosum f. alkka-imilla',\n",
       "   'Solanum tuberosum var. salamandrinum',\n",
       "   'Solanum andigenum f. tocanum',\n",
       "   'Solanum tuberosum f. sani-imilla',\n",
       "   'Solanum andigenum f. guatemalense',\n",
       "   'Solanum andigenum f. lanciacuminatum',\n",
       "   'Solanum hygrothermicum',\n",
       "   'Solanum tuberosum var. xanthoceras',\n",
       "   'Solanum yabari var. cuzcoense',\n",
       "   'Solanum chaucha f. purpureum',\n",
       "   'Solanum tuberosum var. elongatum',\n",
       "   'Solanum ascasabii',\n",
       "   'Solanum chiloense',\n",
       "   'Solanum sanmartinense',\n",
       "   'Solanum stenotomum f. kamara',\n",
       "   'Solanum andigenum var. latius',\n",
       "   'Solanum stenotomum f. chilcas',\n",
       "   'Solanum tuberosum f. kunurana',\n",
       "   'Solanum tuberosum f. infectum',\n",
       "   'Solanum phureja subsp. estradae',\n",
       "   'Solanum andigenum var. ckello-huaccoto',\n",
       "   'Solanum andigenum f. sunchchu',\n",
       "   'Solanum tuberosum var. nucinum',\n",
       "   'Solanum tuberosum var. cepinum',\n",
       "   'Solanum tuberosum f. oculosum',\n",
       "   'Solanum tuberosum var. chilotanum',\n",
       "   'Solanum tuberosum f. brevipapillosum',\n",
       "   'Solanum macmillanii',\n",
       "   'Solanum parmentieri',\n",
       "   'Solanum rybinii var. bogotense',\n",
       "   'Solanum tuberosum var. brachyceras',\n",
       "   'Solanum stenotomum f. phinu',\n",
       "   'Solanum sylvestre',\n",
       "   'Solanum tuberosum f. tinguipaya',\n",
       "   'Solanum andigenum subsp. argentinicum',\n",
       "   'Solanum andigenum f. coeruleum',\n",
       "   'Solanum tuberosum f. alkka-silla',\n",
       "   'Solanum tuberosum var. sicha',\n",
       "   'Solanum chilotanum f. parvicorollatum',\n",
       "   'Solanum andigenum f. tenue',\n",
       "   'Solanum tuberosum var. drakeanum',\n",
       "   'Solanum tuberosum var. recurvatum',\n",
       "   'Solanum tuberosum f. acuminatum',\n",
       "   'Solanum andigenum f. huaca-layra',\n",
       "   'Solanum yabari',\n",
       "   'Solanum boyacense',\n",
       "   'Solanum tuberosum f. araucanum',\n",
       "   'Solanum phureja subsp. hygrothermicum',\n",
       "   'Solanum tuberosum var. leonhardianum',\n",
       "   'Solanum tuberosum var. nobile',\n",
       "   'Solanum stenotomum f. puca',\n",
       "   'Solanum phureja var. rubroroseum',\n",
       "   'Solanum andigenum var. digitotuberosum',\n",
       "   'Battata tuberosa',\n",
       "   'Solanum stenotomum f. negrum',\n",
       "   'Solanum andigenum f. lisarassa',\n",
       "   'Solanum andigenum var. longibaccatum',\n",
       "   'Solanum tuberosum f. pichuna',\n",
       "   'Solanum stenotomum',\n",
       "   'Solanum stenotomum f. piticana',\n",
       "   'Solanum andigenum f. huaman-uma',\n",
       "   'Solanum andigenum var. brevicalyx',\n",
       "   'Solanum stenotomum var. pitiquilla',\n",
       "   'Solanum phureja var. flavum',\n",
       "   'Solanum tuberosum var. anglicum',\n",
       "   'Solanum tuberosum f. indianum',\n",
       "   'Solanum tuberosum var. julianum',\n",
       "   'Solanum tuberosum var. kaunitzii',\n",
       "   'Solanum coeruleiflorum',\n",
       "   'Solanum herrerae',\n",
       "   'Solanum utile',\n",
       "   'Solanum tuberosum var. versicolor',\n",
       "   'Solanum chaucha var. ckati',\n",
       "   'Solanum stenotomum f. huamanpa-uman',\n",
       "   'Solanum apurimacense',\n",
       "   'Solanum tuberosum f. wila-pala',\n",
       "   'Solanum esculentum',\n",
       "   'Solanum chilotanum f. magnicorollatum',\n",
       "   'Solanum tuberosum var. sipancachi',\n",
       "   'Solanum sabinei',\n",
       "   'Solanum tuberosum f. amajaya',\n",
       "   'Solanum andigenum f. huallata',\n",
       "   'Solanum andigenum f. ppaqui',\n",
       "   'Solanum chaucha',\n",
       "   'Solanum phureja var. macmillanii',\n",
       "   'Solanum andigenum f. globosum',\n",
       "   'Solanum tuberosum var. saccharatum',\n",
       "   'Solanum tuberosum f. pillicuma',\n",
       "   'Solanum tuberosum var. erythroceras',\n",
       "   'Solanum tuberosum var. vuchefeldicum',\n",
       "   'Solanum churuspi',\n",
       "   'Solanum phureja f. orbiculatum',\n",
       "   'Solanum andigenum var. imilla',\n",
       "   'Solanum stenotomum f. cochicallo',\n",
       "   'Solanum andigenum f. lilacinoflorum',\n",
       "   'Solanum erlansonii',\n",
       "   'Solanum andigenum f. magnicorollatum',\n",
       "   'Solanum stenotomum var. ccami',\n",
       "   'Solanum andigenum var. carhua',\n",
       "   'Solanum andigenum f. ccompetillo',\n",
       "   'Solanum tuberosum var. alaudinum',\n",
       "   'Solanum tuberosum var. palatinatum',\n",
       "   'Solanum tuberosum f. mahuinhue',\n",
       "   'Solanum stenotomum var. poccoya',\n",
       "   'Solanum tuberosum var. cucumerinum',\n",
       "   'Solanum phureja var. pujeri',\n",
       "   'Solanum tuberosum var. laurentianum',\n",
       "   'Solanum tuberosum var. brevipilosum',\n",
       "   'Solanum stenotomum subsp. goniocalyx',\n",
       "   'Solanum chaucha var. ccoe-sulla',\n",
       "   'Solanum stenotomum f. huanuchi',\n",
       "   'Solanum andigenum subsp. bolivianum',\n",
       "   'Solanum stenotomum f. kantillero',\n",
       "   'Solanum tuberosum f. wila-huaycku',\n",
       "   'Solanum tuberosum f. azul-runa',\n",
       "   'Solanum chariense',\n",
       "   'Solanum andigenum f. uncuna',\n",
       "   'Solanum parvicorollatum',\n",
       "   'Solanum phureja var. erlansonii',\n",
       "   'Solanum tuberosum f. surico',\n",
       "   'Solanum yabari var. pepino',\n",
       "   'Solanum tuberosum var. chubutense',\n",
       "   'Solanum chaucha f. roseum',\n",
       "   'Solanum tuberosum var. tinctorium',\n",
       "   'Solanum andigenum f. discolor',\n",
       "   'Solanum tuberosum f. auriculatum',\n",
       "   'Solanum tuberosum f. tenuipedicellatum',\n",
       "   'Solanum andigenum subsp. centraliperuvianum',\n",
       "   'Solanum tuberosum var. californicum',\n",
       "   'Solanum maglia var. guaytecarum',\n",
       "   'Solanum stenotomum f. huallata-chinchi',\n",
       "   'Solanum andigenum f. elongatipedicellatum',\n",
       "   'Solanum andigenum var. juninum',\n",
       "   'Solanum tuberosum f. nigrum',\n",
       "   'Solanum tuberosum var. polemoniifolium'],\n",
       "  'genus': 'Solanum',\n",
       "  'family': 'Solanaceae',\n",
       "  'links': {'self': '/api/v1/species/solanum-tuberosum',\n",
       "   'plant': '/api/v1/plants/solanum-tuberosum',\n",
       "   'genus': '/api/v1/genus/solanum'}}]"
      ]
     },
     "execution_count": 76,
     "metadata": {},
     "output_type": "execute_result"
    }
   ],
   "source": [
    "[plant for plant in plants if len(plant['synonyms']) > 300]"
   ]
  },
  {
   "cell_type": "markdown",
   "metadata": {
    "heading_collapsed": true,
    "hidden": true
   },
   "source": [
    "<details>\n",
    "    <summary>\n",
    "        Answer\n",
    "    </summary>\n",
    "\n",
    "```python\n",
    "[plant for plant in plants if len(plant['synonyms']) > 300]\n",
    "```\n",
    "</details>"
   ]
  },
  {
   "cell_type": "markdown",
   "metadata": {
    "heading_collapsed": true,
    "hidden": true
   },
   "source": [
    "## Bibliography"
   ]
  },
  {
   "cell_type": "code",
   "execution_count": 77,
   "metadata": {
    "hidden": true
   },
   "outputs": [],
   "source": [
    "biblios = [plant['bibliography']for plant in plants]"
   ]
  },
  {
   "cell_type": "code",
   "execution_count": 78,
   "metadata": {
    "hidden": true
   },
   "outputs": [
    {
     "data": {
      "text/plain": [
       "'Encycl. 1: 723 (1785)'"
      ]
     },
     "execution_count": 78,
     "metadata": {},
     "output_type": "execute_result"
    }
   ],
   "source": [
    "biblios[0:5]"
   ]
  },
  {
   "cell_type": "markdown",
   "metadata": {
    "hidden": true
   },
   "source": [
    "Let's check the bibliographies for any explicit mention of Linnaeus, the godfather of biological taxonomy. First we'll remove the plants with no bibliography:"
   ]
  },
  {
   "cell_type": "code",
   "execution_count": 83,
   "metadata": {
    "hidden": true
   },
   "outputs": [
    {
     "data": {
      "text/plain": [
       "994"
      ]
     },
     "execution_count": 83,
     "metadata": {},
     "output_type": "execute_result"
    }
   ],
   "source": [
    "hasbib = [plant for plant in plants if plant['bibliography'] !=None]\n",
    "len(hasbib)"
   ]
  },
  {
   "cell_type": "code",
   "execution_count": 86,
   "metadata": {
    "hidden": true
   },
   "outputs": [
    {
     "data": {
      "text/plain": [
       "['Linnaeus, C. (1753). Species plantarum, exhibentes plantas rite cognitas ad genera relatas cum differentiis specificis, nominibus trivialibus, synonymis selectis, locis natalibus, secundum systema sexuale digestas. Stockholm.']"
      ]
     },
     "execution_count": 86,
     "metadata": {},
     "output_type": "execute_result"
    }
   ],
   "source": [
    "lin = [plant['bibliography'] for plant in hasbib if 'Linnaeus' in plant['bibliography']]\n",
    "lin"
   ]
  },
  {
   "cell_type": "code",
   "execution_count": 89,
   "metadata": {
    "hidden": true
   },
   "outputs": [
    {
     "data": {
      "text/plain": [
       "['Encycl. 1: 723 (1785)',\n",
       " 'Sp. Pl.: 984 (1753)',\n",
       " 'Sp. Pl.: 71 (1753)',\n",
       " 'Sp. Pl.: 113 (1753)',\n",
       " 'Sp. Pl.: 996 (1753)',\n",
       " 'Sp. pl. 1:74.  1753',\n",
       " 'Sp. Pl.: 554 (1753)',\n",
       " 'Sp. Pl.: 1048 (1753)',\n",
       " 'Sp. Pl.: 767 (1753)',\n",
       " 'Sp. Pl.: 1057 (1753)',\n",
       " 'Fl. Austriac. 3: 50 (1775)',\n",
       " 'Sp. Pl.: 768 (1753)',\n",
       " 'Sp. Pl.: 554 (1753)',\n",
       " 'Sp. Pl.: 998 (1753)',\n",
       " 'Sp. Pl.: 998 (1753)',\n",
       " 'Sp. Pl.: 326 (1753)',\n",
       " 'Sp. pl. 1:337.  1753, nom. cons.',\n",
       " 'Sp. Pl.: 28 (1753)',\n",
       " 'Trudy Imp. S.-Peterburgsk. Bot. Sada 6: 251 (1879)',\n",
       " 'Sp. pl. 2:1054.  1753']"
      ]
     },
     "execution_count": 89,
     "metadata": {},
     "output_type": "execute_result"
    }
   ],
   "source": [
    "biblios[0:20]"
   ]
  },
  {
   "cell_type": "markdown",
   "metadata": {
    "heading_collapsed": true
   },
   "source": [
    "# Matching Author and Bibliography"
   ]
  },
  {
   "cell_type": "markdown",
   "metadata": {
    "hidden": true
   },
   "source": [
    "In fact, _Species Plantarum_ (1753) was written by Linnaeus, and \"Sp. Pl.\" in these bibliographies is a reference to that master work. Let's check to see who the author is for these records whose bibliographies start with \"Sp. Pl.\":"
   ]
  },
  {
   "cell_type": "code",
   "execution_count": 96,
   "metadata": {},
   "outputs": [
    {
     "data": {
      "text/plain": [
       "445"
      ]
     },
     "execution_count": 96,
     "metadata": {},
     "output_type": "execute_result"
    }
   ],
   "source": [
    "sps = []\n",
    "for plant in hasbib:\n",
    "    if plant['bibliography'].startswith('Sp. Pl.'):\n",
    "        sps.append(plant)\n",
    "        \n",
    "len(sps)"
   ]
  },
  {
   "cell_type": "code",
   "execution_count": 97,
   "metadata": {
    "hidden": true,
    "scrolled": true
   },
   "outputs": [
    {
     "data": {
      "text/plain": [
       "['L.',\n",
       " 'L.',\n",
       " 'L.',\n",
       " 'L.',\n",
       " 'L.',\n",
       " 'L.',\n",
       " 'L.',\n",
       " 'L.',\n",
       " 'L.',\n",
       " 'L.',\n",
       " 'L.',\n",
       " 'L.',\n",
       " 'L.',\n",
       " 'L.',\n",
       " 'L.',\n",
       " 'L.',\n",
       " 'L.',\n",
       " 'L.',\n",
       " 'L.',\n",
       " 'L.',\n",
       " 'L.',\n",
       " 'L.',\n",
       " 'L.',\n",
       " 'L.',\n",
       " 'L.',\n",
       " 'L.',\n",
       " 'L.',\n",
       " 'L.',\n",
       " 'L.',\n",
       " 'L.',\n",
       " 'L.',\n",
       " 'L.',\n",
       " 'L.',\n",
       " 'L.',\n",
       " 'L.',\n",
       " 'L.',\n",
       " 'L.',\n",
       " 'L.',\n",
       " 'L.',\n",
       " 'L.',\n",
       " 'L.',\n",
       " 'L.',\n",
       " 'L.',\n",
       " 'L.',\n",
       " 'L.',\n",
       " 'L.',\n",
       " 'L.',\n",
       " 'L.',\n",
       " 'L.',\n",
       " 'L.',\n",
       " 'L.',\n",
       " 'L.',\n",
       " 'L.',\n",
       " 'L.',\n",
       " 'L.',\n",
       " 'L.',\n",
       " 'L.',\n",
       " 'L.',\n",
       " 'L.',\n",
       " 'L.',\n",
       " 'L.',\n",
       " 'L.',\n",
       " 'L.',\n",
       " 'L.',\n",
       " 'L.',\n",
       " 'L.',\n",
       " 'L.',\n",
       " 'L.',\n",
       " 'L.',\n",
       " 'L.',\n",
       " 'L.',\n",
       " 'L.',\n",
       " 'L.',\n",
       " 'L.',\n",
       " 'L.',\n",
       " 'L.',\n",
       " 'L.',\n",
       " 'L.',\n",
       " 'L.',\n",
       " 'L.',\n",
       " 'L.',\n",
       " 'L.',\n",
       " 'L.',\n",
       " 'L.',\n",
       " 'L.',\n",
       " 'L.',\n",
       " 'L.',\n",
       " 'L.',\n",
       " 'L.',\n",
       " 'L.',\n",
       " 'L.',\n",
       " 'L.',\n",
       " 'L.',\n",
       " 'L.',\n",
       " 'L.',\n",
       " 'L.',\n",
       " 'L.',\n",
       " 'L.',\n",
       " 'L.',\n",
       " 'L.',\n",
       " 'L.',\n",
       " 'L.',\n",
       " 'L.',\n",
       " 'L.',\n",
       " 'L.',\n",
       " 'L.',\n",
       " 'L.',\n",
       " 'L.',\n",
       " 'L.',\n",
       " 'L.',\n",
       " 'L.',\n",
       " 'L.',\n",
       " 'L.',\n",
       " 'L.',\n",
       " 'L.',\n",
       " 'L.',\n",
       " 'L.',\n",
       " 'L.',\n",
       " 'L.',\n",
       " 'L.',\n",
       " 'L.',\n",
       " 'L.',\n",
       " 'L.',\n",
       " 'L.',\n",
       " 'L.',\n",
       " 'L.',\n",
       " 'L.',\n",
       " 'L.',\n",
       " 'L.',\n",
       " 'L.',\n",
       " 'L.',\n",
       " 'L.',\n",
       " 'L.',\n",
       " 'L.',\n",
       " 'L.',\n",
       " 'L.',\n",
       " 'L.',\n",
       " 'L.',\n",
       " 'L.',\n",
       " 'L.',\n",
       " 'L.',\n",
       " 'L.',\n",
       " 'L.',\n",
       " 'L.',\n",
       " 'L.',\n",
       " 'L.',\n",
       " 'L.',\n",
       " 'L.',\n",
       " 'L.',\n",
       " 'L.',\n",
       " 'L.',\n",
       " 'L.',\n",
       " 'L.',\n",
       " '(L.) L.',\n",
       " 'L.',\n",
       " 'L.',\n",
       " 'L.',\n",
       " 'L.',\n",
       " 'L.',\n",
       " 'L.',\n",
       " 'L.',\n",
       " 'L.',\n",
       " 'L.',\n",
       " 'L.',\n",
       " 'L.',\n",
       " 'L.',\n",
       " 'L.',\n",
       " 'L.',\n",
       " 'L.',\n",
       " 'L.',\n",
       " 'L.',\n",
       " 'L.',\n",
       " 'L.',\n",
       " 'L.',\n",
       " 'L.',\n",
       " 'L.',\n",
       " 'L.',\n",
       " 'L.',\n",
       " 'L.',\n",
       " 'L.',\n",
       " 'L.',\n",
       " 'L.',\n",
       " 'L.',\n",
       " 'L.',\n",
       " 'L.',\n",
       " 'L.',\n",
       " 'L.',\n",
       " 'L.',\n",
       " 'L.',\n",
       " 'L.',\n",
       " 'L.',\n",
       " 'L.',\n",
       " 'L.',\n",
       " 'L.',\n",
       " 'L.',\n",
       " 'L.',\n",
       " 'L.',\n",
       " 'L.',\n",
       " 'L.',\n",
       " 'L.',\n",
       " 'L.',\n",
       " 'L.',\n",
       " '(J.Presl & C.Presl) Parl.',\n",
       " 'L.',\n",
       " 'L.',\n",
       " 'L.',\n",
       " 'L.',\n",
       " 'L.',\n",
       " 'L.',\n",
       " 'L.',\n",
       " 'L.',\n",
       " 'L.',\n",
       " 'L.',\n",
       " 'L.',\n",
       " 'L.',\n",
       " 'Willd.',\n",
       " 'L.',\n",
       " 'L.',\n",
       " 'L.',\n",
       " 'L.',\n",
       " 'L.',\n",
       " 'L.',\n",
       " 'L.',\n",
       " 'L.',\n",
       " 'L.',\n",
       " 'L.',\n",
       " 'L.',\n",
       " 'L.',\n",
       " 'L.',\n",
       " 'L.',\n",
       " 'L.',\n",
       " 'L.',\n",
       " 'L.',\n",
       " 'L.',\n",
       " 'L.',\n",
       " 'L.',\n",
       " 'L.',\n",
       " 'L.',\n",
       " 'L.',\n",
       " 'L.',\n",
       " 'L.',\n",
       " 'L.',\n",
       " 'L.',\n",
       " 'L.',\n",
       " 'L.',\n",
       " 'L.',\n",
       " 'L.',\n",
       " 'L.',\n",
       " 'L.',\n",
       " 'L.',\n",
       " 'L.',\n",
       " 'L.',\n",
       " 'L.',\n",
       " 'L.',\n",
       " 'L.',\n",
       " 'L.',\n",
       " 'L.',\n",
       " 'L.',\n",
       " 'L.',\n",
       " None,\n",
       " 'L.',\n",
       " 'L.',\n",
       " 'L.',\n",
       " 'L.',\n",
       " 'L.',\n",
       " '(L.) L.',\n",
       " 'L.',\n",
       " 'L.',\n",
       " 'L.',\n",
       " 'L.',\n",
       " 'L.',\n",
       " 'L.',\n",
       " 'L.',\n",
       " 'L.',\n",
       " 'L.',\n",
       " 'L.',\n",
       " 'L.',\n",
       " 'L.',\n",
       " 'L.',\n",
       " 'L.',\n",
       " 'L.',\n",
       " 'L.',\n",
       " 'L.',\n",
       " 'L.',\n",
       " 'L.',\n",
       " 'L.',\n",
       " 'L.',\n",
       " 'L.',\n",
       " 'L.',\n",
       " 'L.',\n",
       " 'L.',\n",
       " 'L.',\n",
       " 'L.',\n",
       " 'L.',\n",
       " 'L.',\n",
       " 'L.',\n",
       " 'L.',\n",
       " 'L.',\n",
       " 'L.',\n",
       " 'L.',\n",
       " 'L.',\n",
       " 'L.',\n",
       " 'L.',\n",
       " 'L.',\n",
       " 'L.',\n",
       " 'L.',\n",
       " 'L.',\n",
       " 'L.',\n",
       " 'L.',\n",
       " 'L.',\n",
       " 'L.',\n",
       " 'L.',\n",
       " 'L.',\n",
       " 'L.',\n",
       " 'L.',\n",
       " 'L.',\n",
       " 'L.',\n",
       " 'A.Haines (Linnaeus)',\n",
       " 'L.',\n",
       " 'L.',\n",
       " 'L.',\n",
       " 'L.',\n",
       " 'L.',\n",
       " 'L.',\n",
       " 'L.',\n",
       " 'L.',\n",
       " 'L.',\n",
       " 'L.',\n",
       " 'L.',\n",
       " 'L.',\n",
       " 'L.',\n",
       " 'L.',\n",
       " 'L.',\n",
       " 'L.',\n",
       " 'L.',\n",
       " 'L.',\n",
       " 'L.',\n",
       " 'L.',\n",
       " 'L.',\n",
       " 'L.',\n",
       " 'L.',\n",
       " 'L.',\n",
       " 'L.',\n",
       " 'L.',\n",
       " 'L.',\n",
       " 'L.',\n",
       " 'L.',\n",
       " 'L.',\n",
       " 'L.',\n",
       " 'L.',\n",
       " 'L.',\n",
       " 'L.',\n",
       " 'L.',\n",
       " 'L.',\n",
       " 'L.',\n",
       " 'L.',\n",
       " 'L.',\n",
       " 'L.',\n",
       " 'L.',\n",
       " 'L.',\n",
       " 'L.',\n",
       " 'L.',\n",
       " 'L.',\n",
       " 'L.',\n",
       " 'L.',\n",
       " 'L.',\n",
       " 'L.',\n",
       " 'L.',\n",
       " 'L.',\n",
       " 'L.',\n",
       " 'L.',\n",
       " 'L.',\n",
       " 'L.',\n",
       " 'L.',\n",
       " 'L.',\n",
       " 'L.',\n",
       " 'L.',\n",
       " 'L.',\n",
       " 'L.',\n",
       " 'L.',\n",
       " 'L.',\n",
       " 'L.',\n",
       " 'L.',\n",
       " 'L.',\n",
       " 'L.',\n",
       " 'L.',\n",
       " 'L.',\n",
       " 'L.',\n",
       " 'L.',\n",
       " 'L.',\n",
       " 'L.',\n",
       " 'L.',\n",
       " 'L.',\n",
       " 'L.',\n",
       " 'L.',\n",
       " 'L.',\n",
       " 'L.',\n",
       " 'L.',\n",
       " 'L.',\n",
       " 'L.',\n",
       " 'L.',\n",
       " 'L.',\n",
       " 'L.',\n",
       " 'L.',\n",
       " 'L.',\n",
       " 'L.',\n",
       " 'L.',\n",
       " 'L.',\n",
       " 'L.',\n",
       " 'L.',\n",
       " 'L.',\n",
       " 'L.',\n",
       " 'L.',\n",
       " 'L.',\n",
       " 'L.',\n",
       " 'L.',\n",
       " 'L.',\n",
       " 'L.',\n",
       " 'L.',\n",
       " 'L.',\n",
       " 'L.',\n",
       " 'L.',\n",
       " 'L.',\n",
       " 'L.',\n",
       " 'L.',\n",
       " 'L.',\n",
       " 'L.',\n",
       " 'L.',\n",
       " 'L.',\n",
       " 'L.',\n",
       " 'L.',\n",
       " 'L.',\n",
       " 'L.',\n",
       " 'L.',\n",
       " 'L.',\n",
       " 'L.',\n",
       " 'L.',\n",
       " 'L.',\n",
       " 'L.',\n",
       " 'L.',\n",
       " 'L.',\n",
       " 'L.',\n",
       " 'L.',\n",
       " 'L.',\n",
       " 'L.']"
      ]
     },
     "execution_count": 97,
     "metadata": {},
     "output_type": "execute_result"
    }
   ],
   "source": [
    "sp_authors = [sp['author'] for sp in sps]\n",
    "sp_authors"
   ]
  },
  {
   "cell_type": "code",
   "execution_count": 98,
   "metadata": {
    "hidden": true
   },
   "outputs": [
    {
     "data": {
      "text/plain": [
       "['Willd.',\n",
       " '(L.) L.',\n",
       " None,\n",
       " 'A.Haines (Linnaeus)',\n",
       " '(J.Presl & C.Presl) Parl.',\n",
       " 'L.']"
      ]
     },
     "execution_count": 98,
     "metadata": {},
     "output_type": "execute_result"
    }
   ],
   "source": [
    "uniq_authors = list(set(sp_authors))\n",
    "uniq_authors"
   ]
  },
  {
   "cell_type": "code",
   "execution_count": 102,
   "metadata": {
    "hidden": true
   },
   "outputs": [],
   "source": [
    "for plant in hasbib:\n",
    "    try:\n",
    "        if plant['bibliography'].startswith('Sp. Pl.'):\n",
    "            plant['author'] = 'L.'\n",
    "    except:\n",
    "            continue"
   ]
  },
  {
   "cell_type": "code",
   "execution_count": null,
   "metadata": {
    "hidden": true
   },
   "outputs": [],
   "source": []
  },
  {
   "cell_type": "markdown",
   "metadata": {
    "heading_collapsed": true,
    "hidden": true
   },
   "source": [
    "## Exercise"
   ]
  },
  {
   "cell_type": "markdown",
   "metadata": {
    "hidden": true
   },
   "source": [
    "Change the author to 'L.' (for 'Linnaeus') for all of these records."
   ]
  },
  {
   "cell_type": "code",
   "execution_count": null,
   "metadata": {
    "hidden": true
   },
   "outputs": [],
   "source": []
  },
  {
   "cell_type": "markdown",
   "metadata": {
    "hidden": true
   },
   "source": [
    "<details>\n",
    "    <summary>\n",
    "        Answer\n",
    "    </summary>\n",
    "\n",
    "```python\n",
    "for plant in plants:\n",
    "    try:\n",
    "        if plant['bibliography'].startswith('Sp. Pl.'):\n",
    "            plant['author'] = 'L.'\n",
    "    except:\n",
    "        continue\n",
    "```\n",
    "</details>"
   ]
  },
  {
   "cell_type": "markdown",
   "metadata": {
    "heading_collapsed": true
   },
   "source": [
    "# Teaser: Bringing in `pandas`: Back to Synonyms"
   ]
  },
  {
   "cell_type": "markdown",
   "metadata": {
    "hidden": true
   },
   "source": [
    "Let's take advantage of the DataFrame tools from `pandas`:"
   ]
  },
  {
   "cell_type": "code",
   "execution_count": 103,
   "metadata": {},
   "outputs": [],
   "source": [
    "# Need to first import pandas\n",
    "import pandas as pd"
   ]
  },
  {
   "cell_type": "code",
   "execution_count": 104,
   "metadata": {
    "hidden": true
   },
   "outputs": [],
   "source": [
    "plants_df = pd.DataFrame(plants)"
   ]
  },
  {
   "cell_type": "code",
   "execution_count": 105,
   "metadata": {
    "hidden": true
   },
   "outputs": [
    {
     "data": {
      "text/html": [
       "<div>\n",
       "<style scoped>\n",
       "    .dataframe tbody tr th:only-of-type {\n",
       "        vertical-align: middle;\n",
       "    }\n",
       "\n",
       "    .dataframe tbody tr th {\n",
       "        vertical-align: top;\n",
       "    }\n",
       "\n",
       "    .dataframe thead th {\n",
       "        text-align: right;\n",
       "    }\n",
       "</style>\n",
       "<table border=\"1\" class=\"dataframe\">\n",
       "  <thead>\n",
       "    <tr style=\"text-align: right;\">\n",
       "      <th></th>\n",
       "      <th>id</th>\n",
       "      <th>common_name</th>\n",
       "      <th>slug</th>\n",
       "      <th>scientific_name</th>\n",
       "      <th>year</th>\n",
       "      <th>bibliography</th>\n",
       "      <th>author</th>\n",
       "      <th>status</th>\n",
       "      <th>rank</th>\n",
       "      <th>family_common_name</th>\n",
       "      <th>genus_id</th>\n",
       "      <th>image_url</th>\n",
       "      <th>synonyms</th>\n",
       "      <th>genus</th>\n",
       "      <th>family</th>\n",
       "      <th>links</th>\n",
       "    </tr>\n",
       "  </thead>\n",
       "  <tbody>\n",
       "    <tr>\n",
       "      <th>0</th>\n",
       "      <td>678281</td>\n",
       "      <td>Evergreen oak</td>\n",
       "      <td>quercus-rotundifolia</td>\n",
       "      <td>Quercus rotundifolia</td>\n",
       "      <td>1785.0</td>\n",
       "      <td>Encycl. 1: 723 (1785)</td>\n",
       "      <td>Lam.</td>\n",
       "      <td>accepted</td>\n",
       "      <td>species</td>\n",
       "      <td>Beech family</td>\n",
       "      <td>5778</td>\n",
       "      <td>https://bs.plantnet.org/image/o/1a03948baf0300...</td>\n",
       "      <td>[Quercus lyauteyi, Quercus rotundifolia f. cra...</td>\n",
       "      <td>Quercus</td>\n",
       "      <td>Fagaceae</td>\n",
       "      <td>{'self': '/api/v1/species/quercus-rotundifolia...</td>\n",
       "    </tr>\n",
       "    <tr>\n",
       "      <th>1</th>\n",
       "      <td>190500</td>\n",
       "      <td>Stinging nettle</td>\n",
       "      <td>urtica-dioica</td>\n",
       "      <td>Urtica dioica</td>\n",
       "      <td>1753.0</td>\n",
       "      <td>Sp. Pl.: 984 (1753)</td>\n",
       "      <td>L.</td>\n",
       "      <td>accepted</td>\n",
       "      <td>species</td>\n",
       "      <td>Nettle family</td>\n",
       "      <td>1028</td>\n",
       "      <td>https://bs.plantnet.org/image/o/85256a1c2c098e...</td>\n",
       "      <td>[Urtica major, Urtica tibetica, Urtica sicula,...</td>\n",
       "      <td>Urtica</td>\n",
       "      <td>Urticaceae</td>\n",
       "      <td>{'self': '/api/v1/species/urtica-dioica', 'pla...</td>\n",
       "    </tr>\n",
       "    <tr>\n",
       "      <th>2</th>\n",
       "      <td>126957</td>\n",
       "      <td>Orchardgrass</td>\n",
       "      <td>dactylis-glomerata</td>\n",
       "      <td>Dactylis glomerata</td>\n",
       "      <td>1753.0</td>\n",
       "      <td>Sp. Pl.: 71 (1753)</td>\n",
       "      <td>L.</td>\n",
       "      <td>accepted</td>\n",
       "      <td>species</td>\n",
       "      <td>Grass family</td>\n",
       "      <td>2284</td>\n",
       "      <td>https://bs.plantnet.org/image/o/428f40dadfa028...</td>\n",
       "      <td>[Koeleria dactylis, Festuca glomerata, Trachyp...</td>\n",
       "      <td>Dactylis</td>\n",
       "      <td>Poaceae</td>\n",
       "      <td>{'self': '/api/v1/species/dactylis-glomerata',...</td>\n",
       "    </tr>\n",
       "    <tr>\n",
       "      <th>3</th>\n",
       "      <td>167888</td>\n",
       "      <td>Narrowleaf plantain</td>\n",
       "      <td>plantago-lanceolata</td>\n",
       "      <td>Plantago lanceolata</td>\n",
       "      <td>1753.0</td>\n",
       "      <td>Sp. Pl.: 113 (1753)</td>\n",
       "      <td>L.</td>\n",
       "      <td>accepted</td>\n",
       "      <td>species</td>\n",
       "      <td>Plantain family</td>\n",
       "      <td>5418</td>\n",
       "      <td>https://bs.plantnet.org/image/o/78a8374f009e6e...</td>\n",
       "      <td>[Plantago lanceolata var. sphaerostachya, Plan...</td>\n",
       "      <td>Plantago</td>\n",
       "      <td>Plantaginaceae</td>\n",
       "      <td>{'self': '/api/v1/species/plantago-lanceolata'...</td>\n",
       "    </tr>\n",
       "    <tr>\n",
       "      <th>4</th>\n",
       "      <td>173327</td>\n",
       "      <td>English oak</td>\n",
       "      <td>quercus-robur</td>\n",
       "      <td>Quercus robur</td>\n",
       "      <td>1753.0</td>\n",
       "      <td>Sp. Pl.: 996 (1753)</td>\n",
       "      <td>L.</td>\n",
       "      <td>accepted</td>\n",
       "      <td>species</td>\n",
       "      <td>Beech family</td>\n",
       "      <td>5778</td>\n",
       "      <td>https://bs.plantnet.org/image/o/2292b670683abd...</td>\n",
       "      <td>[Quercus longaeva, Quercus salicifolia, Quercu...</td>\n",
       "      <td>Quercus</td>\n",
       "      <td>Fagaceae</td>\n",
       "      <td>{'self': '/api/v1/species/quercus-robur', 'pla...</td>\n",
       "    </tr>\n",
       "  </tbody>\n",
       "</table>\n",
       "</div>"
      ],
      "text/plain": [
       "       id          common_name                  slug       scientific_name  \\\n",
       "0  678281        Evergreen oak  quercus-rotundifolia  Quercus rotundifolia   \n",
       "1  190500      Stinging nettle         urtica-dioica         Urtica dioica   \n",
       "2  126957         Orchardgrass    dactylis-glomerata    Dactylis glomerata   \n",
       "3  167888  Narrowleaf plantain   plantago-lanceolata   Plantago lanceolata   \n",
       "4  173327          English oak         quercus-robur         Quercus robur   \n",
       "\n",
       "     year           bibliography author    status     rank family_common_name  \\\n",
       "0  1785.0  Encycl. 1: 723 (1785)   Lam.  accepted  species       Beech family   \n",
       "1  1753.0    Sp. Pl.: 984 (1753)     L.  accepted  species      Nettle family   \n",
       "2  1753.0     Sp. Pl.: 71 (1753)     L.  accepted  species       Grass family   \n",
       "3  1753.0    Sp. Pl.: 113 (1753)     L.  accepted  species    Plantain family   \n",
       "4  1753.0    Sp. Pl.: 996 (1753)     L.  accepted  species       Beech family   \n",
       "\n",
       "   genus_id                                          image_url  \\\n",
       "0      5778  https://bs.plantnet.org/image/o/1a03948baf0300...   \n",
       "1      1028  https://bs.plantnet.org/image/o/85256a1c2c098e...   \n",
       "2      2284  https://bs.plantnet.org/image/o/428f40dadfa028...   \n",
       "3      5418  https://bs.plantnet.org/image/o/78a8374f009e6e...   \n",
       "4      5778  https://bs.plantnet.org/image/o/2292b670683abd...   \n",
       "\n",
       "                                            synonyms     genus  \\\n",
       "0  [Quercus lyauteyi, Quercus rotundifolia f. cra...   Quercus   \n",
       "1  [Urtica major, Urtica tibetica, Urtica sicula,...    Urtica   \n",
       "2  [Koeleria dactylis, Festuca glomerata, Trachyp...  Dactylis   \n",
       "3  [Plantago lanceolata var. sphaerostachya, Plan...  Plantago   \n",
       "4  [Quercus longaeva, Quercus salicifolia, Quercu...   Quercus   \n",
       "\n",
       "           family                                              links  \n",
       "0        Fagaceae  {'self': '/api/v1/species/quercus-rotundifolia...  \n",
       "1      Urticaceae  {'self': '/api/v1/species/urtica-dioica', 'pla...  \n",
       "2         Poaceae  {'self': '/api/v1/species/dactylis-glomerata',...  \n",
       "3  Plantaginaceae  {'self': '/api/v1/species/plantago-lanceolata'...  \n",
       "4        Fagaceae  {'self': '/api/v1/species/quercus-robur', 'pla...  "
      ]
     },
     "execution_count": 105,
     "metadata": {},
     "output_type": "execute_result"
    }
   ],
   "source": [
    "plants_df.head()"
   ]
  },
  {
   "cell_type": "markdown",
   "metadata": {
    "heading_collapsed": true,
    "hidden": true
   },
   "source": [
    "## Exercises for Later"
   ]
  },
  {
   "cell_type": "markdown",
   "metadata": {
    "hidden": true
   },
   "source": [
    "1. Add the number of synonyms as a new column called \"num_syn\".\n",
    "2. Sort the DataFrame by number of synonyms in descending order.\n",
    "3. Grab the Image URL of the plant that has the fourth-highest number of synonyms.\n",
    "4. Paste it into your browser and take a look!"
   ]
  },
  {
   "cell_type": "code",
   "execution_count": null,
   "metadata": {},
   "outputs": [],
   "source": [
    "\n",
    "\n",
    "\n",
    "\n"
   ]
  },
  {
   "cell_type": "markdown",
   "metadata": {
    "hidden": true
   },
   "source": [
    "<details>\n",
    "    <summary>Answer here\n",
    "    </summary>\n",
    "\n",
    "```python\n",
    "plants_df['num_syn'] = plants_df['synonyms'].map(len)\n",
    "sorted = plants_df.sort_values('num_syn', ascending=False)\n",
    "sorted.loc[3, 'image_url']\n",
    "```\n",
    "</details>"
   ]
  },
  {
   "cell_type": "markdown",
   "metadata": {
    "heading_collapsed": true
   },
   "source": [
    "# Year"
   ]
  },
  {
   "cell_type": "markdown",
   "metadata": {
    "hidden": true
   },
   "source": [
    "The year is an indication of when a valid name for the plant first appeared in print. Let's build a simple histogram of these years:"
   ]
  },
  {
   "cell_type": "code",
   "execution_count": null,
   "metadata": {
    "hidden": true,
    "scrolled": true
   },
   "outputs": [],
   "source": [
    "fig, ax = plt.subplots()\n",
    "\n",
    "ax.hist(plants_df[plants_df['year'] > 0]['year'], color='darkgreen');"
   ]
  }
 ],
 "metadata": {
  "kernelspec": {
   "display_name": "Python 3",
   "language": "python",
   "name": "python3"
  },
  "language_info": {
   "codemirror_mode": {
    "name": "ipython",
    "version": 3
   },
   "file_extension": ".py",
   "mimetype": "text/x-python",
   "name": "python",
   "nbconvert_exporter": "python",
   "pygments_lexer": "ipython3",
   "version": "3.8.5"
  },
  "toc": {
   "base_numbering": 1,
   "nav_menu": {},
   "number_sections": true,
   "sideBar": true,
   "skip_h1_title": false,
   "title_cell": "Table of Contents",
   "title_sidebar": "TOC",
   "toc_cell": true,
   "toc_position": {
    "height": "calc(100% - 180px)",
    "left": "10px",
    "top": "150px",
    "width": "288px"
   },
   "toc_section_display": true,
   "toc_window_display": true
  }
 },
 "nbformat": 4,
 "nbformat_minor": 4
}
