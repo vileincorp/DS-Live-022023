{
 "cells": [
  {
   "cell_type": "markdown",
   "metadata": {
    "toc": true
   },
   "source": [
    "<h1>Table of Contents<span class=\"tocSkip\"></span></h1>\n",
    "<div class=\"toc\"><ul class=\"toc-item\"><li><span><a href=\"#Objectives\" data-toc-modified-id=\"Objectives-1\"><span class=\"toc-item-num\">1&nbsp;&nbsp;</span>Objectives</a></span></li><li><span><a href=\"#APIs\" data-toc-modified-id=\"APIs-2\"><span class=\"toc-item-num\">2&nbsp;&nbsp;</span>APIs</a></span><ul class=\"toc-item\"><li><span><a href=\"#Overview-of-APIs\" data-toc-modified-id=\"Overview-of-APIs-2.1\"><span class=\"toc-item-num\">2.1&nbsp;&nbsp;</span>Overview of APIs</a></span><ul class=\"toc-item\"><li><span><a href=\"#Parts-on-an-API\" data-toc-modified-id=\"Parts-on-an-API-2.1.1\"><span class=\"toc-item-num\">2.1.1&nbsp;&nbsp;</span>Parts on an API</a></span></li></ul></li><li><span><a href=\"#The-requests-Library-and-its-.get()-Method\" data-toc-modified-id=\"The-requests-Library-and-its-.get()-Method-2.2\"><span class=\"toc-item-num\">2.2&nbsp;&nbsp;</span>The <code>requests</code> Library and its <code>.get()</code> Method</a></span></li><li><span><a href=\"#Parsing-JSON-Responses\" data-toc-modified-id=\"Parsing-JSON-Responses-2.3\"><span class=\"toc-item-num\">2.3&nbsp;&nbsp;</span>Parsing JSON Responses</a></span></li><li><span><a href=\"#Status-Codes\" data-toc-modified-id=\"Status-Codes-2.4\"><span class=\"toc-item-num\">2.4&nbsp;&nbsp;</span>Status Codes</a></span><ul class=\"toc-item\"><li><span><a href=\"#Common-status-codes\" data-toc-modified-id=\"Common-status-codes-2.4.1\"><span class=\"toc-item-num\">2.4.1&nbsp;&nbsp;</span>Common status codes</a></span></li><li><span><a href=\"#Hitting-the-right-endpoint\" data-toc-modified-id=\"Hitting-the-right-endpoint-2.4.2\"><span class=\"toc-item-num\">2.4.2&nbsp;&nbsp;</span>Hitting the right endpoint</a></span></li></ul></li><li><span><a href=\"#Query-Parameters\" data-toc-modified-id=\"Query-Parameters-2.5\"><span class=\"toc-item-num\">2.5&nbsp;&nbsp;</span>Query Parameters</a></span></li></ul></li><li><span><a href=\"#Secure-APIs:-Generating-Access-Tokens\" data-toc-modified-id=\"Secure-APIs:-Generating-Access-Tokens-3\"><span class=\"toc-item-num\">3&nbsp;&nbsp;</span>Secure APIs: Generating Access Tokens</a></span><ul class=\"toc-item\"><li><span><a href=\"#An-Example-Request-with-OAuth\" data-toc-modified-id=\"An-Example-Request-with-OAuth-3.1\"><span class=\"toc-item-num\">3.1&nbsp;&nbsp;</span>An Example Request with OAuth</a></span></li><li><span><a href=\"#Storing-your-API-Key-Securely\" data-toc-modified-id=\"Storing-your-API-Key-Securely-3.2\"><span class=\"toc-item-num\">3.2&nbsp;&nbsp;</span>Storing your API Key Securely</a></span><ul class=\"toc-item\"><li><span><a href=\"#Step-1---Create-a-hidden-.secrets-folder-in-your-repository\" data-toc-modified-id=\"Step-1---Create-a-hidden-.secrets-folder-in-your-repository-3.2.1\"><span class=\"toc-item-num\">3.2.1&nbsp;&nbsp;</span>Step 1 - Create a hidden <code>.secrets</code> folder in your repository</a></span></li><li><span><a href=\"#Step-2---Put-your-credentials-in-a-file-in-the-.secrets-folder\" data-toc-modified-id=\"Step-2---Put-your-credentials-in-a-file-in-the-.secrets-folder-3.2.2\"><span class=\"toc-item-num\">3.2.2&nbsp;&nbsp;</span>Step 2 - Put your credentials in a file in the <code>.secrets</code> folder</a></span></li><li><span><a href=\"#Step-3---Add-the-.secrets/-folder-to-the-.gitignore-file\" data-toc-modified-id=\"Step-3---Add-the-.secrets/-folder-to-the-.gitignore-file-3.2.3\"><span class=\"toc-item-num\">3.2.3&nbsp;&nbsp;</span>Step 3 - Add the <code>.secrets/</code> folder to the <code>.gitignore</code> file</a></span></li><li><span><a href=\"#Check-If-It-Worked!\" data-toc-modified-id=\"Check-If-It-Worked!-3.2.4\"><span class=\"toc-item-num\">3.2.4&nbsp;&nbsp;</span>Check If It Worked!</a></span></li></ul></li><li><span><a href=\"#Making-our-Request\" data-toc-modified-id=\"Making-our-Request-3.3\"><span class=\"toc-item-num\">3.3&nbsp;&nbsp;</span>Making our Request</a></span></li><li><span><a href=\"#Breaking-Down-the-Request\" data-toc-modified-id=\"Breaking-Down-the-Request-3.4\"><span class=\"toc-item-num\">3.4&nbsp;&nbsp;</span>Breaking Down the Request</a></span></li><li><span><a href=\"#The-Response\" data-toc-modified-id=\"The-Response-3.5\"><span class=\"toc-item-num\">3.5&nbsp;&nbsp;</span>The Response</a></span></li></ul></li></ul></div>"
   ]
  },
  {
   "cell_type": "markdown",
   "metadata": {},
   "source": [
    "![](images/slurping_thru_api.jpeg)"
   ]
  },
  {
   "cell_type": "markdown",
   "metadata": {},
   "source": [
    "> Created by [@siscadraws](https://www.instagram.com/siscadraws/)"
   ]
  },
  {
   "cell_type": "code",
   "execution_count": 2,
   "metadata": {},
   "outputs": [],
   "source": [
    "import pandas as pd\n",
    "import requests\n",
    "import json"
   ]
  },
  {
   "cell_type": "markdown",
   "metadata": {
    "heading_collapsed": true
   },
   "source": [
    "# Objectives"
   ]
  },
  {
   "cell_type": "markdown",
   "metadata": {
    "hidden": true
   },
   "source": [
    "* Send requests and receive responses over the web\n",
    "* Retrieve data from APIs using the `requests` library\n",
    "* Parse API responses"
   ]
  },
  {
   "cell_type": "markdown",
   "metadata": {
    "heading_collapsed": true
   },
   "source": [
    "# APIs"
   ]
  },
  {
   "cell_type": "markdown",
   "metadata": {
    "hidden": true
   },
   "source": [
    "The term **Application Program Interfaces**, or APIs, is exceedingly general. It applies to any interaction between applications or between an application and a user. One might speak of the \"matplotlib API\" to describe proper plotting syntax but also of APIs that govern the interaction between various steps of a data pipeline: between a database server and a remote client, between a local machine and a cloud storage bucket, etc.\n",
    "\n",
    "APIs are commonly used to retrieve data from remote websites. Sites like Reddit, Twitter, and Facebook all offer certain data through their APIs. "
   ]
  },
  {
   "cell_type": "markdown",
   "metadata": {
    "heading_collapsed": true,
    "hidden": true
   },
   "source": [
    "## Overview of APIs"
   ]
  },
  {
   "cell_type": "markdown",
   "metadata": {
    "hidden": true
   },
   "source": [
    "An API communicates with another application:\n",
    "\n",
    "* Send request (with some info/data)\n",
    "* Get response\n",
    "    + data\n",
    "    + service\n",
    "\n",
    "\n",
    "It's always a software-to-software interaction"
   ]
  },
  {
   "cell_type": "markdown",
   "metadata": {
    "hidden": true
   },
   "source": [
    "![](images/web_api.png)\n",
    "> <a href=\"https://commons.wikimedia.org/wiki/File:Web_API.png\">Brivadeneira</a>, <a href=\"https://creativecommons.org/licenses/by-sa/4.0\">CC BY-SA 4.0</a>, via Wikimedia Commons"
   ]
  },
  {
   "cell_type": "markdown",
   "metadata": {
    "heading_collapsed": true,
    "hidden": true
   },
   "source": [
    "### Parts of an API"
   ]
  },
  {
   "cell_type": "markdown",
   "metadata": {
    "hidden": true
   },
   "source": [
    "* **Access Permissions**\n",
    "    + User allowed to ask?\n",
    "* **API Call/Request**\n",
    "    + Code used to make API call to implement complicated tasks/features\n",
    "    + *Methods*: what questions can we ask?\n",
    "    + *Parameters*: more info to be sent\n",
    "* **Repsonse**\n",
    "    + Result of request"
   ]
  },
  {
   "cell_type": "markdown",
   "metadata": {
    "heading_collapsed": true,
    "hidden": true
   },
   "source": [
    "## The `requests` Library and its `.get()` Method"
   ]
  },
  {
   "cell_type": "markdown",
   "metadata": {
    "hidden": true
   },
   "source": [
    "![](images/logo.png)"
   ]
  },
  {
   "cell_type": "markdown",
   "metadata": {
    "hidden": true
   },
   "source": [
    "To use an API, you make a request to a remote web server, and retrieve the data you need.\n",
    "\n",
    "We'll use the `requests` library to access web locations."
   ]
  },
  {
   "cell_type": "markdown",
   "metadata": {
    "hidden": true
   },
   "source": [
    "Below is how you would install and import the requests library before making any requests. \n",
    "```python\n",
    "# Uncomment and install requests if you dont have it already\n",
    "# conda install -c anaconda requests\n",
    "\n",
    "# Import requests to working environment\n",
    "import requests\n",
    "```"
   ]
  },
  {
   "cell_type": "markdown",
   "metadata": {
    "hidden": true
   },
   "source": [
    "-------"
   ]
  },
  {
   "cell_type": "markdown",
   "metadata": {
    "hidden": true
   },
   "source": [
    "Now that we have `requests` library ready in our working environment, we can start making some requests using the `.get()` method as shown below.\n",
    "\n",
    "We can use a GET request to retrieve information from the OpenNotify API."
   ]
  },
  {
   "cell_type": "code",
   "execution_count": 3,
   "metadata": {
    "hidden": true
   },
   "outputs": [],
   "source": [
    "# Make a get request to get the latest position of the\n",
    "# International Space Station (ISS) from the opennotify api.\n",
    "\n",
    "url = 'http://api.open-notify.org/iss-now.json'\n",
    "iss_response = requests.get(url)"
   ]
  },
  {
   "cell_type": "markdown",
   "metadata": {
    "hidden": true
   },
   "source": [
    "This creates a `Response` object containing the response that we received"
   ]
  },
  {
   "cell_type": "code",
   "execution_count": 4,
   "metadata": {
    "hidden": true
   },
   "outputs": [
    {
     "data": {
      "text/plain": [
       "requests.models.Response"
      ]
     },
     "execution_count": 4,
     "metadata": {},
     "output_type": "execute_result"
    }
   ],
   "source": [
    "type(movie_response)"
   ]
  },
  {
   "cell_type": "markdown",
   "metadata": {
    "hidden": true
   },
   "source": [
    "The `Response` object contains a bunch of information about the response we got from the server. For example, it includes the status code, which can be helpful for diagnosing request issues. 200 means OK - we'll discuss others later."
   ]
  },
  {
   "cell_type": "code",
   "execution_count": 5,
   "metadata": {
    "hidden": true
   },
   "outputs": [
    {
     "data": {
      "text/plain": [
       "<Response [200]>"
      ]
     },
     "execution_count": 5,
     "metadata": {},
     "output_type": "execute_result"
    }
   ],
   "source": [
    "iss_response"
   ]
  },
  {
   "cell_type": "markdown",
   "metadata": {
    "hidden": true
   },
   "source": [
    "The `Response` object also contains the data received from our request in the `content` attribute. "
   ]
  },
  {
   "cell_type": "code",
   "execution_count": 6,
   "metadata": {
    "hidden": true
   },
   "outputs": [
    {
     "data": {
      "text/plain": [
       "b'{\"timestamp\": 1677775484, \"message\": \"success\", \"iss_position\": {\"longitude\": \"-97.2178\", \"latitude\": \"2.3118\"}}'"
      ]
     },
     "execution_count": 6,
     "metadata": {},
     "output_type": "execute_result"
    }
   ],
   "source": [
    "iss_response.content\n",
    "#gives the raw info of the file your trying to access via the API\n",
    "#b represents bites literal"
   ]
  },
  {
   "cell_type": "markdown",
   "metadata": {
    "heading_collapsed": true,
    "hidden": true
   },
   "source": [
    "## Parsing JSON Responses"
   ]
  },
  {
   "cell_type": "markdown",
   "metadata": {
    "hidden": true
   },
   "source": [
    "OpenNotify has several API **endpoints**. An endpoint is a server route that is used to retrieve different data from the API. For example, the `/comments` endpoint on the Reddit API might retrieve information about comments, whereas the `/users` endpoint might retrieve data about users. To access them, you would add the endpoint to the base url of the API."
   ]
  },
  {
   "cell_type": "code",
   "execution_count": 7,
   "metadata": {
    "hidden": true
   },
   "outputs": [
    {
     "name": "stdout",
     "output_type": "stream",
     "text": [
      "200\n"
     ]
    }
   ],
   "source": [
    "# Let's check out who is in space right now!\n",
    "\n",
    "url = 'http://api.open-notify.org/astros.json'\n",
    "astro_response = requests.get(url)\n",
    "print(astro_response.status_code)"
   ]
  },
  {
   "cell_type": "code",
   "execution_count": 8,
   "metadata": {
    "hidden": true
   },
   "outputs": [
    {
     "data": {
      "text/plain": [
       "b'{\"message\": \"success\", \"number\": 14, \"people\": [{\"craft\": \"ISS\", \"name\": \"Sergey Prokopyev\"}, {\"craft\": \"ISS\", \"name\": \"Dmitry Petelin\"}, {\"craft\": \"ISS\", \"name\": \"Frank Rubio\"}, {\"craft\": \"ISS\", \"name\": \"Nicole Mann\"}, {\"craft\": \"ISS\", \"name\": \"Josh Cassada\"}, {\"craft\": \"ISS\", \"name\": \"Koichi Wakata\"}, {\"craft\": \"ISS\", \"name\": \"Anna Kikina\"}, {\"craft\": \"Shenzhou 15\", \"name\": \"Fei Junlong\"}, {\"craft\": \"Shenzhou 15\", \"name\": \"Deng Qingming\"}, {\"craft\": \"Shenzhou 15\", \"name\": \"Zhang Lu\"}, {\"craft\": \"ISS\", \"name\": \"Stephen Bowen\"}, {\"craft\": \"ISS\", \"name\": \"Warren Hoburg\"}, {\"craft\": \"ISS\", \"name\": \"Sultan Alneyadi\"}, {\"craft\": \"ISS\", \"name\": \"Andrey Fedyaev\"}]}'"
      ]
     },
     "execution_count": 8,
     "metadata": {},
     "output_type": "execute_result"
    }
   ],
   "source": [
    "astro_response.content"
   ]
  },
  {
   "cell_type": "markdown",
   "metadata": {
    "hidden": true
   },
   "source": [
    "See the `b'` at the beginning? The `content` is stored in a \"byte literal\" format, not a Python dictionary."
   ]
  },
  {
   "cell_type": "code",
   "execution_count": 9,
   "metadata": {
    "hidden": true
   },
   "outputs": [
    {
     "data": {
      "text/plain": [
       "bytes"
      ]
     },
     "execution_count": 9,
     "metadata": {},
     "output_type": "execute_result"
    }
   ],
   "source": [
    "type(astro_response.content)"
   ]
  },
  {
   "cell_type": "markdown",
   "metadata": {
    "hidden": true
   },
   "source": [
    "We can look at the `text` attribute instead, but this still gives us a string, not a dictionary."
   ]
  },
  {
   "cell_type": "code",
   "execution_count": 10,
   "metadata": {
    "hidden": true
   },
   "outputs": [
    {
     "data": {
      "text/plain": [
       "'{\"message\": \"success\", \"number\": 14, \"people\": [{\"craft\": \"ISS\", \"name\": \"Sergey Prokopyev\"}, {\"craft\": \"ISS\", \"name\": \"Dmitry Petelin\"}, {\"craft\": \"ISS\", \"name\": \"Frank Rubio\"}, {\"craft\": \"ISS\", \"name\": \"Nicole Mann\"}, {\"craft\": \"ISS\", \"name\": \"Josh Cassada\"}, {\"craft\": \"ISS\", \"name\": \"Koichi Wakata\"}, {\"craft\": \"ISS\", \"name\": \"Anna Kikina\"}, {\"craft\": \"Shenzhou 15\", \"name\": \"Fei Junlong\"}, {\"craft\": \"Shenzhou 15\", \"name\": \"Deng Qingming\"}, {\"craft\": \"Shenzhou 15\", \"name\": \"Zhang Lu\"}, {\"craft\": \"ISS\", \"name\": \"Stephen Bowen\"}, {\"craft\": \"ISS\", \"name\": \"Warren Hoburg\"}, {\"craft\": \"ISS\", \"name\": \"Sultan Alneyadi\"}, {\"craft\": \"ISS\", \"name\": \"Andrey Fedyaev\"}]}'"
      ]
     },
     "execution_count": 10,
     "metadata": {},
     "output_type": "execute_result"
    }
   ],
   "source": [
    "astro_response.text #converts astro_response into a pure string"
   ]
  },
  {
   "cell_type": "markdown",
   "metadata": {
    "hidden": true
   },
   "source": [
    "To address this, we will use the `.json()` method to get a dictionary we can work with."
   ]
  },
  {
   "cell_type": "code",
   "execution_count": 12,
   "metadata": {},
   "outputs": [
    {
     "data": {
      "text/plain": [
       "dict_keys(['message', 'number', 'people'])"
      ]
     },
     "execution_count": 12,
     "metadata": {},
     "output_type": "execute_result"
    }
   ],
   "source": [
    "astro_data = astro_response.json()\n",
    "astro_data.keys()\n",
    "\n",
    "#takes the original astro_response.json() file and pulls keys from it"
   ]
  },
  {
   "cell_type": "code",
   "execution_count": 13,
   "metadata": {},
   "outputs": [
    {
     "data": {
      "text/plain": [
       "{'message': 'success',\n",
       " 'number': 14,\n",
       " 'people': [{'craft': 'ISS', 'name': 'Sergey Prokopyev'},\n",
       "  {'craft': 'ISS', 'name': 'Dmitry Petelin'},\n",
       "  {'craft': 'ISS', 'name': 'Frank Rubio'},\n",
       "  {'craft': 'ISS', 'name': 'Nicole Mann'},\n",
       "  {'craft': 'ISS', 'name': 'Josh Cassada'},\n",
       "  {'craft': 'ISS', 'name': 'Koichi Wakata'},\n",
       "  {'craft': 'ISS', 'name': 'Anna Kikina'},\n",
       "  {'craft': 'Shenzhou 15', 'name': 'Fei Junlong'},\n",
       "  {'craft': 'Shenzhou 15', 'name': 'Deng Qingming'},\n",
       "  {'craft': 'Shenzhou 15', 'name': 'Zhang Lu'},\n",
       "  {'craft': 'ISS', 'name': 'Stephen Bowen'},\n",
       "  {'craft': 'ISS', 'name': 'Warren Hoburg'},\n",
       "  {'craft': 'ISS', 'name': 'Sultan Alneyadi'},\n",
       "  {'craft': 'ISS', 'name': 'Andrey Fedyaev'}]}"
      ]
     },
     "execution_count": 13,
     "metadata": {},
     "output_type": "execute_result"
    }
   ],
   "source": [
    "astro_data"
   ]
  },
  {
   "cell_type": "code",
   "execution_count": 14,
   "metadata": {},
   "outputs": [
    {
     "data": {
      "text/html": [
       "<div>\n",
       "<style scoped>\n",
       "    .dataframe tbody tr th:only-of-type {\n",
       "        vertical-align: middle;\n",
       "    }\n",
       "\n",
       "    .dataframe tbody tr th {\n",
       "        vertical-align: top;\n",
       "    }\n",
       "\n",
       "    .dataframe thead th {\n",
       "        text-align: right;\n",
       "    }\n",
       "</style>\n",
       "<table border=\"1\" class=\"dataframe\">\n",
       "  <thead>\n",
       "    <tr style=\"text-align: right;\">\n",
       "      <th></th>\n",
       "      <th>message</th>\n",
       "      <th>number</th>\n",
       "      <th>people</th>\n",
       "    </tr>\n",
       "  </thead>\n",
       "  <tbody>\n",
       "    <tr>\n",
       "      <th>0</th>\n",
       "      <td>success</td>\n",
       "      <td>14</td>\n",
       "      <td>{'craft': 'ISS', 'name': 'Sergey Prokopyev'}</td>\n",
       "    </tr>\n",
       "    <tr>\n",
       "      <th>1</th>\n",
       "      <td>success</td>\n",
       "      <td>14</td>\n",
       "      <td>{'craft': 'ISS', 'name': 'Dmitry Petelin'}</td>\n",
       "    </tr>\n",
       "    <tr>\n",
       "      <th>2</th>\n",
       "      <td>success</td>\n",
       "      <td>14</td>\n",
       "      <td>{'craft': 'ISS', 'name': 'Frank Rubio'}</td>\n",
       "    </tr>\n",
       "    <tr>\n",
       "      <th>3</th>\n",
       "      <td>success</td>\n",
       "      <td>14</td>\n",
       "      <td>{'craft': 'ISS', 'name': 'Nicole Mann'}</td>\n",
       "    </tr>\n",
       "    <tr>\n",
       "      <th>4</th>\n",
       "      <td>success</td>\n",
       "      <td>14</td>\n",
       "      <td>{'craft': 'ISS', 'name': 'Josh Cassada'}</td>\n",
       "    </tr>\n",
       "    <tr>\n",
       "      <th>5</th>\n",
       "      <td>success</td>\n",
       "      <td>14</td>\n",
       "      <td>{'craft': 'ISS', 'name': 'Koichi Wakata'}</td>\n",
       "    </tr>\n",
       "    <tr>\n",
       "      <th>6</th>\n",
       "      <td>success</td>\n",
       "      <td>14</td>\n",
       "      <td>{'craft': 'ISS', 'name': 'Anna Kikina'}</td>\n",
       "    </tr>\n",
       "    <tr>\n",
       "      <th>7</th>\n",
       "      <td>success</td>\n",
       "      <td>14</td>\n",
       "      <td>{'craft': 'Shenzhou 15', 'name': 'Fei Junlong'}</td>\n",
       "    </tr>\n",
       "    <tr>\n",
       "      <th>8</th>\n",
       "      <td>success</td>\n",
       "      <td>14</td>\n",
       "      <td>{'craft': 'Shenzhou 15', 'name': 'Deng Qingming'}</td>\n",
       "    </tr>\n",
       "    <tr>\n",
       "      <th>9</th>\n",
       "      <td>success</td>\n",
       "      <td>14</td>\n",
       "      <td>{'craft': 'Shenzhou 15', 'name': 'Zhang Lu'}</td>\n",
       "    </tr>\n",
       "    <tr>\n",
       "      <th>10</th>\n",
       "      <td>success</td>\n",
       "      <td>14</td>\n",
       "      <td>{'craft': 'ISS', 'name': 'Stephen Bowen'}</td>\n",
       "    </tr>\n",
       "    <tr>\n",
       "      <th>11</th>\n",
       "      <td>success</td>\n",
       "      <td>14</td>\n",
       "      <td>{'craft': 'ISS', 'name': 'Warren Hoburg'}</td>\n",
       "    </tr>\n",
       "    <tr>\n",
       "      <th>12</th>\n",
       "      <td>success</td>\n",
       "      <td>14</td>\n",
       "      <td>{'craft': 'ISS', 'name': 'Sultan Alneyadi'}</td>\n",
       "    </tr>\n",
       "    <tr>\n",
       "      <th>13</th>\n",
       "      <td>success</td>\n",
       "      <td>14</td>\n",
       "      <td>{'craft': 'ISS', 'name': 'Andrey Fedyaev'}</td>\n",
       "    </tr>\n",
       "  </tbody>\n",
       "</table>\n",
       "</div>"
      ],
      "text/plain": [
       "    message  number                                             people\n",
       "0   success      14       {'craft': 'ISS', 'name': 'Sergey Prokopyev'}\n",
       "1   success      14         {'craft': 'ISS', 'name': 'Dmitry Petelin'}\n",
       "2   success      14            {'craft': 'ISS', 'name': 'Frank Rubio'}\n",
       "3   success      14            {'craft': 'ISS', 'name': 'Nicole Mann'}\n",
       "4   success      14           {'craft': 'ISS', 'name': 'Josh Cassada'}\n",
       "5   success      14          {'craft': 'ISS', 'name': 'Koichi Wakata'}\n",
       "6   success      14            {'craft': 'ISS', 'name': 'Anna Kikina'}\n",
       "7   success      14    {'craft': 'Shenzhou 15', 'name': 'Fei Junlong'}\n",
       "8   success      14  {'craft': 'Shenzhou 15', 'name': 'Deng Qingming'}\n",
       "9   success      14       {'craft': 'Shenzhou 15', 'name': 'Zhang Lu'}\n",
       "10  success      14          {'craft': 'ISS', 'name': 'Stephen Bowen'}\n",
       "11  success      14          {'craft': 'ISS', 'name': 'Warren Hoburg'}\n",
       "12  success      14        {'craft': 'ISS', 'name': 'Sultan Alneyadi'}\n",
       "13  success      14         {'craft': 'ISS', 'name': 'Andrey Fedyaev'}"
      ]
     },
     "execution_count": 14,
     "metadata": {},
     "output_type": "execute_result"
    }
   ],
   "source": [
    "pd.DataFrame(astro_data) #can convert data into a pandas DF "
   ]
  },
  {
   "cell_type": "code",
   "execution_count": null,
   "metadata": {},
   "outputs": [],
   "source": []
  },
  {
   "cell_type": "code",
   "execution_count": null,
   "metadata": {
    "hidden": true
   },
   "outputs": [],
   "source": [
    "astro_data = None\n",
    "astro_data.keys()"
   ]
  },
  {
   "cell_type": "markdown",
   "metadata": {
    "heading_collapsed": true,
    "hidden": true
   },
   "source": [
    "## Status Codes"
   ]
  },
  {
   "cell_type": "markdown",
   "metadata": {
    "hidden": true
   },
   "source": [
    "The request we make may not always be successful. The best way is to check the status code which gets returned with the response: `response.status_code`"
   ]
  },
  {
   "cell_type": "code",
   "execution_count": 15,
   "metadata": {
    "hidden": true
   },
   "outputs": [
    {
     "data": {
      "text/plain": [
       "200"
      ]
     },
     "execution_count": 15,
     "metadata": {},
     "output_type": "execute_result"
    }
   ],
   "source": [
    "astro_response.status_code \n",
    "#tells me the status code of the site"
   ]
  },
  {
   "cell_type": "markdown",
   "metadata": {
    "hidden": true
   },
   "source": [
    "[Status Code Info](https://developer.mozilla.org/en-US/docs/Web/HTTP/Status) <br/>\n",
    "[Status Code Info with Dogs](https://httpstatusdogs.com/) <br/>\n",
    "[Wikipedia on Status Codes](https://en.wikipedia.org/wiki/List_of_HTTP_status_codes)\n",
    "\n",
    "So this is a good check to see if our request was successful. Depending on the status of the web server, the access rights of the clients and availibility of requested information. A web server may return a number of status codes within the response. Wikipedia has an exhaustive details on all these codes."
   ]
  },
  {
   "cell_type": "markdown",
   "metadata": {
    "heading_collapsed": true,
    "hidden": true
   },
   "source": [
    "### Common status codes"
   ]
  },
  {
   "cell_type": "markdown",
   "metadata": {
    "hidden": true
   },
   "source": [
    "* 200 — everything went okay, and the result has been returned (if any)\n",
    "* 301 — the server is redirecting you to a different endpoint. This can happen when a company switches domain names, or an endpoint name is changed.\n",
    "* 401 — the server thinks you’re not authenticated. This happens when you don’t send the right credentials to access an API.\n",
    "* 400 — the server thinks you made a bad request. This can happen when you don’t send along the right data, among other things.\n",
    "* 403 — the resource you’re trying to access is forbidden — you don’t have the right permissions to see it.\n",
    "* 404 — the resource you tried to access wasn’t found on the server."
   ]
  },
  {
   "cell_type": "markdown",
   "metadata": {
    "heading_collapsed": true,
    "hidden": true
   },
   "source": [
    "### Hitting the right endpoint"
   ]
  },
  {
   "cell_type": "markdown",
   "metadata": {
    "hidden": true
   },
   "source": [
    "We’ll now make a GET request to http://api.open-notify.org/iss-pass.json."
   ]
  },
  {
   "cell_type": "code",
   "execution_count": 17,
   "metadata": {
    "hidden": true
   },
   "outputs": [
    {
     "data": {
      "text/plain": [
       "404"
      ]
     },
     "execution_count": 17,
     "metadata": {},
     "output_type": "execute_result"
    }
   ],
   "source": [
    "iss_pass_url = 'http://api.open-notify.org/iss-pass.json'\n",
    "response = requests.get(iss_pass_url)\n",
    "response.status_code"
   ]
  },
  {
   "cell_type": "markdown",
   "metadata": {
    "hidden": true
   },
   "source": [
    "We can look at `content` to see if the server told us why there was a problem."
   ]
  },
  {
   "cell_type": "code",
   "execution_count": 18,
   "metadata": {
    "hidden": true
   },
   "outputs": [
    {
     "data": {
      "text/plain": [
       "b'<html>\\r\\n<head><title>404 Not Found</title></head>\\r\\n<body bgcolor=\"white\">\\r\\n<center><h1>404 Not Found</h1></center>\\r\\n<hr><center>nginx/1.10.3</center>\\r\\n</body>\\r\\n</html>\\r\\n'"
      ]
     },
     "execution_count": 18,
     "metadata": {},
     "output_type": "execute_result"
    }
   ],
   "source": [
    "response.content"
   ]
  },
  {
   "cell_type": "markdown",
   "metadata": {
    "heading_collapsed": true,
    "hidden": true
   },
   "source": [
    "## Query Parameters"
   ]
  },
  {
   "cell_type": "markdown",
   "metadata": {
    "hidden": true
   },
   "source": [
    "If you look at the [documentation](https://web.archive.org/web/20201224141953/http://open-notify.org/Open-Notify-API/ISS-Pass-Times/), we see that the ISS Pass endpoint requires two parameters.\n",
    "\n",
    "We can do this by adding an optional keyword argument, params, to our request. In this case, there are two parameters we need to pass:\n",
    "\n",
    "* lat — The latitude of the location we want.\n",
    "* lon — The longitude of the location we want.\n",
    "\n",
    "We can make a dictionary with these parameters, and then pass them into the `requests.get()` method. We’ll make a request using the coordinates of New York City, and see what response we get.\n",
    "\n",
    "We can also add the query parameters to the url, like this: http://api.open-notify.org/iss-pass.json?lat=47.6&lon=-122.3. However, it’s almost always preferable to pass the parameters as a dictionary, because `requests` takes care of some potential issues, like properly formatting the query parameters.\n",
    "\n",
    "* **HAS BEEN DEPRECIATED**\n",
    "\n",
    "We will use [this](https://api.publicapis.org) instead\n",
    "\n",
    "- A good list of public API's that are available for practice and exploration\n",
    "\n",
    "- We will take a look a the entries parameters and subset our request based on category and if https is supported"
   ]
  },
  {
   "cell_type": "markdown",
   "metadata": {
    "hidden": true
   },
   "source": [
    "We'll add parameters to the get method in the form of a dictionary with two keys, lat and long."
   ]
  },
  {
   "cell_type": "code",
   "execution_count": 23,
   "metadata": {
    "hidden": true,
    "scrolled": true
   },
   "outputs": [
    {
     "ename": "SyntaxError",
     "evalue": "EOL while scanning string literal (<ipython-input-23-9544c9639eef>, line 13)",
     "output_type": "error",
     "traceback": [
      "\u001b[1;36m  File \u001b[1;32m\"<ipython-input-23-9544c9639eef>\"\u001b[1;36m, line \u001b[1;32m13\u001b[0m\n\u001b[1;33m    response2 = requests.get('https://api.publicapis.org/entries?category=science&https=true\")\u001b[0m\n\u001b[1;37m                                                                                              ^\u001b[0m\n\u001b[1;31mSyntaxError\u001b[0m\u001b[1;31m:\u001b[0m EOL while scanning string literal\n"
     ]
    }
   ],
   "source": [
    "#allows to access all assets in category, enviroment and valid link i\n",
    "#into a list of dictionaries, #\n",
    "url = 'https://api.publicapis.org/entries'\n",
    "params_dict = {'category': 'enviroment', 'https':'true'}\n",
    "response = requests.get(url,\n",
    "            params=params_dict)\n",
    "\n",
    "# Print the content of the response (the data the server returned)\n",
    "\n",
    "print(response.text)\n",
    "\n",
    "# This gets the same data as the command above:\n",
    "response2 = requests.get('https://api.publicapis.org/entries?category=science&https=true\")"
   ]
  },
  {
   "cell_type": "code",
   "execution_count": 26,
   "metadata": {
    "scrolled": true
   },
   "outputs": [
    {
     "data": {
      "text/plain": [
       "'{\"count\":51,\"categories\":[\"Animals\",\"Anime\",\"Anti-Malware\",\"Art \\\\u0026 Design\",\"Authentication \\\\u0026 Authorization\",\"Blockchain\",\"Books\",\"Business\",\"Calendar\",\"Cloud Storage \\\\u0026 File Sharing\",\"Continuous Integration\",\"Cryptocurrency\",\"Currency Exchange\",\"Data Validation\",\"Development\",\"Dictionaries\",\"Documents \\\\u0026 Productivity\",\"Email\",\"Entertainment\",\"Environment\",\"Events\",\"Finance\",\"Food \\\\u0026 Drink\",\"Games \\\\u0026 Comics\",\"Geocoding\",\"Government\",\"Health\",\"Jobs\",\"Machine Learning\",\"Music\",\"News\",\"Open Data\",\"Open Source Projects\",\"Patent\",\"Personality\",\"Phone\",\"Photography\",\"Programming\",\"Science \\\\u0026 Math\",\"Security\",\"Shopping\",\"Social\",\"Sports \\\\u0026 Fitness\",\"Test Data\",\"Text Analysis\",\"Tracking\",\"Transportation\",\"URL Shorteners\",\"Vehicle\",\"Video\",\"Weather\"]}\\n'"
      ]
     },
     "execution_count": 26,
     "metadata": {},
     "output_type": "execute_result"
    }
   ],
   "source": [
    "#APIs are companies and public making their data accesible for everyone\n",
    "#allows you to search through data and create lists and dictionaries\n",
    "\n",
    "cat_url = 'https://api.publicapis.org/categories'\n",
    "cat_response = requests.get(cat_url)\n",
    "cat_response.text"
   ]
  },
  {
   "cell_type": "markdown",
   "metadata": {
    "heading_collapsed": true
   },
   "source": [
    "# Secure APIs: Generating Access Tokens"
   ]
  },
  {
   "cell_type": "markdown",
   "metadata": {
    "hidden": true
   },
   "source": [
    "Many APIs have security measures to make sure their APIs aren't abused. Let's show you how to generate an access token so you can use such secure APIs.\n",
    "\n",
    "Point your browser over to this [yelp page](https://www.yelp.com/developers/v3/manage_app) and start creating an app in order to obtain an api access token:"
   ]
  },
  {
   "cell_type": "markdown",
   "metadata": {
    "hidden": true
   },
   "source": [
    "\n",
    "![](./images/yelp_app.png)"
   ]
  },
  {
   "cell_type": "markdown",
   "metadata": {
    "hidden": true
   },
   "source": [
    "You can either sign in to an existing Yelp account, or create a new one, if needed.\n",
    "\n",
    "On the page you see above, simply fill out some sample information such as \"Flatiron Edu API Example\" for the app name, or whatever floats your boat. Afterwards, you should be presented with an API key that you can use to make requests.\n",
    "\n",
    "With that, it's time to start making some API calls!"
   ]
  },
  {
   "cell_type": "markdown",
   "metadata": {
    "heading_collapsed": true,
    "hidden": true
   },
   "source": [
    "## An Example Request with OAuth "
   ]
  },
  {
   "cell_type": "markdown",
   "metadata": {
    "hidden": true
   },
   "source": [
    "[OAuth](https://en.wikipedia.org/wiki/OAuth) is a common standard used by companies to provide API access. \"Auth\" refers to two processes:\n",
    "\n",
    "* Authentication: Verifying your identity\n",
    "* Authorization: Giving you access to a resource"
   ]
  },
  {
   "cell_type": "markdown",
   "metadata": {
    "heading_collapsed": true,
    "hidden": true
   },
   "source": [
    "## Storing your API Key Securely"
   ]
  },
  {
   "cell_type": "markdown",
   "metadata": {
    "hidden": true
   },
   "source": [
    "Handling your security credentials properly will avoid accidentally exposing them to people who might use them for malicious purposes. While you probably can't get in too much trouble with Yelp, it's a good practice to develop. It becomes especially tricky and important when using public Git repositories. Here are the steps we recommend: \n",
    "\n",
    "1. Create a hidden `.secrets` folder in your repository\n",
    "2. Put your credentials in a file in the `.secrets` folder\n",
    "3. Add the `.secrets/` folder to the `.gitignore` file"
   ]
  },
  {
   "cell_type": "markdown",
   "metadata": {
    "heading_collapsed": true,
    "hidden": true
   },
   "source": [
    "### Step 1 - Create a hidden `.secrets` folder in your repository"
   ]
  },
  {
   "cell_type": "markdown",
   "metadata": {
    "hidden": true
   },
   "source": [
    "> We'll need to create this folder `.secrets`. Note this will create a hidden folder. Also note that we're using this name but it really could be whatever you want it to be as long as you're consistent"
   ]
  },
  {
   "cell_type": "markdown",
   "metadata": {
    "hidden": true
   },
   "source": [
    "You can run this in the terminal (assuming we're in the repo folder)\n",
    "\n",
    "```bash\n",
    "mkdir .secrets\n",
    "```"
   ]
  },
  {
   "cell_type": "code",
   "execution_count": 27,
   "metadata": {
    "hidden": true
   },
   "outputs": [
    {
     "name": "stdout",
     "output_type": "stream",
     "text": [
      "/c/Users/Luke Sims/Documents/Flatiron/DS-Live-022023/Phase1/Lectures\n"
     ]
    }
   ],
   "source": [
    "# Let's check we're in the right place\n",
    "!pwd"
   ]
  },
  {
   "cell_type": "code",
   "execution_count": 28,
   "metadata": {
    "hidden": true
   },
   "outputs": [
    {
     "name": "stdout",
     "output_type": "stream",
     "text": [
      ".\n",
      "..\n",
      ".ipynb_checkpoints\n",
      "00_Instructor_Kickoff_Live_DS.pdf\n",
      "01_Data_Science_Toolkit.pdf\n",
      "02_Introducing_The_Terminal.pdf\n",
      "03_Introducing_Git_GitHub.pdf\n",
      "04_Creating_Repositories_Collaborating_Git.pdf\n",
      "05_Topic_3_Python_Data_Manipulation.ipynb\n",
      "06_Topic_3_Data_Analysis_CSV.ipynb\n",
      "07_Topic_3_Data_Analysis_JSON.ipynb\n",
      "08_Topic_4_Pandas_Dataframes.ipynb\n",
      "09_Topic_4_Plotting_With_Pandas_Matplotlib.ipynb\n",
      "10_Topic_5_Pandas_Data_Cleaning.ipynb\n",
      "11_Topic_5_Aggregating_Combining_Dataframes.ipynb\n",
      "12_Topic_5_Descriptive_Analysis.ipynb\n",
      "13_Topic_6_SQL_Queries.ipynb\n",
      "14_Topic_6&7_SQL_Joins_Aggregations.ipynb\n",
      "15_Topic_7_SQL_Subqueries.ipynb\n",
      "16_Topic_9_APIs.ipynb\n",
      "17_Topic_10_Webscraping.ipynb\n",
      "data\n",
      "images\n"
     ]
    }
   ],
   "source": [
    "# Now we check if the directory is already made\n",
    "!ls -a"
   ]
  },
  {
   "cell_type": "code",
   "execution_count": 29,
   "metadata": {
    "hidden": true
   },
   "outputs": [],
   "source": [
    "# Finally we can make the directory\n",
    "!mkdir .secrets"
   ]
  },
  {
   "cell_type": "code",
   "execution_count": 30,
   "metadata": {
    "hidden": true
   },
   "outputs": [
    {
     "name": "stdout",
     "output_type": "stream",
     "text": [
      ".\n",
      "..\n",
      ".ipynb_checkpoints\n",
      ".secrets\n",
      "00_Instructor_Kickoff_Live_DS.pdf\n",
      "01_Data_Science_Toolkit.pdf\n",
      "02_Introducing_The_Terminal.pdf\n",
      "03_Introducing_Git_GitHub.pdf\n",
      "04_Creating_Repositories_Collaborating_Git.pdf\n",
      "05_Topic_3_Python_Data_Manipulation.ipynb\n",
      "06_Topic_3_Data_Analysis_CSV.ipynb\n",
      "07_Topic_3_Data_Analysis_JSON.ipynb\n",
      "08_Topic_4_Pandas_Dataframes.ipynb\n",
      "09_Topic_4_Plotting_With_Pandas_Matplotlib.ipynb\n",
      "10_Topic_5_Pandas_Data_Cleaning.ipynb\n",
      "11_Topic_5_Aggregating_Combining_Dataframes.ipynb\n",
      "12_Topic_5_Descriptive_Analysis.ipynb\n",
      "13_Topic_6_SQL_Queries.ipynb\n",
      "14_Topic_6&7_SQL_Joins_Aggregations.ipynb\n",
      "15_Topic_7_SQL_Subqueries.ipynb\n",
      "16_Topic_9_APIs.ipynb\n",
      "17_Topic_10_Webscraping.ipynb\n",
      "data\n",
      "images\n"
     ]
    }
   ],
   "source": [
    "# And we check if the directory is made\n",
    "!ls -a"
   ]
  },
  {
   "cell_type": "markdown",
   "metadata": {
    "heading_collapsed": true,
    "hidden": true
   },
   "source": [
    "### Step 2 - Put your credentials in a file in the `.secrets` folder"
   ]
  },
  {
   "cell_type": "markdown",
   "metadata": {
    "hidden": true
   },
   "source": [
    "> Next we need to create the credentials file and move it into the `.secrets/` folder. It's easiest to do this with the command line (since the folder is hidden)"
   ]
  },
  {
   "cell_type": "markdown",
   "metadata": {
    "hidden": true
   },
   "source": [
    "To create the file, we can simply create a new file using an editor or even Jupyter Notebook."
   ]
  },
  {
   "cell_type": "markdown",
   "metadata": {
    "hidden": true
   },
   "source": [
    "We can also create this with the command line:\n",
    "\n",
    "```shell\n",
    "echo '{ \"id\": \"<ID>\", \"key\": \"<KEY>\" }' > creds.json\n",
    "```\n",
    "\n",
    "Where `<ID>` and  `<KEY>` are the Client ID and API Key respectively. (Note the the values need quotations around it)"
   ]
  },
  {
   "cell_type": "code",
   "execution_count": 1,
   "metadata": {
    "hidden": true
   },
   "outputs": [],
   "source": [
    "# Uncommment and run this after replacing <ID> and <KEY>\n",
    "# Note this will overwrite any previous file called creds.json\n",
    "!echo '{ \"id\": \"<Vu5Vt0aANzvxvL8C9SUtLg>\", \"key\": \"qvrso31OqT4b9Eb7H9NBVOYIWHJQB9A2JAcfssLPfSnUTQt2SZYcAPz2MdhOxdHPitb-M0FWaffp9Cp8lxZ8xVHFkeXEO1xj8HGbjppugHYJ9A1G3-bjIseJ99oAZHYx\" }' > creds.json"
   ]
  },
  {
   "cell_type": "markdown",
   "metadata": {
    "hidden": true
   },
   "source": [
    "To move the file via the command line, it's easiest if you first move the credentials file into the repo's folder first (if it's not already there).\n",
    "\n",
    "Once you do that, you can run this command below."
   ]
  },
  {
   "cell_type": "code",
   "execution_count": 2,
   "metadata": {
    "hidden": true
   },
   "outputs": [
    {
     "name": "stdout",
     "output_type": "stream",
     "text": [
      ".\n",
      "..\n",
      ".ipynb_checkpoints\n",
      ".secrets\n",
      "00_Instructor_Kickoff_Live_DS.pdf\n",
      "01_Data_Science_Toolkit.pdf\n",
      "02_Introducing_The_Terminal.pdf\n",
      "03_Introducing_Git_GitHub.pdf\n",
      "04_Creating_Repositories_Collaborating_Git.pdf\n",
      "05_Topic_3_Python_Data_Manipulation.ipynb\n",
      "06_Topic_3_Data_Analysis_CSV.ipynb\n",
      "07_Topic_3_Data_Analysis_JSON.ipynb\n",
      "08_Topic_4_Pandas_Dataframes.ipynb\n",
      "09_Topic_4_Plotting_With_Pandas_Matplotlib.ipynb\n",
      "10_Topic_5_Pandas_Data_Cleaning.ipynb\n",
      "11_Topic_5_Aggregating_Combining_Dataframes.ipynb\n",
      "12_Topic_5_Descriptive_Analysis.ipynb\n",
      "13_Topic_6_SQL_Queries.ipynb\n",
      "14_Topic_6&7_SQL_Joins_Aggregations.ipynb\n",
      "15_Topic_7_SQL_Subqueries.ipynb\n",
      "16_Topic_9_APIs.ipynb\n",
      "17_Topic_10_Webscraping.ipynb\n",
      "creds.json\n",
      "data\n",
      "images\n"
     ]
    }
   ],
   "source": [
    "# Make sure the .secrets folder and credentials file are there\n",
    "!ls -a"
   ]
  },
  {
   "cell_type": "code",
   "execution_count": 3,
   "metadata": {
    "hidden": true
   },
   "outputs": [],
   "source": [
    "# Move the credentials file (creds.json) into the .secrets/ folder\n",
    "# Note you might need to change the name in this command to match the file name\n",
    "!mv creds.json .secrets/"
   ]
  },
  {
   "cell_type": "code",
   "execution_count": 4,
   "metadata": {
    "hidden": true
   },
   "outputs": [
    {
     "name": "stdout",
     "output_type": "stream",
     "text": [
      ".\n",
      "..\n",
      ".ipynb_checkpoints\n",
      ".secrets\n",
      "00_Instructor_Kickoff_Live_DS.pdf\n",
      "01_Data_Science_Toolkit.pdf\n",
      "02_Introducing_The_Terminal.pdf\n",
      "03_Introducing_Git_GitHub.pdf\n",
      "04_Creating_Repositories_Collaborating_Git.pdf\n",
      "05_Topic_3_Python_Data_Manipulation.ipynb\n",
      "06_Topic_3_Data_Analysis_CSV.ipynb\n",
      "07_Topic_3_Data_Analysis_JSON.ipynb\n",
      "08_Topic_4_Pandas_Dataframes.ipynb\n",
      "09_Topic_4_Plotting_With_Pandas_Matplotlib.ipynb\n",
      "10_Topic_5_Pandas_Data_Cleaning.ipynb\n",
      "11_Topic_5_Aggregating_Combining_Dataframes.ipynb\n",
      "12_Topic_5_Descriptive_Analysis.ipynb\n",
      "13_Topic_6_SQL_Queries.ipynb\n",
      "14_Topic_6&7_SQL_Joins_Aggregations.ipynb\n",
      "15_Topic_7_SQL_Subqueries.ipynb\n",
      "16_Topic_9_APIs.ipynb\n",
      "17_Topic_10_Webscraping.ipynb\n",
      "data\n",
      "images\n"
     ]
    }
   ],
   "source": [
    "# Make sure the credentials file are no longer in the repo folder...\n",
    "!ls -a"
   ]
  },
  {
   "cell_type": "code",
   "execution_count": 5,
   "metadata": {
    "hidden": true
   },
   "outputs": [
    {
     "name": "stdout",
     "output_type": "stream",
     "text": [
      ".\n",
      "..\n",
      "creds.json\n"
     ]
    }
   ],
   "source": [
    "# .. and the file should now be in .secrets/\n",
    "!ls -a .secrets/"
   ]
  },
  {
   "cell_type": "markdown",
   "metadata": {
    "heading_collapsed": true,
    "hidden": true
   },
   "source": [
    "### Step 3 - Add the `.secrets/` folder to the `.gitignore` file"
   ]
  },
  {
   "cell_type": "markdown",
   "metadata": {
    "hidden": true
   },
   "source": [
    "> We actually already did this in the current `.gitignore`! But it's good to remember to do this with future projects"
   ]
  },
  {
   "cell_type": "code",
   "execution_count": 10,
   "metadata": {
    "hidden": true,
    "scrolled": true
   },
   "outputs": [
    {
     "name": "stderr",
     "output_type": "stream",
     "text": [
      "tail: cannot open '.gitignore' for reading: No such file or directory\n"
     ]
    }
   ],
   "source": [
    "# View current .gitignore\n",
    "!tail .gitignore"
   ]
  },
  {
   "cell_type": "markdown",
   "metadata": {
    "hidden": true
   },
   "source": [
    "To add that line to the `.gitignore` file, we can open it in an editor (just remember the file is hidden) or just append to the end of the file like so:"
   ]
  },
  {
   "cell_type": "markdown",
   "metadata": {
    "hidden": true
   },
   "source": [
    "```bash\n",
    "echo \".secrets/\" >> .gitignore\n",
    "```"
   ]
  },
  {
   "cell_type": "markdown",
   "metadata": {
    "heading_collapsed": true,
    "hidden": true
   },
   "source": [
    "### Check If It Worked!"
   ]
  },
  {
   "cell_type": "code",
   "execution_count": 15,
   "metadata": {
    "hidden": true
   },
   "outputs": [
    {
     "ename": "NameError",
     "evalue": "name 'json' is not defined",
     "output_type": "error",
     "traceback": [
      "\u001b[1;31m---------------------------------------------------------------------------\u001b[0m",
      "\u001b[1;31mNameError\u001b[0m                                 Traceback (most recent call last)",
      "\u001b[1;32m<ipython-input-15-f11821128e67>\u001b[0m in \u001b[0;36m<module>\u001b[1;34m\u001b[0m\n\u001b[0;32m      1\u001b[0m \u001b[1;32mwith\u001b[0m \u001b[0mopen\u001b[0m\u001b[1;33m(\u001b[0m\u001b[1;34m'.secrets/creds.json'\u001b[0m\u001b[1;33m)\u001b[0m \u001b[1;32mas\u001b[0m \u001b[0mf\u001b[0m\u001b[1;33m:\u001b[0m\u001b[1;33m\u001b[0m\u001b[1;33m\u001b[0m\u001b[0m\n\u001b[1;32m----> 2\u001b[1;33m     \u001b[0mcreds\u001b[0m \u001b[1;33m=\u001b[0m \u001b[0mjson\u001b[0m\u001b[1;33m.\u001b[0m\u001b[0mload\u001b[0m\u001b[1;33m(\u001b[0m\u001b[0mf\u001b[0m\u001b[1;33m)\u001b[0m\u001b[1;33m\u001b[0m\u001b[1;33m\u001b[0m\u001b[0m\n\u001b[0m",
      "\u001b[1;31mNameError\u001b[0m: name 'json' is not defined"
     ]
    }
   ],
   "source": [
    "with open('.secrets/creds.json') as f:\n",
    "    creds = json.load(f)"
   ]
  },
  {
   "cell_type": "code",
   "execution_count": 12,
   "metadata": {
    "hidden": true
   },
   "outputs": [
    {
     "ename": "NameError",
     "evalue": "name 'creds' is not defined",
     "output_type": "error",
     "traceback": [
      "\u001b[1;31m---------------------------------------------------------------------------\u001b[0m",
      "\u001b[1;31mNameError\u001b[0m                                 Traceback (most recent call last)",
      "\u001b[1;32m<ipython-input-12-a84f66f438be>\u001b[0m in \u001b[0;36m<module>\u001b[1;34m\u001b[0m\n\u001b[1;32m----> 1\u001b[1;33m \u001b[0mcreds\u001b[0m\u001b[1;33m\u001b[0m\u001b[1;33m\u001b[0m\u001b[0m\n\u001b[0m",
      "\u001b[1;31mNameError\u001b[0m: name 'creds' is not defined"
     ]
    }
   ],
   "source": [
    "creds"
   ]
  },
  {
   "cell_type": "markdown",
   "metadata": {
    "heading_collapsed": true,
    "hidden": true
   },
   "source": [
    "## Making our Request"
   ]
  },
  {
   "cell_type": "markdown",
   "metadata": {
    "hidden": true
   },
   "source": [
    "[Yelp API Documentation](https://www.yelp.com/developers/documentation/v3/get_started)\n",
    "\n",
    "Let's look at an example request and dissect it into its consituent parts:"
   ]
  },
  {
   "cell_type": "code",
   "execution_count": 14,
   "metadata": {},
   "outputs": [
    {
     "ename": "NameError",
     "evalue": "name 'creds' is not defined",
     "output_type": "error",
     "traceback": [
      "\u001b[1;31m---------------------------------------------------------------------------\u001b[0m",
      "\u001b[1;31mNameError\u001b[0m                                 Traceback (most recent call last)",
      "\u001b[1;32m<ipython-input-14-a84f66f438be>\u001b[0m in \u001b[0;36m<module>\u001b[1;34m\u001b[0m\n\u001b[1;32m----> 1\u001b[1;33m \u001b[0mcreds\u001b[0m\u001b[1;33m\u001b[0m\u001b[1;33m\u001b[0m\u001b[0m\n\u001b[0m",
      "\u001b[1;31mNameError\u001b[0m: name 'creds' is not defined"
     ]
    }
   ],
   "source": [
    "creds"
   ]
  },
  {
   "cell_type": "code",
   "execution_count": 16,
   "metadata": {
    "hidden": true
   },
   "outputs": [
    {
     "ename": "NameError",
     "evalue": "name 'creds' is not defined",
     "output_type": "error",
     "traceback": [
      "\u001b[1;31m---------------------------------------------------------------------------\u001b[0m",
      "\u001b[1;31mNameError\u001b[0m                                 Traceback (most recent call last)",
      "\u001b[1;32m<ipython-input-16-f8295bcd7681>\u001b[0m in \u001b[0;36m<module>\u001b[1;34m\u001b[0m\n\u001b[0;32m      5\u001b[0m \u001b[0mSEARCH_LIMIT\u001b[0m \u001b[1;33m=\u001b[0m \u001b[1;36m10\u001b[0m\u001b[1;33m\u001b[0m\u001b[1;33m\u001b[0m\u001b[0m\n\u001b[0;32m      6\u001b[0m headers = {\n\u001b[1;32m----> 7\u001b[1;33m     \u001b[1;34m'Authorization'\u001b[0m\u001b[1;33m:\u001b[0m \u001b[1;34m'Bearer '\u001b[0m \u001b[1;33m+\u001b[0m \u001b[0mcreds\u001b[0m\u001b[1;33m[\u001b[0m\u001b[1;34m'key'\u001b[0m\u001b[1;33m]\u001b[0m\u001b[1;33m\u001b[0m\u001b[1;33m\u001b[0m\u001b[0m\n\u001b[0m\u001b[0;32m      8\u001b[0m }\n\u001b[0;32m      9\u001b[0m \u001b[1;33m\u001b[0m\u001b[0m\n",
      "\u001b[1;31mNameError\u001b[0m: name 'creds' is not defined"
     ]
    }
   ],
   "source": [
    "#Allows you the authorizier bearing the creds key made in the secrects to \n",
    "#access companies that have hamburgers search you get 200 because valid query\n",
    "#headers might be different instead of authorization could be user/id code/api same with bearer\n",
    "url = 'https://api.yelp.com/v3/businesses/search'\n",
    "term = 'Hamburgers'\n",
    "SEARCH_LIMIT = 10 #limits the search amount\n",
    "headers = {\n",
    "    'Authorization': 'Bearer ' + creds['key']\n",
    "}\n",
    "\n",
    "url_params = {\n",
    "    'term': term,\n",
    "    'location': 'Seattle+WA',\n",
    "    'limit': SEARCH_LIMIT,\n",
    "    'offset': 0\n",
    "}\n",
    "response = requests.get(url, headers=headers, params=url_params)\n",
    "print(response.status_code)"
   ]
  },
  {
   "cell_type": "markdown",
   "metadata": {
    "heading_collapsed": true,
    "hidden": true
   },
   "source": [
    "## Breaking Down the Request"
   ]
  },
  {
   "cell_type": "markdown",
   "metadata": {
    "hidden": true
   },
   "source": [
    "As you can see, there are three main parts to our request.  \n",
    "  \n",
    "They are:\n",
    "* The URL\n",
    "* The header\n",
    "* The parameters\n",
    "  \n",
    "The URL is found in the documentation (`https://api.yelp.com/v3`) and we are using the Business Search endpoint (`/businesses/search`).\n",
    "\n",
    "The header is required by the Yelp API for authorization. It has a strict form where 'Authorization' is the key and 'Bearer YourApiKey' is the value. We make a `header` dictionary to pass into our `.get()` method.\n",
    "\n",
    "The parameters contain information we pass into the query to get the data we want. Valid key parameters by which to structure your queries, are described in the [Yelp API Documentation](https://www.yelp.com/developers/documentation/v3/get_started). We make a `url_params` dictionary to pass into our `.get()` method, which then adds the query parameters to the URL.\n",
    "\n",
    "**Important note re: parameters**: We need to replace spaces with \"+\" - this is a common API requirement because URLs cannot contain spaces. (Note that the header itself isn't directly added into the URL itself and as such, the space between 'Bearer' and YourApiKey is fine.)"
   ]
  },
  {
   "cell_type": "markdown",
   "metadata": {
    "heading_collapsed": true,
    "hidden": true
   },
   "source": [
    "## The Response"
   ]
  },
  {
   "cell_type": "markdown",
   "metadata": {
    "hidden": true
   },
   "source": [
    "As before, our response object has both a status code, as well as the data itself. With that, let's start with a little data exploration!"
   ]
  },
  {
   "cell_type": "code",
   "execution_count": 17,
   "metadata": {
    "hidden": true
   },
   "outputs": [
    {
     "ename": "NameError",
     "evalue": "name 'response' is not defined",
     "output_type": "error",
     "traceback": [
      "\u001b[1;31m---------------------------------------------------------------------------\u001b[0m",
      "\u001b[1;31mNameError\u001b[0m                                 Traceback (most recent call last)",
      "\u001b[1;32m<ipython-input-17-34c975fa6377>\u001b[0m in \u001b[0;36m<module>\u001b[1;34m\u001b[0m\n\u001b[1;32m----> 1\u001b[1;33m \u001b[0mresponse\u001b[0m\u001b[1;33m.\u001b[0m\u001b[0mjson\u001b[0m\u001b[1;33m(\u001b[0m\u001b[1;33m)\u001b[0m\u001b[1;33m\u001b[0m\u001b[1;33m\u001b[0m\u001b[0m\n\u001b[0m",
      "\u001b[1;31mNameError\u001b[0m: name 'response' is not defined"
     ]
    }
   ],
   "source": [
    "response.json()\n",
    "#shows a business dictionary\n",
    "response.json().keys()\n",
    "#shows the keys for the file\n",
    "bus = response.json()['business']\n",
    "#finds the indivdusal businesses avaiable, can be made into a dataframe easily\n",
    "yelp_df = pd.DataFrame(bus)"
   ]
  },
  {
   "cell_type": "code",
   "execution_count": null,
   "metadata": {
    "hidden": true
   },
   "outputs": [],
   "source": [
    "yelp_df.head()\n"
   ]
  },
  {
   "cell_type": "markdown",
   "metadata": {
    "hidden": true
   },
   "source": [
    "**Activity**: Make a DataFrame `yelp_df` with the business data from the Yelp response.\n",
    "<details>\n",
    "    <summary>\n",
    "        Answer code\n",
    "    </summary>\n",
    "\n",
    "```python\n",
    "yelp_data = response.json()\n",
    "yelp_df = pd.DataFrame(yelp_data['businesses'])\n",
    "```\n",
    "</details>"
   ]
  },
  {
   "cell_type": "code",
   "execution_count": 18,
   "metadata": {},
   "outputs": [
    {
     "ename": "NameError",
     "evalue": "name 'bus' is not defined",
     "output_type": "error",
     "traceback": [
      "\u001b[1;31m---------------------------------------------------------------------------\u001b[0m",
      "\u001b[1;31mNameError\u001b[0m                                 Traceback (most recent call last)",
      "\u001b[1;32m<ipython-input-18-bfd8e0919dd0>\u001b[0m in \u001b[0;36m<module>\u001b[1;34m\u001b[0m\n\u001b[0;32m      1\u001b[0m \u001b[1;31m#allows us to print and search individual categories in business\u001b[0m\u001b[1;33m\u001b[0m\u001b[1;33m\u001b[0m\u001b[1;33m\u001b[0m\u001b[0m\n\u001b[1;32m----> 2\u001b[1;33m \u001b[1;32mfor\u001b[0m \u001b[0mbusiness\u001b[0m \u001b[1;32min\u001b[0m \u001b[0mbus\u001b[0m\u001b[1;33m[\u001b[0m\u001b[1;34m'business'\u001b[0m\u001b[1;33m]\u001b[0m\u001b[1;33m:\u001b[0m\u001b[1;33m\u001b[0m\u001b[1;33m\u001b[0m\u001b[0m\n\u001b[0m\u001b[0;32m      3\u001b[0m     \u001b[0mprint\u001b[0m\u001b[1;33m(\u001b[0m\u001b[0mbusiness\u001b[0m\u001b[1;33m[\u001b[0m\u001b[1;34m'coordinates'\u001b[0m\u001b[1;33m]\u001b[0m\u001b[1;33m[\u001b[0m\u001b[1;34m'latitude'\u001b[0m\u001b[1;33m]\u001b[0m\u001b[1;33m)\u001b[0m\u001b[1;33m\u001b[0m\u001b[1;33m\u001b[0m\u001b[0m\n",
      "\u001b[1;31mNameError\u001b[0m: name 'bus' is not defined"
     ]
    }
   ],
   "source": [
    "#allows us to print and search individual categories ie: coordinates, latitudes\n",
    "for business in bus['business']: \n",
    "    print(business['coordinates']['latitude'])\n"
   ]
  },
  {
   "cell_type": "code",
   "execution_count": null,
   "metadata": {
    "hidden": true
   },
   "outputs": [],
   "source": [
    "business\n",
    "for business in bus: \n",
    "yelp['lat'] = \n",
    "yelp['long']= "
   ]
  },
  {
   "cell_type": "code",
   "execution_count": 19,
   "metadata": {
    "hidden": true
   },
   "outputs": [
    {
     "ename": "SyntaxError",
     "evalue": "unmatched ')' (<ipython-input-19-0e9397b3b9bf>, line 1)",
     "output_type": "error",
     "traceback": [
      "\u001b[1;36m  File \u001b[1;32m\"<ipython-input-19-0e9397b3b9bf>\"\u001b[1;36m, line \u001b[1;32m1\u001b[0m\n\u001b[1;33m    yelp_df['lat'] = business['coordinates']['latitude'])\u001b[0m\n\u001b[1;37m                                                        ^\u001b[0m\n\u001b[1;31mSyntaxError\u001b[0m\u001b[1;31m:\u001b[0m unmatched ')'\n"
     ]
    }
   ],
   "source": [
    "#allows to search through the df and find long and latitude\n",
    "yelp_df['lat'] = business['coordinates']['latitude']\n",
    "yelp_df['long'] = business['coordinates']['longitude']"
   ]
  },
  {
   "cell_type": "markdown",
   "metadata": {
    "hidden": true
   },
   "source": [
    "**Activity**: Add columns to `yelp_df` containing the latitudes and longitudes.\n",
    "\n",
    "\n",
    "<details>\n",
    "    <summary>\n",
    "        Answer code\n",
    "    </summary>\n",
    "\n",
    "```python\n",
    "lat = [float(business['coordinates']['latitude']) for business in yelp_data['businesses']]\n",
    "long = [float(business['coordinates']['longitude']) for  business in yelp_data['businesses']]\n",
    "yelp_df['lat'] = lat\n",
    "yelp_df['long'] = long\n",
    "```\n",
    "</details>"
   ]
  },
  {
   "cell_type": "code",
   "execution_count": null,
   "metadata": {
    "hidden": true
   },
   "outputs": [],
   "source": [
    "yelp_df.info()"
   ]
  }
 ],
 "metadata": {
  "kernelspec": {
   "display_name": "Python 3",
   "language": "python",
   "name": "python3"
  },
  "language_info": {
   "codemirror_mode": {
    "name": "ipython",
    "version": 3
   },
   "file_extension": ".py",
   "mimetype": "text/x-python",
   "name": "python",
   "nbconvert_exporter": "python",
   "pygments_lexer": "ipython3",
   "version": "3.8.5"
  },
  "toc": {
   "base_numbering": 1,
   "nav_menu": {},
   "number_sections": true,
   "sideBar": true,
   "skip_h1_title": false,
   "title_cell": "Table of Contents",
   "title_sidebar": "Contents",
   "toc_cell": true,
   "toc_position": {
    "height": "calc(100% - 180px)",
    "left": "10px",
    "top": "150px",
    "width": "384px"
   },
   "toc_section_display": true,
   "toc_window_display": true
  }
 },
 "nbformat": 4,
 "nbformat_minor": 4
}
