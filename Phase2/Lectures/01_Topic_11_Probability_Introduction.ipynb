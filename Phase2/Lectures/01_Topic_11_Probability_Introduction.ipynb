{
 "cells": [
  {
   "cell_type": "markdown",
   "metadata": {},
   "source": [
    "# Probability: Introduction to Foundational Concepts\n",
    "\n",
    "\n",
    "## Objectives\n",
    "\n",
    "- Describe set theory and its terminology\n",
    "- Recognize combinatorics\n",
    "- Describe the fundamentals of probability theory\n",
    "- Define conditional probability\n"
   ]
  },
  {
   "cell_type": "markdown",
   "metadata": {},
   "source": [
    "![xkcd](images/increased_risk_2x.png)\n",
    "[[Image Source]](https://xkcd.com/1252/)"
   ]
  },
  {
   "cell_type": "markdown",
   "metadata": {
    "heading_collapsed": true,
    "slideshow": {
     "slide_type": "slide"
    }
   },
   "source": [
    "# Set Theory Basics"
   ]
  },
  {
   "cell_type": "markdown",
   "metadata": {
    "hidden": true,
    "slideshow": {
     "slide_type": "slide"
    }
   },
   "source": [
    "In probability theory, a **set** is a well-defined collection of objects (called **elements**). An element is either in a given set or not, and order is not considered.\n",
    "\n",
    "> If an **element** $x$ belongs to a set $S$, then you'd write $x \\in S$. \n",
    "> \n",
    "> On the other hand, if $x$ does not belong to $S$, then you'd write $x\\notin S$.\n",
    "\n",
    "Although sets can be abstract mathematical object, we'll typically think of sets as a collection of things sharing some relevant attribute(s)."
   ]
  },
  {
   "cell_type": "markdown",
   "metadata": {},
   "source": [
    "## Set Notation"
   ]
  },
  {
   "cell_type": "markdown",
   "metadata": {},
   "source": [
    "<img src=\"images/new_venn_diagram.png\" alt=\"venn diagram with set notation\" width=500>"
   ]
  },
  {
   "cell_type": "markdown",
   "metadata": {},
   "source": [
    "The **union** of 2 sets $A$ and $B$ is the set $T$ of elements in either $A$ or $B$, or in both. We denote this with the symbol $\\cup$.\n",
    "\n",
    "\n",
    "$$\\large T = A\\cup B = B\\cup A$$"
   ]
  },
  {
   "cell_type": "markdown",
   "metadata": {},
   "source": [
    "The **intersection** of two sets $A$ and $B$ is the set $V$ that contains all elements of $A$ that also belong to $B$. We denote this with the symbol $\\cap$.\n",
    "\n",
    "$$\\large V = A\\cap B = B\\cap A$$"
   ]
  },
  {
   "cell_type": "markdown",
   "metadata": {},
   "source": [
    "<img src=\"images/setnotation.jpg\" alt=\"set notation, found from https://slideplayer.com/slide/10502152/\" width=800>\n",
    "\n",
    "[Image Source](https://slideplayer.com/slide/10502152/)\n",
    "\n",
    "More on Sets: https://www.mathsisfun.com/sets/sets-introduction.html"
   ]
  },
  {
   "cell_type": "markdown",
   "metadata": {},
   "source": [
    "### But Now, in Python:"
   ]
  },
  {
   "cell_type": "markdown",
   "metadata": {
    "colab_type": "text",
    "id": "c9rKTCYMebwR"
   },
   "source": [
    " These are set methods - work only on Python sets!\n",
    "\n",
    "| Method                      | Result |\n",
    "| ------                      | ------ |\n",
    "| `s.issubset(t)`             | test whether every element in s is in t |\n",
    "| `s.issuperset(t)`           | test whether every element in t is in s |\n",
    "| `s.union(t)`                | new set with elements from both s and t |\n",
    "| `s.intersection(t)`         | new set with elements common to s and t |\n",
    "| `s.difference(t)`           | new set with elements in s but not in t |\n",
    "| `s.symmetric_difference(t)` | new set with elements in either s or t but not both |"
   ]
  },
  {
   "cell_type": "markdown",
   "metadata": {},
   "source": [
    "# Combinatorics\n",
    "\n",
    "Before we dive in much further, let's briefly talk about how you can take elements from different collections and group them."
   ]
  },
  {
   "cell_type": "markdown",
   "metadata": {},
   "source": [
    "### Combinatorics Definition\n",
    "\n",
    "> Combinatorics is the branch of mathematics that deals with the relations characterizing sets, subsets, lists, and multisets.\n",
    ">\n",
    "> Sometimes combinatorics is said to be the branch of math that deals with counting; and that’s true, but not in the sense in which you learned to count in kindergarten. Though combinatorics deals with numbering and finding out how many members are in sets, it’s designed to find ways of doing that **without actual, potentially tedious, counting** involved.\n",
    "\n",
    "-- [Statistics How To](https://www.statisticshowto.com/probability-and-statistics/combinatorics/)"
   ]
  },
  {
   "cell_type": "markdown",
   "metadata": {
    "slideshow": {
     "slide_type": "slide"
    }
   },
   "source": [
    "### What's the difference between a permutation and a combination?\n",
    "\n",
    "In a **permutation**, order matters. If you have a race, it matters who arrives in first, or second, or third place - there's a difference in the ordering of the group!\n",
    "\n",
    "> The number of **permutations** of **n** objects taken **r** at a time is given by the formula:\n",
    ">\n",
    "> $$\\large P(n,r) = \\frac{n!}{(n - r)!}$$\n",
    "\n",
    "In a **combination**, you only care about which items are members of the set. For example, if you're creating groups of students to work on a project, the order in which you add their names to the group doesn't really matter - it's the group members itself, not any order, that you care about.\n",
    "\n",
    "> The number of **combinations** of **n** objects taken **r** at a time is given by the formula:\n",
    ">\n",
    "> $$\\large C(n,r) = \\frac{n!}{r!(n - r)!}$$\n",
    "\n",
    "Main things to ask when dealing with combinations or permutations:\n",
    "- Does order matter? \n",
    "- With or without replacement? (aka does the first choice then restrict the second choice?)"
   ]
  },
  {
   "cell_type": "markdown",
   "metadata": {},
   "source": [
    "### Q: How many possible orders are there for first/second/third place in a race with 30 contestants?"
   ]
  },
  {
   "cell_type": "code",
   "execution_count": 9,
   "metadata": {},
   "outputs": [
    {
     "data": {
      "text/plain": [
       "(24360.0, 24360)"
      ]
     },
     "execution_count": 9,
     "metadata": {},
     "output_type": "execute_result"
    }
   ],
   "source": [
    "import math\n",
    "\n",
    "#How many possible orders are there for first/second/third place in a race with 30 contestants?\n",
    "#a 30 factorial = 30*29*28*27*......1 \n",
    "#30 total contestants curious about 3 locatiosn\n",
    "method_1 = math.factorial(30) / math.factorial(30-3)\n",
    "method_1_1 = math.perm(30, 3)\n",
    "method_1, method_1_1"
   ]
  },
  {
   "cell_type": "code",
   "execution_count": 12,
   "metadata": {
    "scrolled": true
   },
   "outputs": [
    {
     "data": {
      "text/plain": [
       "[(1, 2, 3),\n",
       " (1, 2, 4),\n",
       " (1, 2, 5),\n",
       " (1, 2, 6),\n",
       " (1, 2, 7),\n",
       " (1, 2, 8),\n",
       " (1, 2, 9),\n",
       " (1, 2, 10),\n",
       " (1, 2, 11),\n",
       " (1, 2, 12),\n",
       " (1, 2, 13),\n",
       " (1, 2, 14),\n",
       " (1, 2, 15),\n",
       " (1, 2, 16),\n",
       " (1, 2, 17),\n",
       " (1, 2, 18),\n",
       " (1, 2, 19),\n",
       " (1, 2, 20),\n",
       " (1, 2, 21),\n",
       " (1, 2, 22),\n",
       " (1, 2, 23),\n",
       " (1, 2, 24),\n",
       " (1, 2, 25),\n",
       " (1, 2, 26),\n",
       " (1, 2, 27),\n",
       " (1, 2, 28),\n",
       " (1, 2, 29),\n",
       " (1, 2, 30),\n",
       " (1, 3, 2),\n",
       " (1, 3, 4),\n",
       " (1, 3, 5),\n",
       " (1, 3, 6),\n",
       " (1, 3, 7),\n",
       " (1, 3, 8),\n",
       " (1, 3, 9),\n",
       " (1, 3, 10),\n",
       " (1, 3, 11),\n",
       " (1, 3, 12),\n",
       " (1, 3, 13),\n",
       " (1, 3, 14),\n",
       " (1, 3, 15),\n",
       " (1, 3, 16),\n",
       " (1, 3, 17),\n",
       " (1, 3, 18),\n",
       " (1, 3, 19),\n",
       " (1, 3, 20),\n",
       " (1, 3, 21),\n",
       " (1, 3, 22),\n",
       " (1, 3, 23),\n",
       " (1, 3, 24),\n",
       " (1, 3, 25),\n",
       " (1, 3, 26),\n",
       " (1, 3, 27),\n",
       " (1, 3, 28),\n",
       " (1, 3, 29),\n",
       " (1, 3, 30),\n",
       " (1, 4, 2),\n",
       " (1, 4, 3),\n",
       " (1, 4, 5),\n",
       " (1, 4, 6),\n",
       " (1, 4, 7),\n",
       " (1, 4, 8),\n",
       " (1, 4, 9),\n",
       " (1, 4, 10),\n",
       " (1, 4, 11),\n",
       " (1, 4, 12),\n",
       " (1, 4, 13),\n",
       " (1, 4, 14),\n",
       " (1, 4, 15),\n",
       " (1, 4, 16),\n",
       " (1, 4, 17),\n",
       " (1, 4, 18),\n",
       " (1, 4, 19),\n",
       " (1, 4, 20),\n",
       " (1, 4, 21),\n",
       " (1, 4, 22),\n",
       " (1, 4, 23),\n",
       " (1, 4, 24),\n",
       " (1, 4, 25),\n",
       " (1, 4, 26),\n",
       " (1, 4, 27),\n",
       " (1, 4, 28),\n",
       " (1, 4, 29),\n",
       " (1, 4, 30),\n",
       " (1, 5, 2),\n",
       " (1, 5, 3),\n",
       " (1, 5, 4),\n",
       " (1, 5, 6),\n",
       " (1, 5, 7),\n",
       " (1, 5, 8),\n",
       " (1, 5, 9),\n",
       " (1, 5, 10),\n",
       " (1, 5, 11),\n",
       " (1, 5, 12),\n",
       " (1, 5, 13),\n",
       " (1, 5, 14),\n",
       " (1, 5, 15),\n",
       " (1, 5, 16),\n",
       " (1, 5, 17),\n",
       " (1, 5, 18),\n",
       " (1, 5, 19),\n",
       " (1, 5, 20),\n",
       " (1, 5, 21),\n",
       " (1, 5, 22),\n",
       " (1, 5, 23),\n",
       " (1, 5, 24),\n",
       " (1, 5, 25),\n",
       " (1, 5, 26),\n",
       " (1, 5, 27),\n",
       " (1, 5, 28),\n",
       " (1, 5, 29),\n",
       " (1, 5, 30),\n",
       " (1, 6, 2),\n",
       " (1, 6, 3),\n",
       " (1, 6, 4),\n",
       " (1, 6, 5),\n",
       " (1, 6, 7),\n",
       " (1, 6, 8),\n",
       " (1, 6, 9),\n",
       " (1, 6, 10),\n",
       " (1, 6, 11),\n",
       " (1, 6, 12),\n",
       " (1, 6, 13),\n",
       " (1, 6, 14),\n",
       " (1, 6, 15),\n",
       " (1, 6, 16),\n",
       " (1, 6, 17),\n",
       " (1, 6, 18),\n",
       " (1, 6, 19),\n",
       " (1, 6, 20),\n",
       " (1, 6, 21),\n",
       " (1, 6, 22),\n",
       " (1, 6, 23),\n",
       " (1, 6, 24),\n",
       " (1, 6, 25),\n",
       " (1, 6, 26),\n",
       " (1, 6, 27),\n",
       " (1, 6, 28),\n",
       " (1, 6, 29),\n",
       " (1, 6, 30),\n",
       " (1, 7, 2),\n",
       " (1, 7, 3),\n",
       " (1, 7, 4),\n",
       " (1, 7, 5),\n",
       " (1, 7, 6),\n",
       " (1, 7, 8),\n",
       " (1, 7, 9),\n",
       " (1, 7, 10),\n",
       " (1, 7, 11),\n",
       " (1, 7, 12),\n",
       " (1, 7, 13),\n",
       " (1, 7, 14),\n",
       " (1, 7, 15),\n",
       " (1, 7, 16),\n",
       " (1, 7, 17),\n",
       " (1, 7, 18),\n",
       " (1, 7, 19),\n",
       " (1, 7, 20),\n",
       " (1, 7, 21),\n",
       " (1, 7, 22),\n",
       " (1, 7, 23),\n",
       " (1, 7, 24),\n",
       " (1, 7, 25),\n",
       " (1, 7, 26),\n",
       " (1, 7, 27),\n",
       " (1, 7, 28),\n",
       " (1, 7, 29),\n",
       " (1, 7, 30),\n",
       " (1, 8, 2),\n",
       " (1, 8, 3),\n",
       " (1, 8, 4),\n",
       " (1, 8, 5),\n",
       " (1, 8, 6),\n",
       " (1, 8, 7),\n",
       " (1, 8, 9),\n",
       " (1, 8, 10),\n",
       " (1, 8, 11),\n",
       " (1, 8, 12),\n",
       " (1, 8, 13),\n",
       " (1, 8, 14),\n",
       " (1, 8, 15),\n",
       " (1, 8, 16),\n",
       " (1, 8, 17),\n",
       " (1, 8, 18),\n",
       " (1, 8, 19),\n",
       " (1, 8, 20),\n",
       " (1, 8, 21),\n",
       " (1, 8, 22),\n",
       " (1, 8, 23),\n",
       " (1, 8, 24),\n",
       " (1, 8, 25),\n",
       " (1, 8, 26),\n",
       " (1, 8, 27),\n",
       " (1, 8, 28),\n",
       " (1, 8, 29),\n",
       " (1, 8, 30),\n",
       " (1, 9, 2),\n",
       " (1, 9, 3),\n",
       " (1, 9, 4),\n",
       " (1, 9, 5),\n",
       " (1, 9, 6),\n",
       " (1, 9, 7),\n",
       " (1, 9, 8),\n",
       " (1, 9, 10),\n",
       " (1, 9, 11),\n",
       " (1, 9, 12),\n",
       " (1, 9, 13),\n",
       " (1, 9, 14),\n",
       " (1, 9, 15),\n",
       " (1, 9, 16),\n",
       " (1, 9, 17),\n",
       " (1, 9, 18),\n",
       " (1, 9, 19),\n",
       " (1, 9, 20),\n",
       " (1, 9, 21),\n",
       " (1, 9, 22),\n",
       " (1, 9, 23),\n",
       " (1, 9, 24),\n",
       " (1, 9, 25),\n",
       " (1, 9, 26),\n",
       " (1, 9, 27),\n",
       " (1, 9, 28),\n",
       " (1, 9, 29),\n",
       " (1, 9, 30),\n",
       " (1, 10, 2),\n",
       " (1, 10, 3),\n",
       " (1, 10, 4),\n",
       " (1, 10, 5),\n",
       " (1, 10, 6),\n",
       " (1, 10, 7),\n",
       " (1, 10, 8),\n",
       " (1, 10, 9),\n",
       " (1, 10, 11),\n",
       " (1, 10, 12),\n",
       " (1, 10, 13),\n",
       " (1, 10, 14),\n",
       " (1, 10, 15),\n",
       " (1, 10, 16),\n",
       " (1, 10, 17),\n",
       " (1, 10, 18),\n",
       " (1, 10, 19),\n",
       " (1, 10, 20),\n",
       " (1, 10, 21),\n",
       " (1, 10, 22),\n",
       " (1, 10, 23),\n",
       " (1, 10, 24),\n",
       " (1, 10, 25),\n",
       " (1, 10, 26),\n",
       " (1, 10, 27),\n",
       " (1, 10, 28),\n",
       " (1, 10, 29),\n",
       " (1, 10, 30),\n",
       " (1, 11, 2),\n",
       " (1, 11, 3),\n",
       " (1, 11, 4),\n",
       " (1, 11, 5),\n",
       " (1, 11, 6),\n",
       " (1, 11, 7),\n",
       " (1, 11, 8),\n",
       " (1, 11, 9),\n",
       " (1, 11, 10),\n",
       " (1, 11, 12),\n",
       " (1, 11, 13),\n",
       " (1, 11, 14),\n",
       " (1, 11, 15),\n",
       " (1, 11, 16),\n",
       " (1, 11, 17),\n",
       " (1, 11, 18),\n",
       " (1, 11, 19),\n",
       " (1, 11, 20),\n",
       " (1, 11, 21),\n",
       " (1, 11, 22),\n",
       " (1, 11, 23),\n",
       " (1, 11, 24),\n",
       " (1, 11, 25),\n",
       " (1, 11, 26),\n",
       " (1, 11, 27),\n",
       " (1, 11, 28),\n",
       " (1, 11, 29),\n",
       " (1, 11, 30),\n",
       " (1, 12, 2),\n",
       " (1, 12, 3),\n",
       " (1, 12, 4),\n",
       " (1, 12, 5),\n",
       " (1, 12, 6),\n",
       " (1, 12, 7),\n",
       " (1, 12, 8),\n",
       " (1, 12, 9),\n",
       " (1, 12, 10),\n",
       " (1, 12, 11),\n",
       " (1, 12, 13),\n",
       " (1, 12, 14),\n",
       " (1, 12, 15),\n",
       " (1, 12, 16),\n",
       " (1, 12, 17),\n",
       " (1, 12, 18),\n",
       " (1, 12, 19),\n",
       " (1, 12, 20),\n",
       " (1, 12, 21),\n",
       " (1, 12, 22),\n",
       " (1, 12, 23),\n",
       " (1, 12, 24),\n",
       " (1, 12, 25),\n",
       " (1, 12, 26),\n",
       " (1, 12, 27),\n",
       " (1, 12, 28),\n",
       " (1, 12, 29),\n",
       " (1, 12, 30),\n",
       " (1, 13, 2),\n",
       " (1, 13, 3),\n",
       " (1, 13, 4),\n",
       " (1, 13, 5),\n",
       " (1, 13, 6),\n",
       " (1, 13, 7),\n",
       " (1, 13, 8),\n",
       " (1, 13, 9),\n",
       " (1, 13, 10),\n",
       " (1, 13, 11),\n",
       " (1, 13, 12),\n",
       " (1, 13, 14),\n",
       " (1, 13, 15),\n",
       " (1, 13, 16),\n",
       " (1, 13, 17),\n",
       " (1, 13, 18),\n",
       " (1, 13, 19),\n",
       " (1, 13, 20),\n",
       " (1, 13, 21),\n",
       " (1, 13, 22),\n",
       " (1, 13, 23),\n",
       " (1, 13, 24),\n",
       " (1, 13, 25),\n",
       " (1, 13, 26),\n",
       " (1, 13, 27),\n",
       " (1, 13, 28),\n",
       " (1, 13, 29),\n",
       " (1, 13, 30),\n",
       " (1, 14, 2),\n",
       " (1, 14, 3),\n",
       " (1, 14, 4),\n",
       " (1, 14, 5),\n",
       " (1, 14, 6),\n",
       " (1, 14, 7),\n",
       " (1, 14, 8),\n",
       " (1, 14, 9),\n",
       " (1, 14, 10),\n",
       " (1, 14, 11),\n",
       " (1, 14, 12),\n",
       " (1, 14, 13),\n",
       " (1, 14, 15),\n",
       " (1, 14, 16),\n",
       " (1, 14, 17),\n",
       " (1, 14, 18),\n",
       " (1, 14, 19),\n",
       " (1, 14, 20),\n",
       " (1, 14, 21),\n",
       " (1, 14, 22),\n",
       " (1, 14, 23),\n",
       " (1, 14, 24),\n",
       " (1, 14, 25),\n",
       " (1, 14, 26),\n",
       " (1, 14, 27),\n",
       " (1, 14, 28),\n",
       " (1, 14, 29),\n",
       " (1, 14, 30),\n",
       " (1, 15, 2),\n",
       " (1, 15, 3),\n",
       " (1, 15, 4),\n",
       " (1, 15, 5),\n",
       " (1, 15, 6),\n",
       " (1, 15, 7),\n",
       " (1, 15, 8),\n",
       " (1, 15, 9),\n",
       " (1, 15, 10),\n",
       " (1, 15, 11),\n",
       " (1, 15, 12),\n",
       " (1, 15, 13),\n",
       " (1, 15, 14),\n",
       " (1, 15, 16),\n",
       " (1, 15, 17),\n",
       " (1, 15, 18),\n",
       " (1, 15, 19),\n",
       " (1, 15, 20),\n",
       " (1, 15, 21),\n",
       " (1, 15, 22),\n",
       " (1, 15, 23),\n",
       " (1, 15, 24),\n",
       " (1, 15, 25),\n",
       " (1, 15, 26),\n",
       " (1, 15, 27),\n",
       " (1, 15, 28),\n",
       " (1, 15, 29),\n",
       " (1, 15, 30),\n",
       " (1, 16, 2),\n",
       " (1, 16, 3),\n",
       " (1, 16, 4),\n",
       " (1, 16, 5),\n",
       " (1, 16, 6),\n",
       " (1, 16, 7),\n",
       " (1, 16, 8),\n",
       " (1, 16, 9),\n",
       " (1, 16, 10),\n",
       " (1, 16, 11),\n",
       " (1, 16, 12),\n",
       " (1, 16, 13),\n",
       " (1, 16, 14),\n",
       " (1, 16, 15),\n",
       " (1, 16, 17),\n",
       " (1, 16, 18),\n",
       " (1, 16, 19),\n",
       " (1, 16, 20),\n",
       " (1, 16, 21),\n",
       " (1, 16, 22),\n",
       " (1, 16, 23),\n",
       " (1, 16, 24),\n",
       " (1, 16, 25),\n",
       " (1, 16, 26),\n",
       " (1, 16, 27),\n",
       " (1, 16, 28),\n",
       " (1, 16, 29),\n",
       " (1, 16, 30),\n",
       " (1, 17, 2),\n",
       " (1, 17, 3),\n",
       " (1, 17, 4),\n",
       " (1, 17, 5),\n",
       " (1, 17, 6),\n",
       " (1, 17, 7),\n",
       " (1, 17, 8),\n",
       " (1, 17, 9),\n",
       " (1, 17, 10),\n",
       " (1, 17, 11),\n",
       " (1, 17, 12),\n",
       " (1, 17, 13),\n",
       " (1, 17, 14),\n",
       " (1, 17, 15),\n",
       " (1, 17, 16),\n",
       " (1, 17, 18),\n",
       " (1, 17, 19),\n",
       " (1, 17, 20),\n",
       " (1, 17, 21),\n",
       " (1, 17, 22),\n",
       " (1, 17, 23),\n",
       " (1, 17, 24),\n",
       " (1, 17, 25),\n",
       " (1, 17, 26),\n",
       " (1, 17, 27),\n",
       " (1, 17, 28),\n",
       " (1, 17, 29),\n",
       " (1, 17, 30),\n",
       " (1, 18, 2),\n",
       " (1, 18, 3),\n",
       " (1, 18, 4),\n",
       " (1, 18, 5),\n",
       " (1, 18, 6),\n",
       " (1, 18, 7),\n",
       " (1, 18, 8),\n",
       " (1, 18, 9),\n",
       " (1, 18, 10),\n",
       " (1, 18, 11),\n",
       " (1, 18, 12),\n",
       " (1, 18, 13),\n",
       " (1, 18, 14),\n",
       " (1, 18, 15),\n",
       " (1, 18, 16),\n",
       " (1, 18, 17),\n",
       " (1, 18, 19),\n",
       " (1, 18, 20),\n",
       " (1, 18, 21),\n",
       " (1, 18, 22),\n",
       " (1, 18, 23),\n",
       " (1, 18, 24),\n",
       " (1, 18, 25),\n",
       " (1, 18, 26),\n",
       " (1, 18, 27),\n",
       " (1, 18, 28),\n",
       " (1, 18, 29),\n",
       " (1, 18, 30),\n",
       " (1, 19, 2),\n",
       " (1, 19, 3),\n",
       " (1, 19, 4),\n",
       " (1, 19, 5),\n",
       " (1, 19, 6),\n",
       " (1, 19, 7),\n",
       " (1, 19, 8),\n",
       " (1, 19, 9),\n",
       " (1, 19, 10),\n",
       " (1, 19, 11),\n",
       " (1, 19, 12),\n",
       " (1, 19, 13),\n",
       " (1, 19, 14),\n",
       " (1, 19, 15),\n",
       " (1, 19, 16),\n",
       " (1, 19, 17),\n",
       " (1, 19, 18),\n",
       " (1, 19, 20),\n",
       " (1, 19, 21),\n",
       " (1, 19, 22),\n",
       " (1, 19, 23),\n",
       " (1, 19, 24),\n",
       " (1, 19, 25),\n",
       " (1, 19, 26),\n",
       " (1, 19, 27),\n",
       " (1, 19, 28),\n",
       " (1, 19, 29),\n",
       " (1, 19, 30),\n",
       " (1, 20, 2),\n",
       " (1, 20, 3),\n",
       " (1, 20, 4),\n",
       " (1, 20, 5),\n",
       " (1, 20, 6),\n",
       " (1, 20, 7),\n",
       " (1, 20, 8),\n",
       " (1, 20, 9),\n",
       " (1, 20, 10),\n",
       " (1, 20, 11),\n",
       " (1, 20, 12),\n",
       " (1, 20, 13),\n",
       " (1, 20, 14),\n",
       " (1, 20, 15),\n",
       " (1, 20, 16),\n",
       " (1, 20, 17),\n",
       " (1, 20, 18),\n",
       " (1, 20, 19),\n",
       " (1, 20, 21),\n",
       " (1, 20, 22),\n",
       " (1, 20, 23),\n",
       " (1, 20, 24),\n",
       " (1, 20, 25),\n",
       " (1, 20, 26),\n",
       " (1, 20, 27),\n",
       " (1, 20, 28),\n",
       " (1, 20, 29),\n",
       " (1, 20, 30),\n",
       " (1, 21, 2),\n",
       " (1, 21, 3),\n",
       " (1, 21, 4),\n",
       " (1, 21, 5),\n",
       " (1, 21, 6),\n",
       " (1, 21, 7),\n",
       " (1, 21, 8),\n",
       " (1, 21, 9),\n",
       " (1, 21, 10),\n",
       " (1, 21, 11),\n",
       " (1, 21, 12),\n",
       " (1, 21, 13),\n",
       " (1, 21, 14),\n",
       " (1, 21, 15),\n",
       " (1, 21, 16),\n",
       " (1, 21, 17),\n",
       " (1, 21, 18),\n",
       " (1, 21, 19),\n",
       " (1, 21, 20),\n",
       " (1, 21, 22),\n",
       " (1, 21, 23),\n",
       " (1, 21, 24),\n",
       " (1, 21, 25),\n",
       " (1, 21, 26),\n",
       " (1, 21, 27),\n",
       " (1, 21, 28),\n",
       " (1, 21, 29),\n",
       " (1, 21, 30),\n",
       " (1, 22, 2),\n",
       " (1, 22, 3),\n",
       " (1, 22, 4),\n",
       " (1, 22, 5),\n",
       " (1, 22, 6),\n",
       " (1, 22, 7),\n",
       " (1, 22, 8),\n",
       " (1, 22, 9),\n",
       " (1, 22, 10),\n",
       " (1, 22, 11),\n",
       " (1, 22, 12),\n",
       " (1, 22, 13),\n",
       " (1, 22, 14),\n",
       " (1, 22, 15),\n",
       " (1, 22, 16),\n",
       " (1, 22, 17),\n",
       " (1, 22, 18),\n",
       " (1, 22, 19),\n",
       " (1, 22, 20),\n",
       " (1, 22, 21),\n",
       " (1, 22, 23),\n",
       " (1, 22, 24),\n",
       " (1, 22, 25),\n",
       " (1, 22, 26),\n",
       " (1, 22, 27),\n",
       " (1, 22, 28),\n",
       " (1, 22, 29),\n",
       " (1, 22, 30),\n",
       " (1, 23, 2),\n",
       " (1, 23, 3),\n",
       " (1, 23, 4),\n",
       " (1, 23, 5),\n",
       " (1, 23, 6),\n",
       " (1, 23, 7),\n",
       " (1, 23, 8),\n",
       " (1, 23, 9),\n",
       " (1, 23, 10),\n",
       " (1, 23, 11),\n",
       " (1, 23, 12),\n",
       " (1, 23, 13),\n",
       " (1, 23, 14),\n",
       " (1, 23, 15),\n",
       " (1, 23, 16),\n",
       " (1, 23, 17),\n",
       " (1, 23, 18),\n",
       " (1, 23, 19),\n",
       " (1, 23, 20),\n",
       " (1, 23, 21),\n",
       " (1, 23, 22),\n",
       " (1, 23, 24),\n",
       " (1, 23, 25),\n",
       " (1, 23, 26),\n",
       " (1, 23, 27),\n",
       " (1, 23, 28),\n",
       " (1, 23, 29),\n",
       " (1, 23, 30),\n",
       " (1, 24, 2),\n",
       " (1, 24, 3),\n",
       " (1, 24, 4),\n",
       " (1, 24, 5),\n",
       " (1, 24, 6),\n",
       " (1, 24, 7),\n",
       " (1, 24, 8),\n",
       " (1, 24, 9),\n",
       " (1, 24, 10),\n",
       " (1, 24, 11),\n",
       " (1, 24, 12),\n",
       " (1, 24, 13),\n",
       " (1, 24, 14),\n",
       " (1, 24, 15),\n",
       " (1, 24, 16),\n",
       " (1, 24, 17),\n",
       " (1, 24, 18),\n",
       " (1, 24, 19),\n",
       " (1, 24, 20),\n",
       " (1, 24, 21),\n",
       " (1, 24, 22),\n",
       " (1, 24, 23),\n",
       " (1, 24, 25),\n",
       " (1, 24, 26),\n",
       " (1, 24, 27),\n",
       " (1, 24, 28),\n",
       " (1, 24, 29),\n",
       " (1, 24, 30),\n",
       " (1, 25, 2),\n",
       " (1, 25, 3),\n",
       " (1, 25, 4),\n",
       " (1, 25, 5),\n",
       " (1, 25, 6),\n",
       " (1, 25, 7),\n",
       " (1, 25, 8),\n",
       " (1, 25, 9),\n",
       " (1, 25, 10),\n",
       " (1, 25, 11),\n",
       " (1, 25, 12),\n",
       " (1, 25, 13),\n",
       " (1, 25, 14),\n",
       " (1, 25, 15),\n",
       " (1, 25, 16),\n",
       " (1, 25, 17),\n",
       " (1, 25, 18),\n",
       " (1, 25, 19),\n",
       " (1, 25, 20),\n",
       " (1, 25, 21),\n",
       " (1, 25, 22),\n",
       " (1, 25, 23),\n",
       " (1, 25, 24),\n",
       " (1, 25, 26),\n",
       " (1, 25, 27),\n",
       " (1, 25, 28),\n",
       " (1, 25, 29),\n",
       " (1, 25, 30),\n",
       " (1, 26, 2),\n",
       " (1, 26, 3),\n",
       " (1, 26, 4),\n",
       " (1, 26, 5),\n",
       " (1, 26, 6),\n",
       " (1, 26, 7),\n",
       " (1, 26, 8),\n",
       " (1, 26, 9),\n",
       " (1, 26, 10),\n",
       " (1, 26, 11),\n",
       " (1, 26, 12),\n",
       " (1, 26, 13),\n",
       " (1, 26, 14),\n",
       " (1, 26, 15),\n",
       " (1, 26, 16),\n",
       " (1, 26, 17),\n",
       " (1, 26, 18),\n",
       " (1, 26, 19),\n",
       " (1, 26, 20),\n",
       " (1, 26, 21),\n",
       " (1, 26, 22),\n",
       " (1, 26, 23),\n",
       " (1, 26, 24),\n",
       " (1, 26, 25),\n",
       " (1, 26, 27),\n",
       " (1, 26, 28),\n",
       " (1, 26, 29),\n",
       " (1, 26, 30),\n",
       " (1, 27, 2),\n",
       " (1, 27, 3),\n",
       " (1, 27, 4),\n",
       " (1, 27, 5),\n",
       " (1, 27, 6),\n",
       " (1, 27, 7),\n",
       " (1, 27, 8),\n",
       " (1, 27, 9),\n",
       " (1, 27, 10),\n",
       " (1, 27, 11),\n",
       " (1, 27, 12),\n",
       " (1, 27, 13),\n",
       " (1, 27, 14),\n",
       " (1, 27, 15),\n",
       " (1, 27, 16),\n",
       " (1, 27, 17),\n",
       " (1, 27, 18),\n",
       " (1, 27, 19),\n",
       " (1, 27, 20),\n",
       " (1, 27, 21),\n",
       " (1, 27, 22),\n",
       " (1, 27, 23),\n",
       " (1, 27, 24),\n",
       " (1, 27, 25),\n",
       " (1, 27, 26),\n",
       " (1, 27, 28),\n",
       " (1, 27, 29),\n",
       " (1, 27, 30),\n",
       " (1, 28, 2),\n",
       " (1, 28, 3),\n",
       " (1, 28, 4),\n",
       " (1, 28, 5),\n",
       " (1, 28, 6),\n",
       " (1, 28, 7),\n",
       " (1, 28, 8),\n",
       " (1, 28, 9),\n",
       " (1, 28, 10),\n",
       " (1, 28, 11),\n",
       " (1, 28, 12),\n",
       " (1, 28, 13),\n",
       " (1, 28, 14),\n",
       " (1, 28, 15),\n",
       " (1, 28, 16),\n",
       " (1, 28, 17),\n",
       " (1, 28, 18),\n",
       " (1, 28, 19),\n",
       " (1, 28, 20),\n",
       " (1, 28, 21),\n",
       " (1, 28, 22),\n",
       " (1, 28, 23),\n",
       " (1, 28, 24),\n",
       " (1, 28, 25),\n",
       " (1, 28, 26),\n",
       " (1, 28, 27),\n",
       " (1, 28, 29),\n",
       " (1, 28, 30),\n",
       " (1, 29, 2),\n",
       " (1, 29, 3),\n",
       " (1, 29, 4),\n",
       " (1, 29, 5),\n",
       " (1, 29, 6),\n",
       " (1, 29, 7),\n",
       " (1, 29, 8),\n",
       " (1, 29, 9),\n",
       " (1, 29, 10),\n",
       " (1, 29, 11),\n",
       " (1, 29, 12),\n",
       " (1, 29, 13),\n",
       " (1, 29, 14),\n",
       " (1, 29, 15),\n",
       " (1, 29, 16),\n",
       " (1, 29, 17),\n",
       " (1, 29, 18),\n",
       " (1, 29, 19),\n",
       " (1, 29, 20),\n",
       " (1, 29, 21),\n",
       " (1, 29, 22),\n",
       " (1, 29, 23),\n",
       " (1, 29, 24),\n",
       " (1, 29, 25),\n",
       " (1, 29, 26),\n",
       " (1, 29, 27),\n",
       " (1, 29, 28),\n",
       " (1, 29, 30),\n",
       " (1, 30, 2),\n",
       " (1, 30, 3),\n",
       " (1, 30, 4),\n",
       " (1, 30, 5),\n",
       " (1, 30, 6),\n",
       " (1, 30, 7),\n",
       " (1, 30, 8),\n",
       " (1, 30, 9),\n",
       " (1, 30, 10),\n",
       " (1, 30, 11),\n",
       " (1, 30, 12),\n",
       " (1, 30, 13),\n",
       " (1, 30, 14),\n",
       " (1, 30, 15),\n",
       " (1, 30, 16),\n",
       " (1, 30, 17),\n",
       " (1, 30, 18),\n",
       " (1, 30, 19),\n",
       " (1, 30, 20),\n",
       " (1, 30, 21),\n",
       " (1, 30, 22),\n",
       " (1, 30, 23),\n",
       " (1, 30, 24),\n",
       " (1, 30, 25),\n",
       " (1, 30, 26),\n",
       " (1, 30, 27),\n",
       " (1, 30, 28),\n",
       " (1, 30, 29),\n",
       " (2, 1, 3),\n",
       " (2, 1, 4),\n",
       " (2, 1, 5),\n",
       " (2, 1, 6),\n",
       " (2, 1, 7),\n",
       " (2, 1, 8),\n",
       " (2, 1, 9),\n",
       " (2, 1, 10),\n",
       " (2, 1, 11),\n",
       " (2, 1, 12),\n",
       " (2, 1, 13),\n",
       " (2, 1, 14),\n",
       " (2, 1, 15),\n",
       " (2, 1, 16),\n",
       " (2, 1, 17),\n",
       " (2, 1, 18),\n",
       " (2, 1, 19),\n",
       " (2, 1, 20),\n",
       " (2, 1, 21),\n",
       " (2, 1, 22),\n",
       " (2, 1, 23),\n",
       " (2, 1, 24),\n",
       " (2, 1, 25),\n",
       " (2, 1, 26),\n",
       " (2, 1, 27),\n",
       " (2, 1, 28),\n",
       " (2, 1, 29),\n",
       " (2, 1, 30),\n",
       " (2, 3, 1),\n",
       " (2, 3, 4),\n",
       " (2, 3, 5),\n",
       " (2, 3, 6),\n",
       " (2, 3, 7),\n",
       " (2, 3, 8),\n",
       " (2, 3, 9),\n",
       " (2, 3, 10),\n",
       " (2, 3, 11),\n",
       " (2, 3, 12),\n",
       " (2, 3, 13),\n",
       " (2, 3, 14),\n",
       " (2, 3, 15),\n",
       " (2, 3, 16),\n",
       " (2, 3, 17),\n",
       " (2, 3, 18),\n",
       " (2, 3, 19),\n",
       " (2, 3, 20),\n",
       " (2, 3, 21),\n",
       " (2, 3, 22),\n",
       " (2, 3, 23),\n",
       " (2, 3, 24),\n",
       " (2, 3, 25),\n",
       " (2, 3, 26),\n",
       " (2, 3, 27),\n",
       " (2, 3, 28),\n",
       " (2, 3, 29),\n",
       " (2, 3, 30),\n",
       " (2, 4, 1),\n",
       " (2, 4, 3),\n",
       " (2, 4, 5),\n",
       " (2, 4, 6),\n",
       " (2, 4, 7),\n",
       " (2, 4, 8),\n",
       " (2, 4, 9),\n",
       " (2, 4, 10),\n",
       " (2, 4, 11),\n",
       " (2, 4, 12),\n",
       " (2, 4, 13),\n",
       " (2, 4, 14),\n",
       " (2, 4, 15),\n",
       " (2, 4, 16),\n",
       " (2, 4, 17),\n",
       " (2, 4, 18),\n",
       " (2, 4, 19),\n",
       " (2, 4, 20),\n",
       " (2, 4, 21),\n",
       " (2, 4, 22),\n",
       " (2, 4, 23),\n",
       " (2, 4, 24),\n",
       " (2, 4, 25),\n",
       " (2, 4, 26),\n",
       " (2, 4, 27),\n",
       " (2, 4, 28),\n",
       " (2, 4, 29),\n",
       " (2, 4, 30),\n",
       " (2, 5, 1),\n",
       " (2, 5, 3),\n",
       " (2, 5, 4),\n",
       " (2, 5, 6),\n",
       " (2, 5, 7),\n",
       " (2, 5, 8),\n",
       " (2, 5, 9),\n",
       " (2, 5, 10),\n",
       " (2, 5, 11),\n",
       " (2, 5, 12),\n",
       " (2, 5, 13),\n",
       " (2, 5, 14),\n",
       " (2, 5, 15),\n",
       " (2, 5, 16),\n",
       " (2, 5, 17),\n",
       " (2, 5, 18),\n",
       " (2, 5, 19),\n",
       " (2, 5, 20),\n",
       " (2, 5, 21),\n",
       " (2, 5, 22),\n",
       " (2, 5, 23),\n",
       " (2, 5, 24),\n",
       " (2, 5, 25),\n",
       " (2, 5, 26),\n",
       " (2, 5, 27),\n",
       " (2, 5, 28),\n",
       " (2, 5, 29),\n",
       " (2, 5, 30),\n",
       " (2, 6, 1),\n",
       " (2, 6, 3),\n",
       " (2, 6, 4),\n",
       " (2, 6, 5),\n",
       " (2, 6, 7),\n",
       " (2, 6, 8),\n",
       " (2, 6, 9),\n",
       " (2, 6, 10),\n",
       " (2, 6, 11),\n",
       " (2, 6, 12),\n",
       " (2, 6, 13),\n",
       " (2, 6, 14),\n",
       " (2, 6, 15),\n",
       " (2, 6, 16),\n",
       " (2, 6, 17),\n",
       " (2, 6, 18),\n",
       " (2, 6, 19),\n",
       " (2, 6, 20),\n",
       " (2, 6, 21),\n",
       " (2, 6, 22),\n",
       " (2, 6, 23),\n",
       " (2, 6, 24),\n",
       " (2, 6, 25),\n",
       " (2, 6, 26),\n",
       " (2, 6, 27),\n",
       " (2, 6, 28),\n",
       " (2, 6, 29),\n",
       " (2, 6, 30),\n",
       " (2, 7, 1),\n",
       " (2, 7, 3),\n",
       " (2, 7, 4),\n",
       " (2, 7, 5),\n",
       " (2, 7, 6),\n",
       " (2, 7, 8),\n",
       " (2, 7, 9),\n",
       " (2, 7, 10),\n",
       " (2, 7, 11),\n",
       " (2, 7, 12),\n",
       " (2, 7, 13),\n",
       " (2, 7, 14),\n",
       " (2, 7, 15),\n",
       " (2, 7, 16),\n",
       " (2, 7, 17),\n",
       " (2, 7, 18),\n",
       " (2, 7, 19),\n",
       " (2, 7, 20),\n",
       " (2, 7, 21),\n",
       " (2, 7, 22),\n",
       " (2, 7, 23),\n",
       " (2, 7, 24),\n",
       " (2, 7, 25),\n",
       " (2, 7, 26),\n",
       " (2, 7, 27),\n",
       " (2, 7, 28),\n",
       " (2, 7, 29),\n",
       " (2, 7, 30),\n",
       " (2, 8, 1),\n",
       " (2, 8, 3),\n",
       " (2, 8, 4),\n",
       " (2, 8, 5),\n",
       " (2, 8, 6),\n",
       " (2, 8, 7),\n",
       " (2, 8, 9),\n",
       " (2, 8, 10),\n",
       " (2, 8, 11),\n",
       " (2, 8, 12),\n",
       " (2, 8, 13),\n",
       " (2, 8, 14),\n",
       " (2, 8, 15),\n",
       " (2, 8, 16),\n",
       " (2, 8, 17),\n",
       " (2, 8, 18),\n",
       " (2, 8, 19),\n",
       " (2, 8, 20),\n",
       " (2, 8, 21),\n",
       " (2, 8, 22),\n",
       " ...]"
      ]
     },
     "execution_count": 12,
     "metadata": {},
     "output_type": "execute_result"
    }
   ],
   "source": [
    "# Also the python library itertools has combination and permutations!\n",
    "import itertools\n",
    "\n",
    "#How many variations of the top 3 runners with 30 contestants \n",
    "#1 through 31;;30 options for top 3 // list \n",
    "#allows you iterate over a potentional outcomes and generates variations\n",
    "method_2 = list(itertools.permutations(range(1,31),3))\n",
    "\n",
    "method_2"
   ]
  },
  {
   "cell_type": "markdown",
   "metadata": {},
   "source": [
    "#### * Can you spot the difference b/t methods?"
   ]
  },
  {
   "cell_type": "code",
   "execution_count": 14,
   "metadata": {},
   "outputs": [
    {
     "ename": "TypeError",
     "evalue": "'int' object is not iterable",
     "output_type": "error",
     "traceback": [
      "\u001b[1;31m---------------------------------------------------------------------------\u001b[0m",
      "\u001b[1;31mTypeError\u001b[0m                                 Traceback (most recent call last)",
      "\u001b[1;32m<ipython-input-14-edfbc605eda4>\u001b[0m in \u001b[0;36m<module>\u001b[1;34m\u001b[0m\n\u001b[0;32m      2\u001b[0m \u001b[1;31m#math doesn't allow replacemnt, itertool will\u001b[0m\u001b[1;33m\u001b[0m\u001b[1;33m\u001b[0m\u001b[1;33m\u001b[0m\u001b[0m\n\u001b[0;32m      3\u001b[0m \u001b[1;33m\u001b[0m\u001b[0m\n\u001b[1;32m----> 4\u001b[1;33m \u001b[0mitertools\u001b[0m\u001b[1;33m.\u001b[0m\u001b[0mpermutations\u001b[0m\u001b[1;33m(\u001b[0m\u001b[1;36m40\u001b[0m\u001b[1;33m,\u001b[0m\u001b[1;36m3\u001b[0m\u001b[1;33m)\u001b[0m\u001b[1;33m\u001b[0m\u001b[1;33m\u001b[0m\u001b[0m\n\u001b[0m",
      "\u001b[1;31mTypeError\u001b[0m: 'int' object is not iterable"
     ]
    }
   ],
   "source": [
    "#itertools will give you specific counts and if only interested in the number use math modules\n",
    "#math doesn't allow replacemnt, itertool will\n",
    "\n",
    "itertools.permutations(40,3)"
   ]
  },
  {
   "cell_type": "markdown",
   "metadata": {},
   "source": [
    "-"
   ]
  },
  {
   "cell_type": "markdown",
   "metadata": {
    "slideshow": {
     "slide_type": "slide"
    }
   },
   "source": [
    "### Q: How many possible codes are there for a standard padlock?\n",
    "\n",
    "> Hint: (there are 40 numbers on a padlock and use 3 numbers - **with replacement**)"
   ]
  },
  {
   "cell_type": "code",
   "execution_count": 18,
   "metadata": {
    "slideshow": {
     "slide_type": "notes"
    }
   },
   "outputs": [
    {
     "data": {
      "text/plain": [
       "64000"
      ]
     },
     "execution_count": 18,
     "metadata": {},
     "output_type": "execute_result"
    }
   ],
   "source": [
    "#40 potentional choices, #3 combinations #list gives the amount of solutions #length gives us the count of solutions\n",
    "num=list(range(1,41))\n",
    "#allows us to multiply itertools andthe list allows to catalog permutations\n",
    "len(list(itertools.product(num, repeat =3)))\n",
    "#40*40*40"
   ]
  },
  {
   "cell_type": "code",
   "execution_count": 20,
   "metadata": {},
   "outputs": [
    {
     "data": {
      "text/plain": [
       "59280"
      ]
     },
     "execution_count": 20,
     "metadata": {},
     "output_type": "execute_result"
    }
   ],
   "source": [
    "math.perm(40,3)"
   ]
  },
  {
   "cell_type": "markdown",
   "metadata": {},
   "source": [
    "For the first number: 40 choices. For the second number, still 40 choices: $40\\cdot40=40^2$. Again, for 3rd number, still 40 choices: $40\\cdot40\\cdot40=40^3$"
   ]
  },
  {
   "cell_type": "markdown",
   "metadata": {
    "slideshow": {
     "slide_type": "slide"
    }
   },
   "source": [
    "### Q: How many unique 3 topping pizzas can you make from the following 8 ingredients:\n",
    "\n",
    "- Mushrooms\n",
    "- Pepperoni\n",
    "- Onion\n",
    "- Peppers\n",
    "- Ham\n",
    "- Pineapple\n",
    "- Sausage\n",
    "- Olives\n",
    "    \n",
    "> Side note: which is the worst?"
   ]
  },
  {
   "cell_type": "code",
   "execution_count": 22,
   "metadata": {},
   "outputs": [
    {
     "ename": "SyntaxError",
     "evalue": "unexpected EOF while parsing (<ipython-input-22-85ceed781c1a>, line 4)",
     "output_type": "error",
     "traceback": [
      "\u001b[1;36m  File \u001b[1;32m\"<ipython-input-22-85ceed781c1a>\"\u001b[1;36m, line \u001b[1;32m4\u001b[0m\n\u001b[1;33m    \u001b[0m\n\u001b[1;37m    ^\u001b[0m\n\u001b[1;31mSyntaxError\u001b[0m\u001b[1;31m:\u001b[0m unexpected EOF while parsing\n"
     ]
    }
   ],
   "source": [
    "# Using math\n",
    "\n",
    "three_top_pizzas = math.factorial(8)/(math.factorial(3)*math.factorial\n",
    "              "
   ]
  },
  {
   "cell_type": "code",
   "execution_count": 23,
   "metadata": {
    "slideshow": {
     "slide_type": "notes"
    }
   },
   "outputs": [
    {
     "ename": "TypeError",
     "evalue": "object of type 'NoneType' has no len()",
     "output_type": "error",
     "traceback": [
      "\u001b[1;31m---------------------------------------------------------------------------\u001b[0m",
      "\u001b[1;31mTypeError\u001b[0m                                 Traceback (most recent call last)",
      "\u001b[1;32m<ipython-input-23-9c329c481976>\u001b[0m in \u001b[0;36m<module>\u001b[1;34m\u001b[0m\n\u001b[0;32m      5\u001b[0m \u001b[1;31m# Using itertools\u001b[0m\u001b[1;33m\u001b[0m\u001b[1;33m\u001b[0m\u001b[1;33m\u001b[0m\u001b[0m\n\u001b[0;32m      6\u001b[0m \u001b[0mthree_topping_pizzas\u001b[0m \u001b[1;33m=\u001b[0m \u001b[1;32mNone\u001b[0m\u001b[1;33m\u001b[0m\u001b[1;33m\u001b[0m\u001b[0m\n\u001b[1;32m----> 7\u001b[1;33m \u001b[0mlen\u001b[0m\u001b[1;33m(\u001b[0m\u001b[0mthree_topping_pizzas\u001b[0m\u001b[1;33m)\u001b[0m\u001b[1;33m\u001b[0m\u001b[1;33m\u001b[0m\u001b[0m\n\u001b[0m",
      "\u001b[1;31mTypeError\u001b[0m: object of type 'NoneType' has no len()"
     ]
    }
   ],
   "source": [
    "# Our list of toppings\n",
    "toppings = [\"Mushrooms\", \"Pepperoni\", \"Onion\", \"Peppers\", \n",
    "            \"Ham\", \"Pineapple\", \"Sausage\", \"Olives\"]\n",
    "\n",
    "# Using itertools\n",
    "three_topping_pizzas = None\n",
    "len(three_topping_pizzas)"
   ]
  },
  {
   "cell_type": "markdown",
   "metadata": {
    "colab_type": "text",
    "id": "hHKVcR-FYNqf"
   },
   "source": [
    "# Probability Theory\n",
    "\n",
    "Probability theory is the study of the frequency of a given event occurring with respect to all possible events.\n",
    "\n",
    "**Probability is the likelihood of a specific outcome occurring out of all possible outcomes, expressed as a fraction between 0 and 1.**\n",
    "\n",
    "But perhaps more importantly:\n",
    "\n",
    "> **\"Probabilities do not tell us what will happen for sure; they tell us what is _likely to happen_ and what is _less likely to happen_.\"**\n",
    ">\n",
    "> -- _Naked Statistics_, by Charles Wheelan, p. 72"
   ]
  },
  {
   "cell_type": "markdown",
   "metadata": {
    "heading_collapsed": true,
    "hidden": true,
    "slideshow": {
     "slide_type": "slide"
    }
   },
   "source": [
    "## Why Should I Care About Probabilities?"
   ]
  },
  {
   "cell_type": "markdown",
   "metadata": {
    "hidden": true,
    "slideshow": {
     "slide_type": "slide"
    }
   },
   "source": [
    "Studying probabilities allows us to make better and more informed decisions, based on data previously collected. For example, understanding the fact that it is nearly impossible for us to ever win the lottery from a probabilistic standpoint deters us from using it as a source of income.\n",
    "\n",
    "Probability theory also lies at the heart of making inferences using our data, which is what statistics is all about!"
   ]
  },
  {
   "cell_type": "markdown",
   "metadata": {
    "heading_collapsed": true,
    "hidden": true,
    "slideshow": {
     "slide_type": "slide"
    }
   },
   "source": [
    "## Probability Terminology"
   ]
  },
  {
   "cell_type": "markdown",
   "metadata": {},
   "source": [
    "From [_Introduction to Probability, Statistics, and Random Processes_](https://www.probabilitycourse.com/chapter1/1_3_1_random_experiments.php):\n",
    "\n",
    "> **Outcome:** A result of a random experiment.\n",
    ">\n",
    "> **Sample Space:** The set of all possible outcomes.\n",
    ">\n",
    "> **Event:** A subset of the sample space.\n",
    "\n",
    "To be more specific, an **event** is a specific outcome of a random experiment, often what we are hoping to predict (so it's sometimes called a successful outcome)"
   ]
  },
  {
   "cell_type": "markdown",
   "metadata": {
    "hidden": true
   },
   "source": [
    "We typically write probability statements using notation like $P(E) = 0.5$, where $E$ is an event, such as getting Heads in a coin flip."
   ]
  },
  {
   "cell_type": "markdown",
   "metadata": {
    "heading_collapsed": true,
    "hidden": true
   },
   "source": [
    "## Probability Using Sets"
   ]
  },
  {
   "cell_type": "markdown",
   "metadata": {
    "hidden": true
   },
   "source": [
    "In its most basic form, the **probability** of an event occurring is the size of the specific outcome set divided by the size of the sample space. In some ways, probability is just about counting outcomes."
   ]
  },
  {
   "cell_type": "markdown",
   "metadata": {
    "hidden": true
   },
   "source": [
    "**Example**: What is the probability of rolling an even number on a six-sided die?\n",
    "\n",
    "* Event: {2, 4, 6} has size 3\n",
    "* Sample space: {1, 2, 3, 4, 5, 6} has size 6\n",
    "* Thus the probability = 3/6 = 1/2 = 50%"
   ]
  },
  {
   "cell_type": "markdown",
   "metadata": {},
   "source": [
    "#### Relevant Distinction: Types of Variables\n",
    "\n",
    "A random variable can either be continuous or discrete\n",
    "- **Continuous**: the variable can have any values within a range (e.g. a person's height)\n",
    "- **Discrete**: the variable can only have a finite subset of values within a range (e.g. number of cars owned)\n",
    "\n",
    "This is important because, for continuous variables, the probability of some specific event x _will functionally be zero_! BUT \"in reality we are always interested in the probability of some intervals rather than a specific point x\" [[Source]](https://www.probabilitycourse.com/chapter1/1_3_5_continuous_models.php)"
   ]
  },
  {
   "cell_type": "markdown",
   "metadata": {},
   "source": [
    "## Calculating Probabilities\n",
    "\n",
    "Note: some of this text comes from [_OpenIntro Statistics_](https://www.openintro.org/book/os/), Chapter 3."
   ]
  },
  {
   "cell_type": "markdown",
   "metadata": {},
   "source": [
    "In general, you can think of dividing the outcome you're exploring by all possible outcomes:\n",
    "\n",
    "$$\\large P(Event) = \\frac{|Event|}{|Sample\\ Space|} $$"
   ]
  },
  {
   "cell_type": "markdown",
   "metadata": {},
   "source": [
    "#### General Addition Rule\n",
    "\n",
    "The probability that either $A$ or $B$ will occur can be calculated by adding each individual probability, and then subtracting the probability that both occur together:\n",
    "\n",
    "$$\\large P(A \\cup B) = P(A) + P(B) − P(A \\cap B)$$\n",
    "\n",
    "Remember, $P(A \\cap B)$ expresses the overlap between the two events - if you don't subtract that overlap, then you double count the instances when **both** $A$ and $B$ occur!"
   ]
  },
  {
   "cell_type": "markdown",
   "metadata": {},
   "source": [
    "#### Multiplication Rule for Independent Processes\n",
    "\n",
    "A special condition is when the outcome of $A$ has no bearing on the outcome of $B$. We say these two events are **independent** (e.g. rolling a die and tossing a coin).\n",
    "\n",
    "If $A$ and $B$ represent events from two different and **independent** processes, then the probability\n",
    "that both $A$ and $B$ occur can be calculated as the product of their separate probabilities:\n",
    "\n",
    "$$\\large P(A \\cap B) = P(A) * P(B)$$"
   ]
  },
  {
   "cell_type": "markdown",
   "metadata": {
    "heading_collapsed": true,
    "hidden": true
   },
   "source": [
    "### 🧠 Knowledge Check"
   ]
  },
  {
   "cell_type": "markdown",
   "metadata": {
    "hidden": true
   },
   "source": [
    "### 1) AND Question:\n",
    "\n",
    "What is the probability of rolling a 5 on a fair die _and_ getting a tails on a fair coin toss?"
   ]
  },
  {
   "cell_type": "markdown",
   "metadata": {},
   "source": [
    "**Your answer here**:\n",
    "\n",
    "- \n"
   ]
  },
  {
   "cell_type": "code",
   "execution_count": 25,
   "metadata": {},
   "outputs": [
    {
     "data": {
      "text/plain": [
       "0.08333333333333333"
      ]
     },
     "execution_count": 25,
     "metadata": {},
     "output_type": "execute_result"
    }
   ],
   "source": [
    "#What is the probability of rolling a 5 on a fair die and getting a tails on a fair coin toss?\n",
    "(1/6) * (1/2)\n",
    "#if independent use multicpiation "
   ]
  },
  {
   "cell_type": "markdown",
   "metadata": {},
   "source": [
    "\n",
    "<details>\n",
    "    <summary>Answer</summary>\n",
    "\n",
    "We're checking for the intersection of these sets. Of the six possible outcomes on a die roll only one (the 5) will do. So the chance of getting a 5 on a die is 1/6. Of the two possible outcomes on a coin toss again only one (tails) will do. So the chance of getting tail on a coin toss is 1/2.\n",
    "\n",
    "So the calculation is: $$\\large P(5 \\cap tails) = \\left(\\frac{1}{6}\\right)*\\left(\\frac{1}{2}\\right) = \\frac{1}{12}$$\n",
    "</details>"
   ]
  },
  {
   "cell_type": "markdown",
   "metadata": {
    "hidden": true
   },
   "source": [
    "### 2) OR Question: \n",
    "\n",
    "What is the probability of rolling a 5 on a die _or_ getting a tails on a coin toss?"
   ]
  },
  {
   "cell_type": "markdown",
   "metadata": {},
   "source": [
    "**Your answer here**:\n",
    "\n",
    "- \n"
   ]
  },
  {
   "cell_type": "code",
   "execution_count": 28,
   "metadata": {},
   "outputs": [
    {
     "data": {
      "text/plain": [
       "0.5833333333333333"
      ]
     },
     "execution_count": 28,
     "metadata": {},
     "output_type": "execute_result"
    }
   ],
   "source": [
    "#What is the probability of rolling a 5 on a die or getting a tails on a coin toss?\n",
    "(1/6) + (1/2) - (1/12)\n",
    "#if depedent use + / - "
   ]
  },
  {
   "cell_type": "markdown",
   "metadata": {},
   "source": [
    "\n",
    "<details>\n",
    "    <summary>Answer</summary>\n",
    "    \n",
    "   We're now checking for the union of these sets. Here we want to count all the die-coin combinations where we have a 5 on the die AND all the die-coin combinations where we have a tails on the coin. \n",
    "\n",
    "$$\\large P(5 \\cup tails) $$\n",
    "\n",
    "**BUT:**\n",
    "\n",
    "If the die is 5, that includes two possibilities: 5-heads and **5-tails**.\n",
    "\n",
    "Our coin is tails, that includes six possibilities: 1-tails, 2-tails, 3-tails, 4-tails, **5-tails**, and 6-tails.\n",
    "\n",
    "But then we've counted the combination where **both** the 5 and the tails occur **twice**.\n",
    "\n",
    "So the correct calculation is the sum of the individual probabilities **less the probability of their intersection**:\n",
    "\n",
    "$$\\large P(5 \\cup tails) = \\left(\\frac{1}{6}\\right) + \\left(\\frac{1}{2}\\right) - \\left(\\left(\\frac{1}{6}\\right)*\\left(\\frac{1}{2}\\right)\\right) = \\frac{7}{12} $$\n",
    "    </details>"
   ]
  },
  {
   "cell_type": "markdown",
   "metadata": {},
   "source": [
    "## Enough Talk - Let's Explore in Python!"
   ]
  },
  {
   "cell_type": "markdown",
   "metadata": {
    "slideshow": {
     "slide_type": "slide"
    }
   },
   "source": [
    "### Mushroom dataset\n",
    "\n",
    "Let's look at a modified version of the Mushroom dataset from UCI [here](https://archive.ics.uci.edu/ml/datasets/Mushroom). Each row in this dataset corresponds to one observation (one mushroom). "
   ]
  },
  {
   "cell_type": "code",
   "execution_count": 29,
   "metadata": {},
   "outputs": [],
   "source": [
    "import pandas as pd"
   ]
  },
  {
   "cell_type": "code",
   "execution_count": 30,
   "metadata": {
    "slideshow": {
     "slide_type": "slide"
    }
   },
   "outputs": [
    {
     "data": {
      "text/html": [
       "<div>\n",
       "<style scoped>\n",
       "    .dataframe tbody tr th:only-of-type {\n",
       "        vertical-align: middle;\n",
       "    }\n",
       "\n",
       "    .dataframe tbody tr th {\n",
       "        vertical-align: top;\n",
       "    }\n",
       "\n",
       "    .dataframe thead th {\n",
       "        text-align: right;\n",
       "    }\n",
       "</style>\n",
       "<table border=\"1\" class=\"dataframe\">\n",
       "  <thead>\n",
       "    <tr style=\"text-align: right;\">\n",
       "      <th></th>\n",
       "      <th>edible-poisonous</th>\n",
       "      <th>gill-spacing</th>\n",
       "      <th>stalk-shape</th>\n",
       "      <th>stalk-color-above-ring</th>\n",
       "      <th>stalk-color-below-ring</th>\n",
       "      <th>gill-color</th>\n",
       "      <th>bruised</th>\n",
       "    </tr>\n",
       "  </thead>\n",
       "  <tbody>\n",
       "    <tr>\n",
       "      <th>0</th>\n",
       "      <td>poisonous</td>\n",
       "      <td>close</td>\n",
       "      <td>enlarging</td>\n",
       "      <td>white</td>\n",
       "      <td>white</td>\n",
       "      <td>black</td>\n",
       "      <td>True</td>\n",
       "    </tr>\n",
       "    <tr>\n",
       "      <th>1</th>\n",
       "      <td>edible</td>\n",
       "      <td>close</td>\n",
       "      <td>enlarging</td>\n",
       "      <td>white</td>\n",
       "      <td>white</td>\n",
       "      <td>black</td>\n",
       "      <td>True</td>\n",
       "    </tr>\n",
       "    <tr>\n",
       "      <th>2</th>\n",
       "      <td>edible</td>\n",
       "      <td>close</td>\n",
       "      <td>enlarging</td>\n",
       "      <td>white</td>\n",
       "      <td>white</td>\n",
       "      <td>brown</td>\n",
       "      <td>True</td>\n",
       "    </tr>\n",
       "    <tr>\n",
       "      <th>3</th>\n",
       "      <td>poisonous</td>\n",
       "      <td>close</td>\n",
       "      <td>enlarging</td>\n",
       "      <td>white</td>\n",
       "      <td>white</td>\n",
       "      <td>brown</td>\n",
       "      <td>True</td>\n",
       "    </tr>\n",
       "    <tr>\n",
       "      <th>4</th>\n",
       "      <td>edible</td>\n",
       "      <td>crowded</td>\n",
       "      <td>tapering</td>\n",
       "      <td>white</td>\n",
       "      <td>white</td>\n",
       "      <td>black</td>\n",
       "      <td>False</td>\n",
       "    </tr>\n",
       "  </tbody>\n",
       "</table>\n",
       "</div>"
      ],
      "text/plain": [
       "  edible-poisonous gill-spacing stalk-shape stalk-color-above-ring  \\\n",
       "0        poisonous        close   enlarging                  white   \n",
       "1           edible        close   enlarging                  white   \n",
       "2           edible        close   enlarging                  white   \n",
       "3        poisonous        close   enlarging                  white   \n",
       "4           edible      crowded    tapering                  white   \n",
       "\n",
       "  stalk-color-below-ring gill-color  bruised  \n",
       "0                  white      black     True  \n",
       "1                  white      black     True  \n",
       "2                  white      brown     True  \n",
       "3                  white      brown     True  \n",
       "4                  white      black    False  "
      ]
     },
     "execution_count": 30,
     "metadata": {},
     "output_type": "execute_result"
    }
   ],
   "source": [
    "df = pd.read_csv('data/Mushrooms_cleaned.csv')\n",
    "df.head()"
   ]
  },
  {
   "cell_type": "code",
   "execution_count": 31,
   "metadata": {},
   "outputs": [
    {
     "data": {
      "text/html": [
       "<div>\n",
       "<style scoped>\n",
       "    .dataframe tbody tr th:only-of-type {\n",
       "        vertical-align: middle;\n",
       "    }\n",
       "\n",
       "    .dataframe tbody tr th {\n",
       "        vertical-align: top;\n",
       "    }\n",
       "\n",
       "    .dataframe thead th {\n",
       "        text-align: right;\n",
       "    }\n",
       "</style>\n",
       "<table border=\"1\" class=\"dataframe\">\n",
       "  <thead>\n",
       "    <tr style=\"text-align: right;\">\n",
       "      <th></th>\n",
       "      <th>edible-poisonous</th>\n",
       "      <th>gill-spacing</th>\n",
       "      <th>stalk-shape</th>\n",
       "      <th>stalk-color-above-ring</th>\n",
       "      <th>stalk-color-below-ring</th>\n",
       "      <th>gill-color</th>\n",
       "      <th>bruised</th>\n",
       "    </tr>\n",
       "  </thead>\n",
       "  <tbody>\n",
       "    <tr>\n",
       "      <th>count</th>\n",
       "      <td>8124</td>\n",
       "      <td>8124</td>\n",
       "      <td>8124</td>\n",
       "      <td>8124</td>\n",
       "      <td>8124</td>\n",
       "      <td>8124</td>\n",
       "      <td>8124</td>\n",
       "    </tr>\n",
       "    <tr>\n",
       "      <th>unique</th>\n",
       "      <td>2</td>\n",
       "      <td>2</td>\n",
       "      <td>2</td>\n",
       "      <td>9</td>\n",
       "      <td>9</td>\n",
       "      <td>12</td>\n",
       "      <td>2</td>\n",
       "    </tr>\n",
       "    <tr>\n",
       "      <th>top</th>\n",
       "      <td>edible</td>\n",
       "      <td>close</td>\n",
       "      <td>tapering</td>\n",
       "      <td>white</td>\n",
       "      <td>white</td>\n",
       "      <td>buff</td>\n",
       "      <td>False</td>\n",
       "    </tr>\n",
       "    <tr>\n",
       "      <th>freq</th>\n",
       "      <td>4208</td>\n",
       "      <td>6812</td>\n",
       "      <td>4608</td>\n",
       "      <td>4464</td>\n",
       "      <td>4384</td>\n",
       "      <td>1728</td>\n",
       "      <td>4748</td>\n",
       "    </tr>\n",
       "  </tbody>\n",
       "</table>\n",
       "</div>"
      ],
      "text/plain": [
       "       edible-poisonous gill-spacing stalk-shape stalk-color-above-ring  \\\n",
       "count              8124         8124        8124                   8124   \n",
       "unique                2            2           2                      9   \n",
       "top              edible        close    tapering                  white   \n",
       "freq               4208         6812        4608                   4464   \n",
       "\n",
       "       stalk-color-below-ring gill-color bruised  \n",
       "count                    8124       8124    8124  \n",
       "unique                      9         12       2  \n",
       "top                     white       buff   False  \n",
       "freq                     4384       1728    4748  "
      ]
     },
     "execution_count": 31,
     "metadata": {},
     "output_type": "execute_result"
    }
   ],
   "source": [
    "df.describe()"
   ]
  },
  {
   "cell_type": "markdown",
   "metadata": {
    "slideshow": {
     "slide_type": "slide"
    }
   },
   "source": [
    "#### 1) If you picked a row from this dataset at random, what is the probability it corresponds to a bruised mushroom? \n",
    "\n",
    "In other words, find $P(bruised)$"
   ]
  },
  {
   "cell_type": "code",
   "execution_count": 35,
   "metadata": {},
   "outputs": [],
   "source": [
    "#) If you picked a row from this dataset at random, what is the probability \n",
    "#it corresponds to a bruised mushroom?\n",
    "#looking for an individusal qualifer \n",
    "event_space =len(df.loc[df['bruised'] == True])\n",
    "#dividing that by the total space\n",
    "sample_space = len(df)"
   ]
  },
  {
   "cell_type": "code",
   "execution_count": 37,
   "metadata": {},
   "outputs": [
    {
     "data": {
      "text/plain": [
       "0.4155588380108321"
      ]
     },
     "execution_count": 37,
     "metadata": {},
     "output_type": "execute_result"
    }
   ],
   "source": [
    "p_bruised = event_space/sample_space\n",
    "p_bruised"
   ]
  },
  {
   "cell_type": "code",
   "execution_count": 39,
   "metadata": {
    "slideshow": {
     "slide_type": "notes"
    }
   },
   "outputs": [
    {
     "data": {
      "text/plain": [
       "False    0.584441\n",
       "True     0.415559\n",
       "Name: bruised, dtype: float64"
      ]
     },
     "execution_count": 39,
     "metadata": {},
     "output_type": "execute_result"
    }
   ],
   "source": [
    "# Another way\n",
    "df['bruised'].value_counts(normalize=True)"
   ]
  },
  {
   "cell_type": "code",
   "execution_count": null,
   "metadata": {
    "scrolled": true
   },
   "outputs": [],
   "source": [
    "# Let's see...\n",
    "df.sample(1)"
   ]
  },
  {
   "cell_type": "markdown",
   "metadata": {
    "slideshow": {
     "slide_type": "slide"
    }
   },
   "source": [
    "#### 2) What is the probability you pick a row corresponding to a mushroom that is bruised _AND_ edible?"
   ]
  },
  {
   "cell_type": "markdown",
   "metadata": {},
   "source": [
    "$P(edible \\cap bruised)$\n",
    "\n",
    "BUT! Are they independent events ...?\n"
   ]
  },
  {
   "cell_type": "code",
   "execution_count": 40,
   "metadata": {
    "slideshow": {
     "slide_type": "notes"
    }
   },
   "outputs": [],
   "source": [
    "##### 2) What is the probability you pick a row corresponding\n",
    "#to a mushroom that is bruised _AND_ edible?\n",
    "\n",
    "p_bruised_and_edible = df[(df['bruised'] == True) & (df['edible-poisonous'] == 'edible')].shape[0]/df.shape[0]"
   ]
  },
  {
   "cell_type": "code",
   "execution_count": 41,
   "metadata": {
    "scrolled": true,
    "slideshow": {
     "slide_type": "notes"
    }
   },
   "outputs": [
    {
     "data": {
      "text/plain": [
       "0.33874938453963566"
      ]
     },
     "execution_count": 41,
     "metadata": {},
     "output_type": "execute_result"
    }
   ],
   "source": [
    "p_bruised_and_edible"
   ]
  },
  {
   "cell_type": "markdown",
   "metadata": {},
   "source": [
    "Are being bruised and being edible independent of each other?\n",
    "\n",
    "> Formally, $A$ and $B$ are *independent* if and only if the probability that *both* $A$ *and* $B$ happen is:\n",
    "> \n",
    "> $$\\large P(A \\cap B) = P(A) * P(B)$$"
   ]
  },
  {
   "cell_type": "code",
   "execution_count": 42,
   "metadata": {
    "scrolled": true
   },
   "outputs": [
    {
     "data": {
      "text/plain": [
       "0.4155588380108321"
      ]
     },
     "execution_count": 42,
     "metadata": {},
     "output_type": "execute_result"
    }
   ],
   "source": [
    "p_bruised"
   ]
  },
  {
   "cell_type": "code",
   "execution_count": 43,
   "metadata": {},
   "outputs": [
    {
     "data": {
      "text/plain": [
       "0.517971442639094"
      ]
     },
     "execution_count": 43,
     "metadata": {},
     "output_type": "execute_result"
    }
   ],
   "source": [
    "p_edible = len(df[df['edible-poisonous'] == 'edible']) / len(df)\n",
    "p_edible"
   ]
  },
  {
   "cell_type": "code",
   "execution_count": 44,
   "metadata": {
    "scrolled": true
   },
   "outputs": [
    {
     "data": {
      "text/plain": [
       "0.21524761082589627"
      ]
     },
     "execution_count": 44,
     "metadata": {},
     "output_type": "execute_result"
    }
   ],
   "source": [
    "p_bruised * p_edible"
   ]
  },
  {
   "cell_type": "code",
   "execution_count": 45,
   "metadata": {},
   "outputs": [
    {
     "data": {
      "text/plain": [
       "False"
      ]
     },
     "execution_count": 45,
     "metadata": {},
     "output_type": "execute_result"
    }
   ],
   "source": [
    "p_bruised_and_edible == p_bruised * p_edible"
   ]
  },
  {
   "cell_type": "markdown",
   "metadata": {
    "slideshow": {
     "slide_type": "slide"
    }
   },
   "source": [
    "## Enter: Conditional Probability\n",
    "\n",
    "### When do we compute conditional probabilities? \n",
    "\n",
    "We need to compute conditional probabilities when the outcome of an event depends on the outcome of previous events (**dependent** events). A conditional probability of an event is the probability of the event *given* another event has occurred.\n"
   ]
  },
  {
   "cell_type": "markdown",
   "metadata": {
    "hidden": true
   },
   "source": [
    "When events _are_ independent, the rule for probabilistic AND (I'll use '$\\cap$' below) is simple:\n",
    "\n",
    "$$\\large P(A\\cap B) = P(A) * P(B)$$"
   ]
  },
  {
   "cell_type": "markdown",
   "metadata": {
    "hidden": true
   },
   "source": [
    "But the more general rule, which includes non-independent events, is:\n",
    "\n",
    "$$\\large P(A\\cap B) = P(A | B) * P(B)$$\n",
    "\n",
    "> (this is pretty much the law of total probability, we'll revisit this later!)"
   ]
  },
  {
   "cell_type": "markdown",
   "metadata": {
    "hidden": true
   },
   "source": [
    "In fact, this is the definition of conditional probability. Rearranging:\n",
    "\n",
    "$$\\large P(A | B) = \\frac{P(A\\cap B)}{P(B)}$$"
   ]
  },
  {
   "cell_type": "markdown",
   "metadata": {},
   "source": [
    "The `|` here should be read as \"given\". We are given some information, $B$, and thus it reduces our sample space!"
   ]
  },
  {
   "cell_type": "markdown",
   "metadata": {},
   "source": [
    "### Back to our Mushrooms!"
   ]
  },
  {
   "cell_type": "markdown",
   "metadata": {
    "slideshow": {
     "slide_type": "slide"
    }
   },
   "source": [
    "#### 3) What is the probability of picking an edible mushroom given it is bruised? \n",
    "\n",
    "$P(edible | bruised)$"
   ]
  },
  {
   "cell_type": "code",
   "execution_count": 46,
   "metadata": {
    "scrolled": true,
    "slideshow": {
     "slide_type": "notes"
    }
   },
   "outputs": [
    {
     "data": {
      "text/plain": [
       "0.8151658767772512"
      ]
     },
     "execution_count": 46,
     "metadata": {},
     "output_type": "execute_result"
    }
   ],
   "source": [
    "# What is the probability of picking an edible mushroom given it is bruised? \n",
    "\n",
    "p_edible_given_bruised = p_bruised_and_edible / p_bruised\n",
    "p_edible_given_bruised"
   ]
  },
  {
   "cell_type": "code",
   "execution_count": 48,
   "metadata": {
    "slideshow": {
     "slide_type": "notes"
    }
   },
   "outputs": [
    {
     "data": {
      "text/plain": [
       "edible       0.815166\n",
       "poisonous    0.184834\n",
       "Name: edible-poisonous, dtype: float64"
      ]
     },
     "execution_count": 48,
     "metadata": {},
     "output_type": "execute_result"
    }
   ],
   "source": [
    "# Same as checking using value_counts\n",
    "bruised = df[df['bruised'] == True] # just bruised mushrooms\n",
    "bruised['edible-poisonous'].value_counts(normalize=True)"
   ]
  },
  {
   "cell_type": "markdown",
   "metadata": {
    "slideshow": {
     "slide_type": "slide"
    }
   },
   "source": [
    "#### 4) What is the probability of picking a bruised mushroom given it is edible? \n",
    "\n",
    "$P(bruised | edible)$"
   ]
  },
  {
   "cell_type": "code",
   "execution_count": 50,
   "metadata": {
    "slideshow": {
     "slide_type": "notes"
    }
   },
   "outputs": [
    {
     "data": {
      "text/plain": [
       "0.517971442639094"
      ]
     },
     "execution_count": 50,
     "metadata": {},
     "output_type": "execute_result"
    }
   ],
   "source": [
    "# What is the probability of picking a bruised mushroom given it is edible? \n",
    "p_edible = df[df['edible-poisonous'] == 'edible' ].shape[0]/df.shape[0]\n",
    "p_edible"
   ]
  },
  {
   "cell_type": "code",
   "execution_count": 51,
   "metadata": {
    "slideshow": {
     "slide_type": "notes"
    }
   },
   "outputs": [
    {
     "data": {
      "text/plain": [
       "0.6539923954372624"
      ]
     },
     "execution_count": 51,
     "metadata": {},
     "output_type": "execute_result"
    }
   ],
   "source": [
    "p_bruised_given_edible = p_bruised_and_edible/p_edible\n",
    "p_bruised_given_edible"
   ]
  },
  {
   "cell_type": "code",
   "execution_count": 52,
   "metadata": {
    "slideshow": {
     "slide_type": "notes"
    }
   },
   "outputs": [
    {
     "data": {
      "text/plain": [
       "True     0.653992\n",
       "False    0.346008\n",
       "Name: bruised, dtype: float64"
      ]
     },
     "execution_count": 52,
     "metadata": {},
     "output_type": "execute_result"
    }
   ],
   "source": [
    "edible = df[df['edible-poisonous'] == 'edible']\n",
    "edible['bruised'].value_counts(normalize=True)"
   ]
  },
  {
   "cell_type": "markdown",
   "metadata": {
    "slideshow": {
     "slide_type": "slide"
    }
   },
   "source": [
    "### Intuition behind conditional probability: \n",
    "\n",
    "How do you compute the probability that mushrooms are edible given they are bruised? \n",
    "\n",
    "When you ask the question \"what is the probability that the mushrooms are edible and bruised?\", the sample space originally contains all 8124 rows of mushrooms. \n",
    "\n",
    "<img src=\"images/Image_72_Cond4.png\" width=\"300\">\n",
    "\n",
    "However, to compute the probability that the mushrooms are edible given they are bruised, you need to consider the reduced size of the sample space. \n",
    "\n",
    "In the image above, S is the universe of all mushrooms in the dataset, A is the set of mushrooms that are edible, and B is the set of mushrooms that are bruised.\n",
    "\n",
    "* When you ask the question \"what is the probability that the mushrooms are edible given the mushrooms are bruised?\", you have effectively reduced the size of the sample space to include only those mushrooms that are bruised. \n",
    "\n",
    "* Given that mushrooms are bruised, the only way for the mushrooms to be edible is for these mushrooms to fall in the intersection of the set of mushrooms that are edible _and_ the set of mushrooms that are bruised , $P(edible \\cap bruised)$.  \n",
    "\n",
    "* To account for the smaller sample space, you divide the probability mushrooms are edible and bruised by the probability the mushrooms are bruised: $$\\large P(edible|bruised) = \\frac{P(edible \\cap bruised)}{P(bruised)}$$\n",
    "\n",
    "\n"
   ]
  },
  {
   "cell_type": "markdown",
   "metadata": {},
   "source": [
    "## Law of Total Probability\n",
    "\n",
    "Sometimes we want to calculate an **unconditional** probability by making use of some **conditional** probabilities. Enter the Law of Total Probability:\n",
    "\n",
    "$$\\large P(A)=\\sum _{n}P(A\\cap B_{n})$$\n",
    "\n",
    "Which works out to: \n",
    "\n",
    "$$\\large P(A)=\\sum _{n}P(A\\mid B_{n}) * P(B_{n})$$\n",
    "\n",
    "Where $B_{n}$ captures all of the disjoint events that combine to define the sample space, so $\\sum P(B_{n}) = 1$.\n",
    "\n",
    "#### In practice:\n",
    "\n",
    "Let's say we want to know the likelihood that a mushroom is **edible**. If we know the likelihood that all tapering stalk mushrooms are edible, and the likelihood that not-tapering-stalk mushrooms are edible, plus how likely it is that mushrooms have tapering stalks (and thus also how likely the mushroom does _not_ have a tapering stalk, the compliment of the mushrooms having a tapering stalk) - well, we can use all of that to find the likelihood our mushroom will be edible! \n",
    "\n",
    "$$\\large P(\\text{edible}) = P(\\text{edible} | \\text{tapering}) * P(\\text{tapering}) + P(\\text{edible} | \\text{not tapering}) * P(\\text{not tapering})$$\n",
    "\n",
    "We can do this because 'tapering stalk' and 'not tapering stalk' capture all of the possibilities of mushrooms - they define our entire sample space!"
   ]
  },
  {
   "cell_type": "code",
   "execution_count": null,
   "metadata": {},
   "outputs": [],
   "source": [
    "# First let's find our tapering and not-tapering subsets\n",
    "tapering = df.loc[df['stalk-shape'] == 'tapering']\n",
    "\n",
    "not_tapering = df.loc[df['stalk-shape'] != 'tapering']"
   ]
  },
  {
   "cell_type": "code",
   "execution_count": null,
   "metadata": {},
   "outputs": [],
   "source": [
    "# Calculate our probability of tapering, and probability of not-tapering\n",
    "p_tapering = len(tapering) / len(df)\n",
    "\n",
    "p_not_tapering = len(not_tapering) / len(df)\n",
    "# same as \n",
    "# p_not_tapering = 1 - p_tapering"
   ]
  },
  {
   "cell_type": "code",
   "execution_count": null,
   "metadata": {},
   "outputs": [],
   "source": [
    "# Now calculate our two conditional probabilties\n",
    "p_edible_given_tapering = len(\n",
    "    tapering.loc[tapering['edible-poisonous'] == 'edible']) / len(tapering)\n",
    "\n",
    "p_edible_given_not_tapering = len(\n",
    "    not_tapering.loc[not_tapering['edible-poisonous'] == 'edible']) / len(not_tapering)"
   ]
  },
  {
   "cell_type": "code",
   "execution_count": null,
   "metadata": {},
   "outputs": [],
   "source": [
    "# Do the math!\n",
    "p_edible_given_tapering * p_tapering + p_edible_given_not_tapering * p_not_tapering"
   ]
  },
  {
   "cell_type": "code",
   "execution_count": null,
   "metadata": {},
   "outputs": [],
   "source": [
    "# Sanity check\n",
    "len(df.loc[df['edible-poisonous'] == 'edible'])/len(df)"
   ]
  },
  {
   "cell_type": "markdown",
   "metadata": {
    "slideshow": {
     "slide_type": "slide"
    }
   },
   "source": [
    "## Partitioning Complex Events\n",
    "\n",
    "You're not really a mushroom expert, but you can see that the mushroom in your hand is has some orange on the stalk. Given the data at your disposal, what's the probability that the mushroom is edible?\n",
    "\n"
   ]
  },
  {
   "cell_type": "markdown",
   "metadata": {
    "slideshow": {
     "slide_type": "notes"
    }
   },
   "source": [
    "$$\\large P(\\text{edible|orange stalk}) = \\frac{P(\\text{edible} \\cap \\text{orange stalk})}{P(\\text{orange stalk})}$$\n",
    "\n",
    "Furthermore, we can decompose $P(\\text{orange stalk})$ into the two possibilities:\n",
    "\n",
    "$P(\\text{orange stalk}) = P(\\text{orange stalk below ring}\\cup\\text{orange stalk above ring})$\n",
    "\n",
    "But be careful here! \n",
    "\n",
    "$P(\\text{orange stalk below ring}\\cup \\text{orange stalk above ring})$ **DOES NOT EQUAL** $P(\\text{orange stalk below ring}) + P(\\text{orange stalk above ring})$\n",
    "\n",
    "While this may seem correct, adding these individual probabilities **double counts** mushrooms which have entirely orange stalks. However - when we do these things in Pandas (using a loc and an or condition), it won't duplicate the row - so you don't need to worry about it here!"
   ]
  },
  {
   "cell_type": "code",
   "execution_count": null,
   "metadata": {},
   "outputs": [],
   "source": [
    "# Can prove that P(orange above) + P(orange below) != p(orange stalk)\n",
    "p_orange_above = df[df['stalk-color-above-ring'] == 'orange'].shape[0]/df.shape[0]\n",
    "p_orange_below = df[df['stalk-color-below-ring'] == 'orange'].shape[0]/df.shape[0]"
   ]
  },
  {
   "cell_type": "code",
   "execution_count": null,
   "metadata": {},
   "outputs": [],
   "source": [
    "p_orange_stalk = df[(df['stalk-color-above-ring'] == 'orange')\n",
    "                    | (df['stalk-color-below-ring'] == 'orange')\n",
    "                    ].shape[0]/df.shape[0]"
   ]
  },
  {
   "cell_type": "code",
   "execution_count": null,
   "metadata": {},
   "outputs": [],
   "source": [
    "p_orange_stalk == (p_orange_above + p_orange_below)"
   ]
  },
  {
   "cell_type": "code",
   "execution_count": null,
   "metadata": {
    "scrolled": true,
    "slideshow": {
     "slide_type": "notes"
    }
   },
   "outputs": [],
   "source": [
    "# Now let's find P(edible | orange stalk)\n",
    "p_edible_and_orange = df[((df['stalk-color-above-ring'] == 'orange')\n",
    "                          | (df['stalk-color-below-ring'] == 'orange')\n",
    "                          )\n",
    "                         & (df['edible-poisonous'] == 'edible')\n",
    "                         ].shape[0]/df.shape[0]\n",
    "\n",
    "p_edible_given_orange = p_edible_and_orange / p_orange_stalk\n",
    "\n",
    "p_edible_given_orange\n",
    "\n",
    "# Apparently orange-stalk mushrooms seem fairly safe....\n",
    "# (Disclaimer: don't take this as definitive foraging adivce!)"
   ]
  },
  {
   "cell_type": "code",
   "execution_count": null,
   "metadata": {},
   "outputs": [],
   "source": [
    "# Sanity check...\n",
    "df.loc[(df['stalk-color-above-ring'] == 'orange')\n",
    "       | (df['stalk-color-below-ring'] == 'orange')]['edible-poisonous'].value_counts()"
   ]
  },
  {
   "cell_type": "markdown",
   "metadata": {
    "slideshow": {
     "slide_type": "slide"
    }
   },
   "source": [
    "## Extra Credit: Additional Conditional Probability Practice\n",
    "\n",
    "What's the probability that a mushroom is poisonous if it has close gill spacing AND a tapering stalk?\n",
    "\n",
    "$$\\large P(poisonous|close \\cap tapering) = \\frac{P(poisonous \\cap close \\cap tapering)}{P(close \\cap tapering)}$$"
   ]
  },
  {
   "cell_type": "code",
   "execution_count": null,
   "metadata": {
    "slideshow": {
     "slide_type": "notes"
    }
   },
   "outputs": [],
   "source": [
    "# P that mushroom is poisonous given close gill spacing and tapering stalk\n"
   ]
  }
 ],
 "metadata": {
  "kernelspec": {
   "display_name": "Python (learn-env)",
   "language": "python",
   "name": "learn-env"
  },
  "language_info": {
   "codemirror_mode": {
    "name": "ipython",
    "version": 3
   },
   "file_extension": ".py",
   "mimetype": "text/x-python",
   "name": "python",
   "nbconvert_exporter": "python",
   "pygments_lexer": "ipython3",
   "version": "3.8.5"
  }
 },
 "nbformat": 4,
 "nbformat_minor": 4
}
